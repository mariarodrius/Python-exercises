{
 "cells": [
  {
   "cell_type": "code",
   "execution_count": 6,
   "id": "a4d71c9a",
   "metadata": {},
   "outputs": [],
   "source": [
    "#import pandas as pd\n",
    "#df = pd.read_csv('https://query.data.world/s/5dpnyov52z2lsghtptp4v6n473tm6l')\n",
    "#print(df.to_string()) ###is not necessary\n",
    "\n",
    "#print(df.head(10))\n",
    "#print(df.tail(5))\n",
    "\n",
    "#dft=df.T\n",
    "#print(dft)\n",
    "\n",
    "#print(df.info())  #to see if there is a need to fill in gaps in data or corret data types\n",
    "\n",
    "#df.dropna(inplace = True)  #to remove missing values. #https://www.w3resource.com/pandas/dataframe/dataframe-dropna.php \n",
    "\n",
    "#print(df.to_string())\n",
    "\n",
    "#df.corr()  #https://www.geeksforgeeks.org/python-pandas-dataframe-corr/\n",
    "            #The corr() method calculates the relationship between each column in your data set.\n",
    "            #https://www.w3schools.com/python/pandas/pandas_correlations.asp\n",
    "\n",
    "#import matplotlib.pyplot as plt\n",
    "#df.plot()\n",
    "#plt.show()\n",
    "\n",
    "#df[\"2016\"].plot(kind = 'hist')\n",
    "\n",
    "#df.plot(kind = 'scatter', x = '2002, y = '2016')  #plots the simple one data set graph\n",
    "\n",
    "#plt.show()   #https://www.geeksforgeeks.org/matplotlib-pyplot-show-in-python/ \n",
    "              #relevant to joint-print different sections of a graph, i.e. if they follow different equations, for example\n",
    "\n",
    "#print(df[])\n",
    "\n",
    "#df[\"2002\"]=df[\"2002\"]/1000\n",
    "\n",
    "#df[\"2002\"]=df[\"2002\"]/1000000\n",
    "#print(df[\"2002\"])\n",
    "\n",
    "#df.plot(kind = 'scatter', x = '2002', y = '2016')\n",
    "\n",
    "#dfc=df.T\n",
    "#print(dfc)\n",
    "\n",
    "#dfc.plot(kind = 'scatter', x = 'Item', y = 'TOTAL')\n",
    "#print(df[\"Item\"])\n",
    "\n",
    "#dfc.iloc[0]  # Dataframe.iloc[] method is used when the index label of a data frame \n",
    "              #is something other than numeric series of 0, 1, 2, 3….n or in case the user doesn’t know the index label. \n",
    "              #Rows can be extracted using an imaginary index position which isn’t visible in the data frame.\n",
    "              #https://www.geeksforgeeks.org/python-extracting-rows-using-pandas-iloc/\n",
    "\n",
    "#print(dfc[1])\n",
    "\n",
    "#print(df.index)\n",
    "\n",
    "#!pip install seaborn\n",
    "#import seaborn\n",
    "#x = np.linspace(0, 2, 10)\n",
    "#plt.plot(x, 'o-');\n",
    "#The o will produce a small circle.\n",
    "#The - will produce a solid line to connect the markers.\n",
    "\n",
    "#sns.boxplot(x ='Item', y ='2002', data = df)\n",
    "\n",
    "#pd.melt(df, id_vars = 'Item',var_name='Year', value_name ='No of Transactions')  \n",
    "    #https://pythoninoffice.com/turn-pandas-dataframe-from-wide-to-long-format/\n",
    "\n",
    "#The function dataframe. isnull(). sum(). sum() returns the number of missing values in the data set.\n",
    "#https://miamioh.instructure.com/courses/38817/pages/data-cleaning#:~:text=in%20the%20data.-,The%20function%20dataframe.,values%20in%20the%20data%20set."
   ]
  },
  {
   "cell_type": "code",
   "execution_count": 1,
   "id": "28702ad6",
   "metadata": {},
   "outputs": [
    {
     "name": "stdout",
     "output_type": "stream",
     "text": [
      "                                                  Item         2002  \\\n",
      "0                                                TOTAL -35876109830   \n",
      "1                   994--Estimated Low Value Shipments    623484621   \n",
      "2    992--EXPORTS NOT OVER $10;000(TO 3/98) $20;000...     15113368   \n",
      "3      984--Estimate Of Low Valued Import Transactions  -1172025052   \n",
      "4                               971--Gold; Nonmonetary     17811824   \n",
      "..                                                 ...          ...   \n",
      "260    017--Meat & Edible Offal; Prepared Or Preserved       232697   \n",
      "261  016--Meat & Edible Offal; Salted; Dried; or Sm...     -2926633   \n",
      "262                     012--Other Meat & Edible Offal      7058957   \n",
      "263                        011--Meat Of Bovine Animals      3108613   \n",
      "264                                  001--Live Animals    -30360786   \n",
      "\n",
      "            2003         2004         2005         2006         2007  \\\n",
      "0   -39280825289 -45849692767 -50567215101 -47922933506 -44744392499   \n",
      "1      678119775    695549518    741823127    944869594   1108320259   \n",
      "2        8010114      4729046      4994816      3002118      2235615   \n",
      "3    -1312534635  -1487019545  -1633399445  -1718387557  -1827305897   \n",
      "4       27014109     14962071    129760760    166616887    233025975   \n",
      "..           ...          ...          ...          ...          ...   \n",
      "260       587111       372075      -195323      -345740      1073217   \n",
      "261     -3535514     -4199496     -4552923     -4932715     -2953140   \n",
      "262     13428973      4087996      8752184      6336684      5950410   \n",
      "263      2365935      3267623      3874812      3862743      5550502   \n",
      "264    -34159033    -30794939    -42622962    -58302207    -76193105   \n",
      "\n",
      "            2008         2009         2010         2011         2012  \\\n",
      "0   -42991317994 -28191895873 -34295148642 -49390148480 -60422803955   \n",
      "1     1270847697   1010225443   1535328229   1141837603   1094869804   \n",
      "2         888789            0            0            0            0   \n",
      "3    -1910014121  -1382495729   -943830629  -1060704872   -982543139   \n",
      "4      289103793    115709526    301993558    271600143    242058414   \n",
      "..           ...          ...          ...          ...          ...   \n",
      "260       378413      1069136      1232956      4042398      4293856   \n",
      "261     -3141828     -3230454     -3365269     -4229613     -3355731   \n",
      "262      9471908      5700577      5573072      6855249      6892779   \n",
      "263     11033788      5960413     13289911     21634983     32813301   \n",
      "264    -42991222    -23891843    -12669104    -28672342    -83193231   \n",
      "\n",
      "            2013         2014         2015         2016  \n",
      "0   -66978434378 -74808561932 -74849665112 -64865434126  \n",
      "1     1061840204   1096943222   1115401191   1110454100  \n",
      "2              0            0            0            0  \n",
      "3     -966186434  -1403556177  -1402435613  -1382227006  \n",
      "4      456799215    217264765     65091374     90565147  \n",
      "..           ...          ...          ...          ...  \n",
      "260      3834191      5842935      4982928     -2868839  \n",
      "261     -3655768     -3988141     -2497766     -2574818  \n",
      "262      6655262      5289910      5416925      2871871  \n",
      "263     35029608     35120544     33279257     25012048  \n",
      "264   -115358684   -136678678   -189066016   -203640632  \n",
      "\n",
      "[265 rows x 16 columns]\n"
     ]
    }
   ],
   "source": [
    "import pandas as pd\n",
    "import matplotlib.pyplot as plt\n",
    "df = pd.read_csv('https://query.data.world/s/5dpnyov52z2lsghtptp4v6n473tm6l')\n",
    "print(df)\n",
    "#print(df.to_string()) ###is not necessary\n",
    "#dfc=df.T\n",
    "#print(dfc)\n",
    "#dfc.iloc[0]"
   ]
  },
  {
   "cell_type": "code",
   "execution_count": 2,
   "id": "dc667ede",
   "metadata": {},
   "outputs": [
    {
     "name": "stdout",
     "output_type": "stream",
     "text": [
      "<class 'pandas.core.frame.DataFrame'>\n",
      "RangeIndex: 265 entries, 0 to 264\n",
      "Data columns (total 16 columns):\n",
      " #   Column  Non-Null Count  Dtype \n",
      "---  ------  --------------  ----- \n",
      " 0   Item    265 non-null    object\n",
      " 1   2002    265 non-null    int64 \n",
      " 2   2003    265 non-null    int64 \n",
      " 3   2004    265 non-null    int64 \n",
      " 4   2005    265 non-null    int64 \n",
      " 5   2006    265 non-null    int64 \n",
      " 6   2007    265 non-null    int64 \n",
      " 7   2008    265 non-null    int64 \n",
      " 8   2009    265 non-null    int64 \n",
      " 9   2010    265 non-null    int64 \n",
      " 10  2011    265 non-null    int64 \n",
      " 11  2012    265 non-null    int64 \n",
      " 12  2013    265 non-null    int64 \n",
      " 13  2014    265 non-null    int64 \n",
      " 14  2015    265 non-null    int64 \n",
      " 15  2016    265 non-null    int64 \n",
      "dtypes: int64(15), object(1)\n",
      "memory usage: 33.2+ KB\n",
      "None\n"
     ]
    }
   ],
   "source": [
    "print(df.info())"
   ]
  },
  {
   "cell_type": "code",
   "execution_count": 5,
   "id": "ba5db776",
   "metadata": {},
   "outputs": [
    {
     "name": "stdout",
     "output_type": "stream",
     "text": [
      "RangeIndex(start=0, stop=265, step=1)\n"
     ]
    }
   ],
   "source": [
    "print(df.index)"
   ]
  },
  {
   "cell_type": "code",
   "execution_count": null,
   "id": "d525abe3",
   "metadata": {},
   "outputs": [],
   "source": []
  }
 ],
 "metadata": {
  "kernelspec": {
   "display_name": "Python 3 (ipykernel)",
   "language": "python",
   "name": "python3"
  },
  "language_info": {
   "codemirror_mode": {
    "name": "ipython",
    "version": 3
   },
   "file_extension": ".py",
   "mimetype": "text/x-python",
   "name": "python",
   "nbconvert_exporter": "python",
   "pygments_lexer": "ipython3",
   "version": "3.9.12"
  }
 },
 "nbformat": 4,
 "nbformat_minor": 5
}
