{
 "cells": [
  {
   "cell_type": "code",
   "execution_count": 15,
   "id": "0d71829f",
   "metadata": {},
   "outputs": [],
   "source": [
    "#https://peps.python.org/pep-0008/  check on PEP 8 – Style Guide for Python Code and GitHub CoPilot as plug-in.\n",
    "class Pet:\n",
    "    def __init__(self, name, species):  #needs space between def and __. Note also that it is double \"__\" not single \"_\"\n",
    "        self.name=name\n",
    "        self.species=species\n",
    "        \n",
    "    def hello(self):\n",
    "        print(f\"Hello! My name is {self.name} and I am a {self.species}\")\n",
    "        \n",
    "class Cat(Pet):   #to 'inherit' data from the class Pet above; i.e. copy stuff. because it is a copy, now we need the ().\n",
    "    def purr(self):\n",
    "        print(f\"{self.name} purrs\")\n",
    "        \n",
    "class Dog(Pet):   #to 'inherit' data from the class Pet above; i.e. copy stuff. because it is a copy, now we need the ().\n",
    "    def bark(self):\n",
    "        print(f\"{self.name} barks\")\n",
    "        \n"
   ]
  },
  {
   "cell_type": "code",
   "execution_count": 11,
   "id": "e304f0ea",
   "metadata": {
    "scrolled": false
   },
   "outputs": [],
   "source": [
    "kiki=Pet(name=\"Kiki\", species=\"dog\")\n",
    "mizi=Pet(name=\"Mizi\", species=\"cat\")"
   ]
  },
  {
   "cell_type": "code",
   "execution_count": 12,
   "id": "d3c1e126",
   "metadata": {},
   "outputs": [
    {
     "data": {
      "text/plain": [
       "'Kiki'"
      ]
     },
     "execution_count": 12,
     "metadata": {},
     "output_type": "execute_result"
    }
   ],
   "source": [
    "kiki.name"
   ]
  },
  {
   "cell_type": "code",
   "execution_count": 18,
   "id": "4355e915",
   "metadata": {
    "scrolled": true
   },
   "outputs": [
    {
     "ename": "AttributeError",
     "evalue": "'Pet' object has no attribute 'purr'",
     "output_type": "error",
     "traceback": [
      "\u001b[1;31m---------------------------------------------------------------------------\u001b[0m",
      "\u001b[1;31mAttributeError\u001b[0m                            Traceback (most recent call last)",
      "Input \u001b[1;32mIn [18]\u001b[0m, in \u001b[0;36m<cell line: 1>\u001b[1;34m()\u001b[0m\n\u001b[1;32m----> 1\u001b[0m \u001b[43mmizi\u001b[49m\u001b[38;5;241;43m.\u001b[39;49m\u001b[43mpurr\u001b[49m()\n\u001b[0;32m      2\u001b[0m mizi\u001b[38;5;241m.\u001b[39mbark()\n",
      "\u001b[1;31mAttributeError\u001b[0m: 'Pet' object has no attribute 'purr'"
     ]
    }
   ],
   "source": [
    "mizi.purr()\n",
    "mizi.bark()"
   ]
  },
  {
   "cell_type": "code",
   "execution_count": 19,
   "id": "40786e5b",
   "metadata": {},
   "outputs": [
    {
     "ename": "SyntaxError",
     "evalue": "invalid syntax (3750550395.py, line 7)",
     "output_type": "error",
     "traceback": [
      "\u001b[1;36m  Input \u001b[1;32mIn [19]\u001b[1;36m\u001b[0m\n\u001b[1;33m    def name(self)\u001b[0m\n\u001b[1;37m                  ^\u001b[0m\n\u001b[1;31mSyntaxError\u001b[0m\u001b[1;31m:\u001b[0m invalid syntax\n"
     ]
    }
   ],
   "source": [
    "class Car:\n",
    "    def __init__(self, model, year):\n",
    "        self.model=model\n",
    "        self.year=year\n",
    "        \n",
    "class VW(Car):\n",
    "    def iam(self)\n",
    "        print ('I am a VW')\n",
    "        print(f\"{self.model} from VW\")\n",
    "        \n",
    "    def speed(self):\n",
    "        print('speed limit is 120km/h')"
   ]
  },
  {
   "cell_type": "code",
   "execution_count": 20,
   "id": "35b7a707",
   "metadata": {},
   "outputs": [
    {
     "ename": "AttributeError",
     "evalue": "'Car' object has no attribute 'speed'",
     "output_type": "error",
     "traceback": [
      "\u001b[1;31m---------------------------------------------------------------------------\u001b[0m",
      "\u001b[1;31mAttributeError\u001b[0m                            Traceback (most recent call last)",
      "Input \u001b[1;32mIn [20]\u001b[0m, in \u001b[0;36m<cell line: 2>\u001b[1;34m()\u001b[0m\n\u001b[0;32m      1\u001b[0m vw1\u001b[38;5;241m=\u001b[39mCar(model\u001b[38;5;241m=\u001b[39m\u001b[38;5;124m'\u001b[39m\u001b[38;5;124mmodel1\u001b[39m\u001b[38;5;124m'\u001b[39m, year\u001b[38;5;241m=\u001b[39m\u001b[38;5;124m'\u001b[39m\u001b[38;5;124m2015\u001b[39m\u001b[38;5;124m'\u001b[39m)\n\u001b[1;32m----> 2\u001b[0m \u001b[43mvw1\u001b[49m\u001b[38;5;241;43m.\u001b[39;49m\u001b[43mspeed\u001b[49m()\n\u001b[0;32m      3\u001b[0m vw1\u001b[38;5;241m.\u001b[39miam()\n",
      "\u001b[1;31mAttributeError\u001b[0m: 'Car' object has no attribute 'speed'"
     ]
    }
   ],
   "source": [
    "vw1=Car(model='model1', year='2015')\n",
    "vw1.speed()\n",
    "vw1.iam()"
   ]
  },
  {
   "cell_type": "code",
   "execution_count": null,
   "id": "58ea8104",
   "metadata": {},
   "outputs": [],
   "source": []
  }
 ],
 "metadata": {
  "kernelspec": {
   "display_name": "Python 3 (ipykernel)",
   "language": "python",
   "name": "python3"
  },
  "language_info": {
   "codemirror_mode": {
    "name": "ipython",
    "version": 3
   },
   "file_extension": ".py",
   "mimetype": "text/x-python",
   "name": "python",
   "nbconvert_exporter": "python",
   "pygments_lexer": "ipython3",
   "version": "3.9.12"
  }
 },
 "nbformat": 4,
 "nbformat_minor": 5
}
