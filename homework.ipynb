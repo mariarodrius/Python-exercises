{
 "cells": [
  {
   "cell_type": "markdown",
   "id": "cc022903",
   "metadata": {},
   "source": [
    "# Homework"
   ]
  },
  {
   "cell_type": "markdown",
   "id": "34cdc05e",
   "metadata": {},
   "source": [
    "## Task 0 - Comments"
   ]
  },
  {
   "cell_type": "markdown",
   "id": "9b6008a3",
   "metadata": {},
   "source": [
    "Comments are lines of code that Python will intentionally ignore. Comments are a great way to leave notes to yourself and to other people who will later need to figure out what that code does.\n",
    "\n",
    "There are two ways to write comments in Python:\n",
    "\n",
    "Using # will tell Python to ignore the remainder of the text on the current line. This is an in-line comment:"
   ]
  },
  {
   "cell_type": "code",
   "execution_count": null,
   "id": "115c9870",
   "metadata": {},
   "outputs": [],
   "source": [
    "# This is an in-line comment."
   ]
  },
  {
   "cell_type": "markdown",
   "id": "9de13137",
   "metadata": {},
   "source": [
    "NOTE: As you write code, you should regularly add comments to clarify the function of parts of your code. Good commenting can help communicate the intent of your code—both for others and for your future self.\n",
    "\n",
    "For each of the following tasks, add a comment about your code that states which task you are working on (ex. `# Code for task 12`). Once you have completed a task, you can comment out the printed value from that section, so that you do not continue to see the output of all the previous tasks each time. (There isn't a real output for this task!)"
   ]
  },
  {
   "cell_type": "markdown",
   "id": "5e122c25",
   "metadata": {},
   "source": [
    "## Task 1 - Declare Variables"
   ]
  },
  {
   "cell_type": "markdown",
   "id": "84da4db6",
   "metadata": {},
   "source": [
    "Last class, we went over several Python data types. A \"data type\" describes the quality or structure of a piece of information. Some of the data types that we saw last class include:\n",
    "\n",
    "- `int` for integers (1,0,-4),\n",
    "- `str` for strings ('asdf', 'b', '234'),\n",
    "- `float` for floating point numbers (1.2, 3.44444, 6.2837),\n",
    "- `bool` for booleans (True, False),\n",
    "- `list` for lists ([1,2,3], ['qw45', 134]),\n",
    "\n",
    "For example, computers distinguish between numbers, such as the number 12, and strings, such as \"12\", \"dog\", or \"123 cats\", which are collections of characters. Computers can perform mathematical operations on a number, but not on a string.\n",
    "\n",
    "Variables allow computers to store and manipulate data in a dynamic fashion. They do this by using a \"label\" to point to the data rather than using the data itself. Any of the data types may be stored in a variable, and the value of a variable can be modified.\n",
    "\n",
    "We can create a new Python variable by assigning a value to a label, using the = assignment operator."
   ]
  },
  {
   "cell_type": "code",
   "execution_count": null,
   "id": "201f6300",
   "metadata": {},
   "outputs": [],
   "source": [
    "#Change \"tess\" with your own name and run it\n",
    "my_name = \"tess\""
   ]
  },
  {
   "cell_type": "markdown",
   "id": "abd495de",
   "metadata": {},
   "source": [
    "creates a variable called my_name. A variable name can be composed of characters, numbers, and the _ underscore character. It can't start with a number.\n",
    "-  `Task 1` Create a variable called our_class and assign it the value \"Intro to CS\". Print the value of this variable to make sure that it has been set to Intro to CS."
   ]
  },
  {
   "cell_type": "code",
   "execution_count": null,
   "id": "d5bef3d7",
   "metadata": {},
   "outputs": [],
   "source": [
    "#write your solution here for Task 1"
   ]
  },
  {
   "cell_type": "markdown",
   "id": "0e522b42",
   "metadata": {},
   "source": [
    "## Task 2 - Assign the value of one variable to another"
   ]
  },
  {
   "cell_type": "markdown",
   "id": "2e72ed7e",
   "metadata": {},
   "source": [
    "After a value is assigned to a variable using the assignment operator, you can assign the value of that variable to another variable using the assignment operator. Here's an example:"
   ]
  },
  {
   "cell_type": "code",
   "execution_count": null,
   "id": "95c74a41",
   "metadata": {},
   "outputs": [],
   "source": [
    "my_var = 'asdf'\n",
    "my_num = my_var\n",
    "print(my_num)\n",
    "# outputs 'asdf'"
   ]
  },
  {
   "cell_type": "markdown",
   "id": "b27284bf",
   "metadata": {},
   "source": [
    "- `Task 2`Create a variable a and assign it to the value of 5. Assign the contents of a to a new variable, b. Print the values of a and b and make sure these are the same."
   ]
  },
  {
   "cell_type": "code",
   "execution_count": null,
   "id": "312d8b1c",
   "metadata": {},
   "outputs": [],
   "source": [
    "#write your solution here for Task 2"
   ]
  },
  {
   "cell_type": "markdown",
   "id": "ee997dc1",
   "metadata": {},
   "source": [
    "## Task 3 - Adding"
   ]
  },
  {
   "cell_type": "markdown",
   "id": "0e0deba4",
   "metadata": {},
   "source": [
    "`Task 3`\n",
    "- Create a variable `c` and assign it to the value of two integers added together (i.e. `2 + 4`). Print `c` and make sure that this is equal to the sum of the two numbers you have added together.\n",
    "- Print the sum of `c` and `2`.\n",
    "- Using the variable `a` (value = 5) from Task 2, print the sum of `a` and `c`.\n",
    "- Increment (increase) the value of `c` by 2.\n",
    "\n",
    "Hint: you can increment the value of a variable by using either the `+=` operator (i.e. `my_var += 5`) or by reassigning the variable (i.e. `my_var = my_var + 5`)."
   ]
  },
  {
   "cell_type": "code",
   "execution_count": null,
   "id": "8fae6753",
   "metadata": {},
   "outputs": [],
   "source": [
    "#write your solution here for Task 3"
   ]
  },
  {
   "cell_type": "markdown",
   "id": "bb67024f",
   "metadata": {},
   "source": [
    "## Task 4 -  Subtracting"
   ]
  },
  {
   "cell_type": "markdown",
   "id": "f0bd496f",
   "metadata": {},
   "source": [
    "`Task 4`\n",
    "- Create a variable `d` and assign it to the value of an integer subtracted from another (i.e. `4 - 3`). Print `d` and make sure that this is equal to the difference of the two numbers.\n",
    "- Print the expression subtracting `d` from `a`.\n",
    "- Decrement (decrease) the value of `d` by 2.\n",
    "\n",
    "Hint: just like with `+=`, you can decrement by using the `-=` operator or by reassigning the variable (i.e. `my_var = my_var - 5`)."
   ]
  },
  {
   "cell_type": "code",
   "execution_count": null,
   "id": "9f0af008",
   "metadata": {},
   "outputs": [],
   "source": [
    "#write your solution here for Task 4"
   ]
  },
  {
   "cell_type": "markdown",
   "id": "664ca090",
   "metadata": {},
   "source": [
    "## Task 5 - Multiplying"
   ]
  },
  {
   "cell_type": "markdown",
   "id": "ed68a964",
   "metadata": {},
   "source": [
    "`Task 5`\n",
    "- Create a variable `e` and assign it to the value of an integer multiplied by another (i.e. `3 * 9`). Print `e` and make sure that this is equal to the product of the two numbers you have multiplied.\n",
    "- Print the expression multiplying `e` with `a`.\n",
    "- Multiply the value of `e` by 2.\n",
    "\n",
    "Hint: just like with `-=`, you can multiply the value of a variable by using the `*=` operator or by reassigning the variable (i.e. `my_var = my_var * 5`)."
   ]
  },
  {
   "cell_type": "code",
   "execution_count": null,
   "id": "30084840",
   "metadata": {},
   "outputs": [],
   "source": [
    "#write your solution here for Task 5"
   ]
  },
  {
   "cell_type": "markdown",
   "id": "949a8507",
   "metadata": {},
   "source": [
    "## Task 6 - Dividing"
   ]
  },
  {
   "cell_type": "markdown",
   "id": "3f3afea4",
   "metadata": {},
   "source": [
    "`Task 6`\n",
    "- Create a variable `f` and assign it to the value of a number divided by another (i.e. `3 / 9`). Print `f` and make sure that this is equal to the quotient (result of the division).\n",
    "- Print the expression dividing `f` by `a`.\n",
    "- Divide the value of `f` by 2.\n",
    "\n",
    "Hint: just like with `*=`, you can multiply the value of a variable by using the `/=` operator or by reassigning the variable (i.e. `my_var = my_var / 5`).\n",
    "\n",
    "Note that there are multiple \"types\" of division. In Python, `/` (as used above) divides as we normally think of division and can return a floating point value. There is a second operator, `//`, that performs what is called \"integer division\" which means that it discards the remainder (i.e. no value after the decimal point)."
   ]
  },
  {
   "cell_type": "code",
   "execution_count": null,
   "id": "07bcd768",
   "metadata": {},
   "outputs": [],
   "source": [
    "#write your solution here for Task 6"
   ]
  },
  {
   "cell_type": "markdown",
   "id": "02f77c0b",
   "metadata": {},
   "source": [
    "## Task 7 - Modulo (remainder)"
   ]
  },
  {
   "cell_type": "markdown",
   "id": "0dbf82d8",
   "metadata": {},
   "source": [
    "The modulo (%) or remainder operator gives the remainder of the division of two numbers. Example:\n",
    "- 5 % 2 = 1 because\n",
    "- 2 * 2 = 4\n",
    "- 5 - 4 = 1 (Remainder)"
   ]
  },
  {
   "cell_type": "code",
   "execution_count": null,
   "id": "385dbafe",
   "metadata": {},
   "outputs": [],
   "source": [
    "print(5 % 2)\n",
    "print(2 * 2)\n",
    "print(5 - 4)"
   ]
  },
  {
   "cell_type": "markdown",
   "id": "6363a8ae",
   "metadata": {},
   "source": [
    "This can be useful to check, among other things, whether a number is even or odd, by checking the remainder of the division of the number by 2:\n",
    "- 17 % 2 = 1 (17 is Odd)\n",
    "- 48 % 2 = 0 (48 is Even)"
   ]
  },
  {
   "cell_type": "code",
   "execution_count": null,
   "id": "cceb94f0",
   "metadata": {},
   "outputs": [],
   "source": [
    "print(17 % 2 )\n",
    "print(48 % 2 )"
   ]
  },
  {
   "cell_type": "markdown",
   "id": "c71e7671",
   "metadata": {},
   "source": [
    "`Task7`\n",
    "\n",
    "Copy the following code and replace `VALUE_HERE` with an integer so that the value of `mod_output` is equal to 3."
   ]
  },
  {
   "cell_type": "code",
   "execution_count": null,
   "id": "17be39f8",
   "metadata": {},
   "outputs": [],
   "source": [
    "#write your solution here for Task 7\n",
    "a = VALUE_HERE\n",
    "mod_output = 9 % a\n",
    "print(mod_output)"
   ]
  },
  {
   "cell_type": "markdown",
   "id": "acdcb91b",
   "metadata": {},
   "source": [
    "## Task 8 - String variables"
   ]
  },
  {
   "cell_type": "markdown",
   "id": "00797552",
   "metadata": {},
   "source": [
    "Recall that a string is a series of zero or more characters that are enclosed in either single or double quotes, or triple quotes (the same as with multiline comments). Valid strings in Python include:"
   ]
  },
  {
   "cell_type": "code",
   "execution_count": null,
   "id": "502c419b",
   "metadata": {},
   "outputs": [],
   "source": [
    "\"\"  # empty string\"'hello'\"\n",
    "'adf'\n",
    "'\"asdf\"'\n",
    "\"\"\"asdf\"\"\""
   ]
  },
  {
   "cell_type": "markdown",
   "id": "fa26326e",
   "metadata": {},
   "source": [
    "In Python, you can \"concatenate\", or join, two strings together using the `+` operator. In Python, `'hello' + ' world'` would equal `'hello world'`.\n",
    "\n",
    "`Task 8`\n",
    "\n",
    "- Create two new string variables: `my_first_name` and `my_last_name` and assign them to the values of your first and last name. Print out the value of each variable to confirm this.\n",
    "- Concatenate the two string variables and print this result. Additionally, try to add a space between the two. (Hint: you can concatenate more than one string in an expression, like: `'hello' + ',' + 'world'`).\n",
    "- Create a new variable called `my_fullname` and set this to the value of `my_first_name` concatenated with a space and then `my_last_name` (as in the exercise directly above this).\n",
    "- Recall the `+=` operator that we used to increment a variable. This can also be used to concatenate a string onto the end of a string variable. Try this operator out by adding the line: `my_first_name += ' is awesome'` and printing out `my_first_name`. Is this value what you expected?"
   ]
  },
  {
   "cell_type": "code",
   "execution_count": null,
   "id": "4b1b0e99",
   "metadata": {},
   "outputs": [],
   "source": [
    "#write your solution here for Task 8"
   ]
  },
  {
   "cell_type": "markdown",
   "id": "c888cc30",
   "metadata": {},
   "source": [
    "## Task 9 - String lengths"
   ]
  },
  {
   "cell_type": "markdown",
   "id": "18946031",
   "metadata": {},
   "source": [
    "In Python, you can find the length of a String value by writing using the built-in len function. Example:"
   ]
  },
  {
   "cell_type": "code",
   "execution_count": null,
   "id": "2ae9372c",
   "metadata": {},
   "outputs": [],
   "source": [
    "len(\"redi\")\n",
    "# outputs 4\n"
   ]
  },
  {
   "cell_type": "code",
   "execution_count": null,
   "id": "2f4607c3",
   "metadata": {},
   "outputs": [],
   "source": [
    "len('hello, world')\n",
    "# outputs 12"
   ]
  },
  {
   "cell_type": "markdown",
   "id": "1278fad9",
   "metadata": {},
   "source": [
    "`Task 9`\n",
    "- Print the lengths of each of the following variables below\n",
    "- Write a line of code that defines the variable `total_length` as the sum of the lengths of all three variables below"
   ]
  },
  {
   "cell_type": "code",
   "execution_count": null,
   "id": "a795de7a",
   "metadata": {},
   "outputs": [],
   "source": [
    "empty = ''\n",
    "language = \"Python\"\n",
    "sentence = \"I'm a really long sentence\""
   ]
  },
  {
   "cell_type": "code",
   "execution_count": null,
   "id": "5052eb58",
   "metadata": {},
   "outputs": [],
   "source": [
    "#write your solution here for Task 9"
   ]
  },
  {
   "cell_type": "markdown",
   "id": "38fdfdfc",
   "metadata": {},
   "source": [
    "## Task 10 - Strings as iterables"
   ]
  },
  {
   "cell_type": "markdown",
   "id": "ea1c66f7",
   "metadata": {},
   "source": [
    "Bracket notation, or \"array indexing\" is a way to get a character at a specific index within a string. (This also works for lists and other ordered iterables). Most modern programming languages, like Python, don't start counting at 1 like humans do, but instead start at 0. This is referred to as \"zero-indexing\".\n",
    "\n",
    "For example, the character at the index 0 in the word `Hello` is `H`. So if `word = \"Hello\"`, you can get the value of the first letter of this string by using: `word[0]`.\n",
    "\n",
    "In Python, you can also use negative numbers to index backwards into a word. For example, `word[-1]` will get you the last letter in the word.\n",
    "\n",
    "\n",
    "`Task 10`\n",
    "\n",
    "- Use bracket notation to find the first character in `sentence` from task 9, and print this out.\n",
    "- Use bracket notation and the `len` operator to find the last letter in the word, and print this out. (Hint: the last index is equal to the length of the word - 1 (because of zero-indexing)).\n",
    "- Use the negative number indexing to find and print the second to last letter in `sentence`."
   ]
  },
  {
   "cell_type": "code",
   "execution_count": null,
   "id": "b02f40f7",
   "metadata": {},
   "outputs": [],
   "source": [
    "#write your solution here for Task 10"
   ]
  },
  {
   "cell_type": "markdown",
   "id": "f719d6eb",
   "metadata": {},
   "source": [
    "## Task 11 - Slicing strings"
   ]
  },
  {
   "cell_type": "markdown",
   "id": "63dee979",
   "metadata": {},
   "source": [
    "You can use the same principle we just used to retrieve a part of the string (sometimes referred to as a \"substring\"). Here are some examples (note: leaving the index off before or after the : is shorthand for the start and end of the word):"
   ]
  },
  {
   "cell_type": "code",
   "execution_count": null,
   "id": "9a1ff50c",
   "metadata": {},
   "outputs": [],
   "source": [
    "word = \"Hello!\"\n",
    "word[1:2]  # outputs: \"e\"\n"
   ]
  },
  {
   "cell_type": "code",
   "execution_count": null,
   "id": "346836bf",
   "metadata": {},
   "outputs": [],
   "source": [
    "word[0:3]  # outputs: \"Hel\"; equivalent to word[:3]\n"
   ]
  },
  {
   "cell_type": "code",
   "execution_count": null,
   "id": "6fe464ec",
   "metadata": {},
   "outputs": [],
   "source": [
    "word[:]  # outputs: \"Hello!\""
   ]
  },
  {
   "cell_type": "code",
   "execution_count": null,
   "id": "5e68b97e",
   "metadata": {},
   "outputs": [],
   "source": [
    "word[3:6]  # outputs: \"lo!\"; equivalent to word[3:]"
   ]
  },
  {
   "cell_type": "code",
   "execution_count": null,
   "id": "b20232c8",
   "metadata": {},
   "outputs": [],
   "source": [
    " word[3:] "
   ]
  },
  {
   "cell_type": "code",
   "execution_count": null,
   "id": "97e7238f",
   "metadata": {},
   "outputs": [],
   "source": [
    "word[2:-2]  # outputs: \"ll\"; equivalent to word[2:len(word) - 2]"
   ]
  },
  {
   "cell_type": "code",
   "execution_count": null,
   "id": "70ffca22",
   "metadata": {},
   "outputs": [],
   "source": [
    "word[2:len(word) - 2]"
   ]
  },
  {
   "cell_type": "markdown",
   "id": "91d67800",
   "metadata": {},
   "source": [
    "`Task 11`\n",
    "- Using the variable `sentence` from task 9, `sentence = \"I'm a really long sentence\"`, create a new variable `only_really` that contains only the word `really` in the sentence, and print the value of this variable.\n",
    "- Using the variable `sentence` again, create a new variable called `first_letters` that contains the first 4 letters of `sentence`."
   ]
  },
  {
   "cell_type": "code",
   "execution_count": null,
   "id": "4a883b82",
   "metadata": {},
   "outputs": [],
   "source": [
    "#write your solution here for Task 11"
   ]
  },
  {
   "cell_type": "markdown",
   "id": "7020c3b1",
   "metadata": {},
   "source": [
    "## Task 12 - Lists"
   ]
  },
  {
   "cell_type": "markdown",
   "id": "5580a078",
   "metadata": {},
   "source": [
    "Lists are one of the more complex Python data types. Lists hold other data types like strings, integers, floats, and even lists. Each list item has an index, like strings. The index starts from 0. Just as with strings, the `len` function also gives you the length of a list. Also like strings, you can slice a list, which means to get some part of the overall list. Here are some examples to illustrate this:"
   ]
  },
  {
   "cell_type": "code",
   "execution_count": null,
   "id": "b4353eb7",
   "metadata": {},
   "outputs": [],
   "source": [
    "# creating some listsfruits = ['apple','banana','orange']\n",
    "stuff = [12, 'asdf', 123.013, [1,2,3]]\n",
    "\n",
    "# here's the indexingfruits = ['apple','banana','orange']\n",
    "#            0        1        2# like strings, lists can also use negative indexingfruits = ['apple','banana','orange']\n",
    "#           -3       -2        -1# get the length of the listlen(fruits)\n",
    "# outputs: 3# slice a listfruits[:2]\n",
    "# outputs: ['apple', 'banana']fruits[1:3]\n",
    "# outputs: ['banana', 'orange']"
   ]
  },
  {
   "cell_type": "markdown",
   "id": "7de92d25",
   "metadata": {},
   "source": [
    "`Task 12`\n",
    "- Create a list with the first names of your breakout room group, and assign this to the variable `first_names`. Print the list.\n",
    "- Print out the value of the second name in `first_names`. (Hint: use the bracket notation asa with strings.)\n",
    "- Print the length of the list of names.\n",
    "- Create a slice of the list containing the first two names and print this slice."
   ]
  },
  {
   "cell_type": "code",
   "execution_count": null,
   "id": "6c793f25",
   "metadata": {},
   "outputs": [],
   "source": [
    "#write your solution here for Task 12"
   ]
  },
  {
   "cell_type": "markdown",
   "id": "bc95c484",
   "metadata": {},
   "source": [
    "## Task 13 - Appending and removing elements from a list"
   ]
  },
  {
   "cell_type": "markdown",
   "id": "e178ff34",
   "metadata": {},
   "source": [
    "There are several methods that you can use with lists. The .append() method adds an item to a list, while the .remove() method removes an item from the list:"
   ]
  },
  {
   "cell_type": "code",
   "execution_count": null,
   "id": "bb1b51b8",
   "metadata": {},
   "outputs": [],
   "source": [
    "fruits = ['apple','banana','orange']\n",
    "fruits.append('mango')\n",
    "# value of fruits is now: ['apple','banana','orange','mango']fruits.remove('banana')\n",
    "# value of fruits is now: ['apple','orange','mango']"
   ]
  },
  {
   "cell_type": "markdown",
   "id": "43ff27d9",
   "metadata": {},
   "source": [
    "`Task 13`\n",
    "- Using the list of your names (`first_names`), add one name and print the list.\n",
    "- Using the list of your names (`first_names`), remove one name and print the list."
   ]
  },
  {
   "cell_type": "code",
   "execution_count": null,
   "id": "c66d9335",
   "metadata": {},
   "outputs": [],
   "source": [
    "#write your solution here for Task 13"
   ]
  },
  {
   "cell_type": "markdown",
   "id": "6befca5c",
   "metadata": {},
   "source": [
    "## Task 14 - Dictionaries"
   ]
  },
  {
   "cell_type": "markdown",
   "id": "ff194c84",
   "metadata": {},
   "source": [
    "Dictionaries are a Python data structure. While lists allow you to create ordered collections of values, dictionaries allow you to create collections of key / value pairs. An analogy for a dictionary is a telephone book: you can look up a telephone number (value) by a person's name (key).\n",
    "\n",
    "Here are some dictionary examples:"
   ]
  },
  {
   "cell_type": "code",
   "execution_count": null,
   "id": "8da3537a",
   "metadata": {},
   "outputs": [],
   "source": [
    "empty_dict = dict()\n",
    "dog = { 'name': 'Roger' }\n",
    "# assign the value: 8 to the key: 'age'dog['age'] = 8\n",
    "# the dog dictionary now looks like: { 'name': 'Roger', 'age': 8 }# access a value by a keydog['name']\n",
    "# outputs: 'Roger'"
   ]
  },
  {
   "cell_type": "markdown",
   "id": "629b4ddd",
   "metadata": {},
   "source": [
    "Dictionaries also contain the .keys(), .values(), and .items() methods which return iterables (like lists) of these values:"
   ]
  },
  {
   "cell_type": "code",
   "execution_count": null,
   "id": "fac7b310",
   "metadata": {},
   "outputs": [],
   "source": [
    "list(dog.keys())\n",
    "# outputs: ['name', 'age']list(dog.values())\n",
    "# outputs: ['Roger', 8]list(dog.items())\n",
    "# outputs: [('name', 'Roger'), ('age', 8)]"
   ]
  },
  {
   "cell_type": "markdown",
   "id": "312ed9ed",
   "metadata": {},
   "source": [
    "`Task 14`\n",
    "- Create a dictionary called `person` with the keys `first_name` amd `last_name` and give them some values. Print out the dictionary.\n",
    "- In the `person` dictionary, assign the `job` key to the value `programmer`, and print out the dictionary.\n",
    "- Access and print out the value of the `first_name` key in the `person` dictionary.\n",
    "- Print out the keys, values, and items in the `person` dictionary."
   ]
  },
  {
   "cell_type": "code",
   "execution_count": null,
   "id": "2f377e7b",
   "metadata": {},
   "outputs": [],
   "source": [
    "#write your solution here for Task 14"
   ]
  },
  {
   "cell_type": "markdown",
   "id": "29f4272e",
   "metadata": {},
   "source": [
    "## Task 15 - Booleans"
   ]
  },
  {
   "cell_type": "markdown",
   "id": "af751c2d",
   "metadata": {},
   "source": [
    "Booleans may only be one of two values: True or False. These are like on-off switches, where True is on and False is off. These states are mutually exclusive -- a condition can only be either True or False but not both. You can use the not keyword to \"flip the switch\" of the boolean value."
   ]
  },
  {
   "cell_type": "code",
   "execution_count": null,
   "id": "732e74ed",
   "metadata": {},
   "outputs": [],
   "source": [
    "val1 = True\n",
    "val2 = not True\n",
    "print(val2)\n",
    "# outputs: False"
   ]
  },
  {
   "cell_type": "markdown",
   "id": "34b8fa4b",
   "metadata": {},
   "source": [
    "`Task 15`\n",
    "- Create a variable called `boolean_var` and set it to `False`.\n",
    "- Print the value of the opposite of `boolean_var` (using `not`)."
   ]
  },
  {
   "cell_type": "code",
   "execution_count": null,
   "id": "ad7ced53",
   "metadata": {},
   "outputs": [],
   "source": [
    "#write your solution here for Task 15"
   ]
  },
  {
   "cell_type": "markdown",
   "id": "d9311143",
   "metadata": {},
   "source": [
    "## Task 16 - Comparisons"
   ]
  },
  {
   "cell_type": "markdown",
   "id": "b4dcdc07",
   "metadata": {},
   "source": [
    "There are many comparison operators in Python. All of these operators return a boolean `True` or `False` value. Here are some of these operators:\n",
    "\n",
    "- `==`: equality operator: compares two values and returns True if they're equivalent or False if they are not\n",
    "- `!=`: inequality operator: opposite of equality, returns True if two values are not equivalent and False if they are\n",
    "- `>`: greater than operator: returns True if the left side is greater than the right side and False if not\n",
    "- `<`: less than operator: returns True if the left side is less than the right side and False if not\n",
    "\n",
    "Note that you can assign a boolean expression to a variable:"
   ]
  },
  {
   "cell_type": "code",
   "execution_count": null,
   "id": "4561f6ef",
   "metadata": {},
   "outputs": [],
   "source": [
    "a = 1 > 2\n",
    "print(a)\n",
    "# outputs: False"
   ]
  },
  {
   "cell_type": "markdown",
   "id": "9680efc0",
   "metadata": {},
   "source": [
    "`Task 16`\n",
    "Assign these examples to variables and print them out:\n",
    "\n",
    "- `1 == 1`\n",
    "- `1 == '1'`\n",
    "- `2 != '2'`\n",
    "- `2 < 4`\n",
    "- `2 > 3`\n",
    "- `1 != True`\n",
    "- `0 != False`\n",
    "\n",
    "Were any of these results surprising?"
   ]
  },
  {
   "cell_type": "code",
   "execution_count": null,
   "id": "174c8df4",
   "metadata": {},
   "outputs": [],
   "source": [
    "#write your solution here for Task 16"
   ]
  },
  {
   "cell_type": "markdown",
   "id": "61bebd9a",
   "metadata": {},
   "source": [
    "## Task 17 - Control Flow"
   ]
  },
  {
   "cell_type": "markdown",
   "id": "ffdc1ce7",
   "metadata": {},
   "source": [
    "When you're dealing with booleans, and expressions that return a boolean in particular, we can execute different code depending on their True or False values, using `if`, `elif`, and `else` statements. Pay attention to the indentation and white space in Python, as this is very important! Indented blocks \"belong\" to the overhanging lines above them; you can think of this as \"stepping into\" indented blocks if conditions evaluate to true.\n",
    "\n",
    "This is a conditional statement: `if CONDITION:` means: \"if `CONDITION` evaluates to `True`, then execute the indented code that follows directly after the statement\"\n",
    "\n",
    "Here's an example for `if...else`:"
   ]
  },
  {
   "cell_type": "code",
   "execution_count": null,
   "id": "23a34f20",
   "metadata": {},
   "outputs": [],
   "source": [
    "if CONDITION_A:\n",
    "    STATEMENT_A\n",
    "else:\n",
    "    STATEMENT_B"
   ]
  },
  {
   "cell_type": "markdown",
   "id": "7355f93b",
   "metadata": {},
   "source": [
    "In this example, \"if `CONDITION_A` evaluates to `True`, then execute `STATEMENT_A`. Otherwise (if `CONDITION_A` evaluates to `False`), then execute `STATEMENT_B`.\n",
    "\n",
    "And for `if...elif...else`:"
   ]
  },
  {
   "cell_type": "code",
   "execution_count": null,
   "id": "2d24f452",
   "metadata": {},
   "outputs": [],
   "source": [
    "if CONDITION_A:\n",
    "    STATEMENT_A\n",
    "elif CONDITION_B:\n",
    "    STATEMENT_B\n",
    "else:\n",
    "    STATEMENT_C"
   ]
  },
  {
   "cell_type": "markdown",
   "id": "bfcf2a97",
   "metadata": {},
   "source": [
    "(Note: `elif` stands for \"else if\", and you can have as many of these as you want in between the beginning `if` and ending `else` statements.)\n",
    "\n",
    "In this example, \"if `CONDITION_A` evaluates to `True`, then execute `STATEMENT_A` only. Otherwise (if `CONDITION_A` evaluates to `False`), then check if `CONDITION_B` evaluates to `True` and if so, execute `STATEMENT_B` only. If both `CONDITION_A` and `CONDITION_B` evaluate to `False`, then execute `STATEMENT_C`. Note that here, we are only ever execute one of the `STATEMENT_`'s, even if multiple conditions evaluate to `True`.\n",
    "\n",
    "`Task 17`\n",
    "\n",
    "- Use the definition: `my_list = [1, 2, 3]`. Create an if statement that checks if the last value of the list is equal to 3 and if so, prints \"the condition was true\".\n",
    "- Building off of the above exercise, make the condition false (so that \"the condition was true\" no longer prints).\n",
    "- Now, add an `else` clause that prints \"the condition was false\".\n",
    "- Now, add an `elif` condition that checks if the length of the list is equal to 3 and if so, prints \"the elif condition is true\"."
   ]
  },
  {
   "cell_type": "code",
   "execution_count": null,
   "id": "e401abfa",
   "metadata": {},
   "outputs": [],
   "source": [
    "#write your solution here for Task 17"
   ]
  },
  {
   "cell_type": "markdown",
   "id": "841b89db",
   "metadata": {},
   "source": [
    "## Task 18 - Functions"
   ]
  },
  {
   "cell_type": "markdown",
   "id": "c618f1ba",
   "metadata": {},
   "source": [
    "A function lets us create a set of instructions that we can run when needed. Functions are essential in Python and in many other programming languages. They help us create meaningful programs, because they allow us to decompose a program into manageable parts, and they promote readability and code reuse.\n",
    "\n",
    "Here is an example function:"
   ]
  },
  {
   "cell_type": "code",
   "execution_count": null,
   "id": "9bbfb12d",
   "metadata": {},
   "outputs": [],
   "source": [
    "def greet(name):\n",
    "    print('Hello,', name)"
   ]
  },
  {
   "cell_type": "code",
   "execution_count": null,
   "id": "de0e0f1d",
   "metadata": {},
   "outputs": [],
   "source": [
    "greet('Neslihan')"
   ]
  },
  {
   "cell_type": "markdown",
   "id": "e2de75fd",
   "metadata": {},
   "source": [
    "This is the function definition. There is a `def` keyword, so that the Python interpreter knows that this is a function `def`inition, function name (`greet`), arguments (`name` in this case), and a body (the set of instructions, which is the part that follows the colon and is indented one level on the left).\n",
    "\n",
    "To run this function, we must call it. This is the syntax to call the function: `greet('Rami')` We can execute this function as many times as we want to.\n",
    "\n",
    "The name of the function, hello, is very important. It should be descriptive, so anyone calling it can imagine what the function does.\n",
    "\n",
    "\n",
    "`Task 18`\n",
    "\n",
    "- Write a function called `was_it_sunny` that takes in a boolean argument `it_was`, that prints \"yes\" if the parameter value was True and \"no\" otherwise. Call this function twice, once with the value `True` and once with `False`, and print the outputs of these calls.\n",
    "- Write a function that takes in 3 values and returns a list containing those three values."
   ]
  },
  {
   "cell_type": "code",
   "execution_count": null,
   "id": "92d3f8fe",
   "metadata": {},
   "outputs": [],
   "source": [
    "#write your solution here for Task 18"
   ]
  },
  {
   "cell_type": "code",
   "execution_count": null,
   "id": "adda6f66",
   "metadata": {},
   "outputs": [],
   "source": [
    "#Run the code\n",
    "def msg(my_name):\n",
    "    print(\"You sucessfully completed the homework!\\nWell done\", my_name)\n",
    "\n",
    "msg(my_name)"
   ]
  }
 ],
 "metadata": {
  "kernelspec": {
   "display_name": "Python 3 (ipykernel)",
   "language": "python",
   "name": "python3"
  },
  "language_info": {
   "codemirror_mode": {
    "name": "ipython",
    "version": 3
   },
   "file_extension": ".py",
   "mimetype": "text/x-python",
   "name": "python",
   "nbconvert_exporter": "python",
   "pygments_lexer": "ipython3",
   "version": "3.9.12"
  }
 },
 "nbformat": 4,
 "nbformat_minor": 5
}
