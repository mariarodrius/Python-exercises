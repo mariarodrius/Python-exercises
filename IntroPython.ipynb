{
 "cells": [
  {
   "cell_type": "code",
   "execution_count": 12,
   "id": "461b04dc",
   "metadata": {},
   "outputs": [
    {
     "name": "stdout",
     "output_type": "stream",
     "text": [
      "printed characters\n"
     ]
    }
   ],
   "source": [
    "def hellofunction ():\n",
    "    return \"printed characters\"\n",
    "print (hellofunction ())"
   ]
  },
  {
   "cell_type": "code",
   "execution_count": 38,
   "id": "0477590c",
   "metadata": {},
   "outputs": [
    {
     "name": "stdout",
     "output_type": "stream",
     "text": [
      "printed hello\n",
      "helloKevin\n",
      "helloReDi\n",
      "<class 'str'>\n",
      "Maria is awesome\n",
      "Maria is awesome\n",
      "hello Maria is awesome\n"
     ]
    }
   ],
   "source": [
    "def hello():\n",
    "    return \"printed hello\"\n",
    "print(hello())\n",
    "\n",
    "def helloname(name):\n",
    "  return (\"hello\" + name)\n",
    "print (helloname(\"Kevin\"))\n",
    "\n",
    "def helloname2(name):\n",
    "  print (\"hello\" + name)\n",
    "helloname2(\"ReDi\")\n",
    "\n",
    "name=\"Maria\"\n",
    "name+=' is awesome'\n",
    "print(type(name))\n",
    "print (name)\n",
    "print (name)\n",
    "\n",
    "def helloname(name):\n",
    "  return (\"hello \" + name)\n",
    "print (helloname(name))"
   ]
  },
  {
   "cell_type": "code",
   "execution_count": 32,
   "id": "ff86297a",
   "metadata": {},
   "outputs": [
    {
     "ename": "SyntaxError",
     "evalue": "'function call' is an illegal expression for augmented assignment (705041375.py, line 20)",
     "output_type": "error",
     "traceback": [
      "\u001b[1;36m  Input \u001b[1;32mIn [32]\u001b[1;36m\u001b[0m\n\u001b[1;33m    print (helloname(name))+=' is awesome'\u001b[0m\n\u001b[1;37m    ^\u001b[0m\n\u001b[1;31mSyntaxError\u001b[0m\u001b[1;31m:\u001b[0m 'function call' is an illegal expression for augmented assignment\n"
     ]
    }
   ],
   "source": [
    "def hello():\n",
    "    return \"printed hello\"\n",
    "print(hello())\n",
    "\n",
    "def helloname(name):\n",
    "  return (\"hello\" + name)\n",
    "print (helloname(\"Kevin\"))\n",
    "\n",
    "def helloname2(name):\n",
    "  print (\"hello\" + name)\n",
    "helloname2(\"ReDi\")\n",
    "\n",
    "name=\"Maria\"\n",
    "print(type(name))\n",
    "print (name)\n",
    "\n",
    "def helloname(name):\n",
    "  return (\"hello \" + name)\n",
    "print (helloname(name))\n",
    "#print (helloname(name))+=' is awesome' #why does this tring not get elongated?\n",
    "\n",
    "surname=input(\"Enter surname:\")\n",
    "print (\"surname:\" + surname)\n",
    "if surname==name:\n",
    "  print (\"check your answer. \\nName:\"+name)\n",
    "  print (\"Surname:\"+surname)\n",
    "elif surname!=name:\n",
    "  print(type(name))\n",
    "  print(type(surname))\n",
    "  print (name+\" \"+surname) #how to add space between name and surname???"
   ]
  },
  {
   "cell_type": "code",
   "execution_count": 19,
   "id": "0efdd796",
   "metadata": {},
   "outputs": [
    {
     "name": "stdout",
     "output_type": "stream",
     "text": [
      "5.0\n"
     ]
    }
   ],
   "source": [
    "g=10\n",
    "f=2\n",
    "c=3\n",
    "def entero():\n",
    "  return (g/f)\n",
    "print (entero())"
   ]
  },
  {
   "cell_type": "code",
   "execution_count": 20,
   "id": "e9dca1a4",
   "metadata": {},
   "outputs": [
    {
     "name": "stdout",
     "output_type": "stream",
     "text": [
      "3.3333333333333335\n"
     ]
    }
   ],
   "source": [
    "g=10\n",
    "f=2\n",
    "c=3\n",
    "def racional():\n",
    "    return (g/c)\n",
    "print (racional())"
   ]
  },
  {
   "cell_type": "code",
   "execution_count": 22,
   "id": "9e00c9cd",
   "metadata": {},
   "outputs": [
    {
     "name": "stdout",
     "output_type": "stream",
     "text": [
      "3\n"
     ]
    }
   ],
   "source": [
    "g=10\n",
    "f=2\n",
    "c=3\n",
    "def racionalsincoma():\n",
    "    return (g//c)\n",
    "print (racionalsincoma())"
   ]
  },
  {
   "cell_type": "code",
   "execution_count": 40,
   "id": "09297361",
   "metadata": {},
   "outputs": [
    {
     "name": "stdout",
     "output_type": "stream",
     "text": [
      "3\n"
     ]
    }
   ],
   "source": [
    "a = 6\n",
    "mod_output = 9 % a\n",
    "print(mod_output)"
   ]
  },
  {
   "cell_type": "code",
   "execution_count": 39,
   "id": "a0630724",
   "metadata": {},
   "outputs": [
    {
     "name": "stdout",
     "output_type": "stream",
     "text": [
      "4\n"
     ]
    }
   ],
   "source": [
    "g=12\n",
    "f=2\n",
    "c=3\n",
    "def racionalsincoma():\n",
    "    return (g//c)\n",
    "print (racionalsincoma())"
   ]
  },
  {
   "cell_type": "code",
   "execution_count": 41,
   "id": "a99c9877",
   "metadata": {},
   "outputs": [
    {
     "data": {
      "text/plain": [
       "1"
      ]
     },
     "execution_count": 41,
     "metadata": {},
     "output_type": "execute_result"
    }
   ],
   "source": [
    "empty=' '\n",
    "len (empty)"
   ]
  },
  {
   "cell_type": "code",
   "execution_count": 45,
   "id": "df644f4e",
   "metadata": {},
   "outputs": [
    {
     "name": "stdout",
     "output_type": "stream",
     "text": [
      "{'first_name': 'Maria', 'last_name': 'Rodriguez'}\n",
      "Rodriguez\n"
     ]
    }
   ],
   "source": [
    "person={'first_name': 'Maria',\n",
    "        'last_name': 'Rodriguez'}\n",
    "print (person)\n",
    "print (person['last_name'])    "
   ]
  },
  {
   "cell_type": "code",
   "execution_count": 46,
   "id": "c7f336a9",
   "metadata": {},
   "outputs": [
    {
     "name": "stdout",
     "output_type": "stream",
     "text": [
      "{'brand': 'Ford', 'model': 'Mustang', 'year': 2020}\n"
     ]
    }
   ],
   "source": [
    "thisdict = {\n",
    "  \"brand\": \"Ford\",\n",
    "  \"model\": \"Mustang\",\n",
    "  \"year\": 1964,\n",
    "  \"year\": 2020\n",
    "}\n",
    "print(thisdict)"
   ]
  },
  {
   "cell_type": "code",
   "execution_count": 47,
   "id": "919e0530",
   "metadata": {},
   "outputs": [
    {
     "name": "stdout",
     "output_type": "stream",
     "text": [
      "2\n"
     ]
    }
   ],
   "source": [
    "print(len(person))"
   ]
  },
  {
   "cell_type": "code",
   "execution_count": 48,
   "id": "e9c37dfc",
   "metadata": {},
   "outputs": [
    {
     "name": "stdout",
     "output_type": "stream",
     "text": [
      "<class 'dict'>\n"
     ]
    }
   ],
   "source": [
    "print(type(person))"
   ]
  },
  {
   "cell_type": "code",
   "execution_count": 49,
   "id": "45de27f1",
   "metadata": {},
   "outputs": [
    {
     "name": "stdout",
     "output_type": "stream",
     "text": [
      "<class 'tuple'>\n",
      "<class 'str'>\n"
     ]
    }
   ],
   "source": [
    "thistuple = (\"apple\",)\n",
    "print(type(thistuple))\n",
    "\n",
    "#NOT a tuple\n",
    "thistuple = (\"apple\")\n",
    "print(type(thistuple))"
   ]
  },
  {
   "cell_type": "code",
   "execution_count": 50,
   "id": "49b55bb2",
   "metadata": {},
   "outputs": [
    {
     "name": "stdout",
     "output_type": "stream",
     "text": [
      "brand\n",
      "model\n",
      "year\n"
     ]
    }
   ],
   "source": [
    "thisdict = {\n",
    "  \"brand\": \"Ford\",\n",
    "  \"model\": \"Mustang\",\n",
    "  \"year\": 1964\n",
    "}\n",
    "for x in thisdict:\n",
    "  print(x)"
   ]
  },
  {
   "cell_type": "code",
   "execution_count": 51,
   "id": "80854328",
   "metadata": {},
   "outputs": [
    {
     "name": "stdout",
     "output_type": "stream",
     "text": [
      "1\n",
      "2\n",
      "3\n"
     ]
    }
   ],
   "source": [
    "i = 1\n",
    "while i < 6:\n",
    "  print(i)\n",
    "  if i == 3:\n",
    "    break\n",
    "  i += 1"
   ]
  },
  {
   "cell_type": "code",
   "execution_count": 52,
   "id": "1e9a2ec6",
   "metadata": {},
   "outputs": [
    {
     "name": "stdout",
     "output_type": "stream",
     "text": [
      "1\n",
      "2\n",
      "4\n",
      "5\n",
      "6\n"
     ]
    }
   ],
   "source": [
    "i = 0\n",
    "while i < 6:\n",
    "  i += 1\n",
    "  if i == 3:\n",
    "    continue\n",
    "  print(i)\n"
   ]
  },
  {
   "cell_type": "code",
   "execution_count": 53,
   "id": "5d552b6e",
   "metadata": {},
   "outputs": [
    {
     "name": "stdout",
     "output_type": "stream",
     "text": [
      "red apple\n",
      "red banana\n",
      "red cherry\n",
      "big apple\n",
      "big banana\n",
      "big cherry\n",
      "tasty apple\n",
      "tasty banana\n",
      "tasty cherry\n"
     ]
    }
   ],
   "source": [
    "adj = [\"red\", \"big\", \"tasty\"]\n",
    "fruits = [\"apple\", \"banana\", \"cherry\"]\n",
    "\n",
    "for x in adj:\n",
    "  for y in fruits:\n",
    "    print(x, y)"
   ]
  },
  {
   "cell_type": "code",
   "execution_count": 54,
   "id": "3fa439d3",
   "metadata": {},
   "outputs": [
    {
     "name": "stdout",
     "output_type": "stream",
     "text": [
      "15\n"
     ]
    }
   ],
   "source": [
    "x = lambda a : a + 10\n",
    "print(x(5))"
   ]
  },
  {
   "cell_type": "code",
   "execution_count": 55,
   "id": "822301d0",
   "metadata": {},
   "outputs": [
    {
     "name": "stdout",
     "output_type": "stream",
     "text": [
      "30\n"
     ]
    }
   ],
   "source": [
    "x = lambda a, b : a * b\n",
    "print(x(5, 6))"
   ]
  },
  {
   "cell_type": "code",
   "execution_count": 56,
   "id": "a3f8bb8b",
   "metadata": {},
   "outputs": [
    {
     "name": "stdout",
     "output_type": "stream",
     "text": [
      "13\n"
     ]
    }
   ],
   "source": [
    "x = lambda a, b, c : a + b + c\n",
    "print(x(5, 6, 2))"
   ]
  },
  {
   "cell_type": "code",
   "execution_count": 57,
   "id": "cf57aae2",
   "metadata": {},
   "outputs": [
    {
     "name": "stdout",
     "output_type": "stream",
     "text": [
      "22\n"
     ]
    }
   ],
   "source": [
    "def myfunc(n):\n",
    "  return lambda a : a * n\n",
    "\n",
    "mydoubler = myfunc(2)\n",
    "\n",
    "print(mydoubler(11))"
   ]
  },
  {
   "cell_type": "code",
   "execution_count": null,
   "id": "1c1b7a34",
   "metadata": {},
   "outputs": [],
   "source": []
  }
 ],
 "metadata": {
  "kernelspec": {
   "display_name": "Python 3 (ipykernel)",
   "language": "python",
   "name": "python3"
  },
  "language_info": {
   "codemirror_mode": {
    "name": "ipython",
    "version": 3
   },
   "file_extension": ".py",
   "mimetype": "text/x-python",
   "name": "python",
   "nbconvert_exporter": "python",
   "pygments_lexer": "ipython3",
   "version": "3.9.12"
  }
 },
 "nbformat": 4,
 "nbformat_minor": 5
}
