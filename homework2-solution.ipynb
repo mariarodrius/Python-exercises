{
 "cells": [
  {
   "cell_type": "markdown",
   "id": "7f7b4f67",
   "metadata": {},
   "source": [
    "# Homework 2"
   ]
  },
  {
   "cell_type": "markdown",
   "id": "52638a20",
   "metadata": {},
   "source": [
    "## Interactive programming"
   ]
  },
  {
   "cell_type": "markdown",
   "id": "3b9f2e51",
   "metadata": {},
   "source": [
    "You will use here : Input, variables, operators, conditionals"
   ]
  },
  {
   "cell_type": "markdown",
   "id": "5185c3ab",
   "metadata": {},
   "source": [
    "### Task 1"
   ]
  },
  {
   "cell_type": "markdown",
   "id": "1c363335",
   "metadata": {},
   "source": [
    "You are in a country X and travelling to Germany next week. You have 100 dollars and you want to convert them to euros. You go to a currency exchange center and they tell you that they cannot convert it directly: they have first to convert the 100 dollars to currency X, and then convert it from currency X to euros. \n",
    "Write a program which asks an amount to the user, makes a conversion of 100 dollars to euro and prints the result, given that: \n",
    "\n",
    "-\texchange rate from dollars to currency X is 15 (1 dollar become 15X)\n",
    "-\texchange rate from currency X to euros is 0.05 (1 X become 0.05 Euros)\n",
    "\n",
    "Hints:\n",
    "-\tCreate a variable storing the amount of dollars you have\n",
    "-\tCreate two variables for conversion rates\n",
    "-\tMultiply the amount of dollars by conversion rate from dollars to currency X and then multiply the result by conversion rate from currency X to euros\n",
    "-\tOutput the result using function print\n"
   ]
  },
  {
   "cell_type": "code",
   "execution_count": 1,
   "id": "b5f067d0",
   "metadata": {},
   "outputs": [
    {
     "name": "stdout",
     "output_type": "stream",
     "text": [
      "How much dollar you want to convert?\n",
      "100\n",
      "1125.0\n"
     ]
    }
   ],
   "source": [
    "#solution\n",
    "def converttoEuro():\n",
    "    amount = int(input('How much dollar you want to convert?\\n'))\n",
    "    x= 1 * 15\n",
    "    euro = x * 0.05\n",
    "    output = amount * x * euro\n",
    "    print(output)\n",
    "converttoEuro()"
   ]
  },
  {
   "cell_type": "code",
   "execution_count": 2,
   "id": "b1db9d18",
   "metadata": {},
   "outputs": [
    {
     "name": "stdout",
     "output_type": "stream",
     "text": [
      "How much dollar you want to convert?\n",
      "100\n"
     ]
    },
    {
     "data": {
      "text/plain": [
       "1125.0"
      ]
     },
     "execution_count": 2,
     "metadata": {},
     "output_type": "execute_result"
    }
   ],
   "source": [
    "# solution with return\n",
    "def converttoEuro():\n",
    "    amount = int(input('How much dollar you want to convert?\\n'))\n",
    "    x= 1 * 15\n",
    "    euro = x * 0.05\n",
    "    return amount * x * euro\n",
    "converttoEuro()"
   ]
  },
  {
   "cell_type": "markdown",
   "id": "00662b36",
   "metadata": {},
   "source": [
    "### Task 2"
   ]
  },
  {
   "cell_type": "markdown",
   "id": "096abd9e",
   "metadata": {},
   "source": [
    "Create a program which asks the user for a radius of a circle, and outputs the area and circumference of that circle.\n",
    "\n",
    "Hints\n",
    "-\tAsk the user for a radius using input function and save the user’s input into a variable. Don’t forget that input function returns strings that should be converted to numbers (floating-point in this case) for arithmetic operations.\n",
    "-\tCalculate the area using the formula: S = 3.14 * radius * radius and store the result in a variable.\n",
    "-\tCalculate the circumference using the formula: L = 2 * 3.14 * radius and store the result in a variable.\n",
    "-\tOutput both results using function print. You can try to print the answer in a form: “The area is X, the circumference is Y”, where is X is the calculated area and Y is the calculated circumference - function print can output as many values as you want. \n"
   ]
  },
  {
   "cell_type": "code",
   "execution_count": 3,
   "id": "85eb2e05",
   "metadata": {},
   "outputs": [
    {
     "name": "stdout",
     "output_type": "stream",
     "text": [
      "What is the radius of your circle?\n",
      "10\n",
      "The area is 314.0, the circumference is 62.800000000000004\n"
     ]
    }
   ],
   "source": [
    "#solution\n",
    "def circle():\n",
    "    radius = float(input('What is the radius of your circle?\\n'))\n",
    "    S = 3.14 * radius * radius  #S = 3.14 * (radius ** 2)\n",
    "    L = 2 * 3.14 * radius\n",
    "    print('The area is {0}, the circumference is {1}'.format(S, L))\n",
    "    #return ('The area is {0}, the circumference is {1}'.format(S, L))\n",
    "\n",
    "circle()"
   ]
  },
  {
   "cell_type": "markdown",
   "id": "63b28a49",
   "metadata": {},
   "source": [
    "### Task 3"
   ]
  },
  {
   "cell_type": "markdown",
   "id": "6a46d6f5",
   "metadata": {},
   "source": [
    "Create a program which asks the user for two integer numbers and prints the bigger one.\n",
    "\n",
    "Hints\n",
    "-\tAsk the user for a first number using input function and save the user’s input into a variable. Don’t forget that input function returns strings that should be converted to numbers (integer in this case).\n",
    "-\tAsk the user for a second number using input function and save the user’s input into a variable. Don’t forget that input function returns strings that should be converted to numbers (integer in this case).\n",
    "-\tUsing the conditionals (if-else construction) output either first or second variable depending on which one is bigger. To define a condition use comparison operators (operator > in this case)\n"
   ]
  },
  {
   "cell_type": "code",
   "execution_count": 4,
   "id": "44f86c58",
   "metadata": {},
   "outputs": [
    {
     "name": "stdout",
     "output_type": "stream",
     "text": [
      "Please type your first number:\n",
      "4\n",
      "Please type your second number:\n",
      "6\n"
     ]
    },
    {
     "data": {
      "text/plain": [
       "6"
      ]
     },
     "execution_count": 4,
     "metadata": {},
     "output_type": "execute_result"
    }
   ],
   "source": [
    "#solution\n",
    "def big_number():\n",
    "    a = int(input('Please type your first number:\\n'))\n",
    "    b = int(input('Please type your second number:\\n'))\n",
    "    if b > a:\n",
    "        return b\n",
    "    elif a > b:\n",
    "        return a\n",
    "    else:\n",
    "        return (\"{0} is equal to {1}\".format(a,b))\n",
    "big_number()"
   ]
  },
  {
   "cell_type": "code",
   "execution_count": 5,
   "id": "86cf6474",
   "metadata": {},
   "outputs": [
    {
     "name": "stdout",
     "output_type": "stream",
     "text": [
      "Please type your first number:\n",
      "5\n",
      "Please type your second number:\n",
      "5\n"
     ]
    },
    {
     "data": {
      "text/plain": [
       "'5 is equal to 5'"
      ]
     },
     "execution_count": 5,
     "metadata": {},
     "output_type": "execute_result"
    }
   ],
   "source": [
    "#solution with output variable\n",
    "def big_number():\n",
    "    output=\"\"\n",
    "    a = int(input('Please type your first number:\\n'))\n",
    "    b = int(input('Please type your second number:\\n'))\n",
    "    if b > a:\n",
    "        output = b\n",
    "    elif a > b:\n",
    "        output = a\n",
    "    else:\n",
    "        output = (\"{0} is equal to {1}\".format(a,b))\n",
    "    return output\n",
    "big_number()"
   ]
  },
  {
   "cell_type": "markdown",
   "id": "c846a838",
   "metadata": {},
   "source": [
    "### Task 4"
   ]
  },
  {
   "cell_type": "markdown",
   "id": "d7c468e1",
   "metadata": {},
   "source": [
    "Create a program which asks the user for the current hour (a number from 0 to 23). Depending on the user’s input, the program should print: \n",
    "-\t“It’s breakfast time” if the hour is between 7 and 11\n",
    "-\t“It’s lunch time” if the hour is between 12 and 16\n",
    "-\t“It’s dinner time” if the hour is between 17 and 22\n",
    "-\t“It’s sleeping time” if the hour is between 23 and 6\n",
    "What if user enters a negative number like -1 or big number like 53? Try to handle this situation in your program\n",
    "\n",
    "Hints\n",
    "-\tAsk the user for a hour using input function and save the user’s input into a variable. Don’t forget that input function returns strings that should be converted to numbers (integer in this case).\n",
    "-\tUsing the conditionals (if-elif-else construction) output either of four lines depending on the result of comparison of the number given by the user to the given numbers (7, 11, 16, 22)\n",
    "-\tTo ensure that the user input is correct (the number is between 0 and 23) you can use another conditional right after user’s input: if the number is within the given interval - program continues, otherwise - prints the error message and finishes.\n"
   ]
  },
  {
   "cell_type": "code",
   "execution_count": 6,
   "id": "f2206796",
   "metadata": {},
   "outputs": [
    {
     "name": "stdout",
     "output_type": "stream",
     "text": [
      "What is the hour? (0,24):\n",
      "3\n",
      "It’s sleeping time\n"
     ]
    }
   ],
   "source": [
    "#solution\n",
    "def timefor():\n",
    "    hour = int(input('What is the hour? (0,24):\\n'))\n",
    "    if hour in range(0,24):\n",
    "            if hour in range(7,12):\n",
    "                print('It’s breakfast time')\n",
    "            elif hour in range(12,17):\n",
    "                print('It’s lunch time')   \n",
    "            elif hour in range(17,23):\n",
    "                print('It’s dinner time') \n",
    "            else:\n",
    "                print('It’s sleeping time')\n",
    "    else:\n",
    "        print (\"Error: not valid number, try again\")\n",
    "        \n",
    "timefor()"
   ]
  },
  {
   "cell_type": "markdown",
   "id": "06778e5f",
   "metadata": {},
   "source": [
    "### Bonus 1"
   ]
  },
  {
   "cell_type": "markdown",
   "id": "92710f4b",
   "metadata": {},
   "source": [
    "Fix the last program from Lesson2 nested_conditions so that it works correctly if the hour input is 1. For example, if the hour is bigger than 22 or smaller than 7, the program should consider it to be late and so  young users should sleep and older users still can watch a movie."
   ]
  },
  {
   "cell_type": "code",
   "execution_count": 7,
   "id": "5182e6b4",
   "metadata": {},
   "outputs": [
    {
     "name": "stdout",
     "output_type": "stream",
     "text": [
      "Enter your age:\n",
      "25\n",
      "What is the hour? (0-24)\n",
      "23\n",
      "Want to watch a movie?\n"
     ]
    }
   ],
   "source": [
    "#solution\n",
    "\n",
    "age = int(input('Enter your age:\\n'))\n",
    "hour = int(input('What is the hour? (0-24)\\n'))\n",
    "\n",
    "ranges = [*range(0,7),*range(22,24)]\n",
    "is_late = hour in ranges\n",
    "is_too_young = age <= 12\n",
    "\n",
    "if is_late:\n",
    "    if is_too_young:\n",
    "        print('You should be sleeping ...')\n",
    "    else:\n",
    "        print('Want to watch a movie?')\n",
    "else:\n",
    "    print('Go for a walk!')"
   ]
  },
  {
   "cell_type": "code",
   "execution_count": 8,
   "id": "f499bf1b",
   "metadata": {},
   "outputs": [
    {
     "data": {
      "text/plain": [
       "[0, 1, 2, 3, 4, 5, 6, 22, 23]"
      ]
     },
     "execution_count": 8,
     "metadata": {},
     "output_type": "execute_result"
    }
   ],
   "source": [
    "ranges"
   ]
  },
  {
   "cell_type": "code",
   "execution_count": 9,
   "id": "f1a206b7",
   "metadata": {},
   "outputs": [
    {
     "name": "stdout",
     "output_type": "stream",
     "text": [
      "Enter your age:\n",
      "25\n",
      "What is the hour? (0-24)\n",
      "23\n",
      "Want to watch a movie?\n"
     ]
    }
   ],
   "source": [
    "#alternative solution\n",
    "\n",
    "age = int(input('Enter your age:\\n'))\n",
    "hour = int(input('What is the hour? (0-24)\\n'))\n",
    "\n",
    "is_early = hour in range(7,22)\n",
    "is_too_young = age <= 12\n",
    "\n",
    "if is_early:\n",
    "    print('Go for a walk!')    \n",
    "else:\n",
    "    if is_too_young:\n",
    "        print('You should be sleeping ...')\n",
    "    else:\n",
    "        print('Want to watch a movie?')\n"
   ]
  },
  {
   "cell_type": "markdown",
   "id": "018adf6e",
   "metadata": {},
   "source": [
    "### Bonus 2"
   ]
  },
  {
   "cell_type": "markdown",
   "id": "9e0060ae",
   "metadata": {},
   "source": [
    "Reimplement the last program from Lesson2 nested_conditions so that it doesn’t contain nested conditions, e.g. there is no if conditional inside another if conditional. It’s possible to do using if-elif-else construction and logical operators: or, and, not "
   ]
  },
  {
   "cell_type": "code",
   "execution_count": 11,
   "id": "5427e888",
   "metadata": {},
   "outputs": [
    {
     "name": "stdout",
     "output_type": "stream",
     "text": [
      "Enter your age:\n",
      "5\n",
      "What is the hour? (0-24)\n",
      "3\n",
      "You should be sleeping ...\n"
     ]
    }
   ],
   "source": [
    "#solution\n",
    "\n",
    "age = int(input('Enter your age:\\n'))\n",
    "hour = int(input('What is the hour? (0-24)\\n'))\n",
    "\n",
    "ranges = [*range(0,7),*range(22,24)]\n",
    "is_late = hour in ranges\n",
    "is_too_young = age <= 12\n",
    "\n",
    "if is_late and is_too_young:\n",
    "    print('You should be sleeping ...')\n",
    "elif is_late and not is_too_young:\n",
    "    print('Want to watch a movie?')\n",
    "else:\n",
    "    print('Go for a walk!')"
   ]
  },
  {
   "cell_type": "markdown",
   "id": "d83e78e7",
   "metadata": {},
   "source": [
    "### Task 5"
   ]
  },
  {
   "cell_type": "markdown",
   "id": "e87b3fda",
   "metadata": {},
   "source": [
    "Write a program which reads integer numbers from user’s input one by one and does the following:\n",
    "If the number is less than 10 - skip that number and read a new one \n",
    "If the number is bigger, than 100 - finish the program\n",
    "Otherwise - print the number in a new line and read a new number.\n",
    "\n",
    "Example:\n",
    "\n",
    "- Input: 12 4 2 58 112\n",
    "- Output: 12 58"
   ]
  },
  {
   "cell_type": "code",
   "execution_count": 12,
   "id": "c5621784",
   "metadata": {},
   "outputs": [
    {
     "name": "stdout",
     "output_type": "stream",
     "text": [
      "Enter a number: 12\n",
      "12\n",
      "Enter a number: 4\n",
      "Enter a number: 2\n",
      "Enter a number: 58\n",
      "58\n",
      "Enter a number: 112\n"
     ]
    }
   ],
   "source": [
    "#solution\n",
    "while True:\n",
    "    number = int(input(\"Enter a number: \"))\n",
    "    if number in range(10,100):\n",
    "        print(number)\n",
    "    if number > 100:\n",
    "        break\n",
    "#print ('all done')"
   ]
  },
  {
   "cell_type": "markdown",
   "id": "f0350508",
   "metadata": {},
   "source": [
    "### Task 6"
   ]
  },
  {
   "cell_type": "markdown",
   "id": "dd78468b",
   "metadata": {},
   "source": [
    "Write a program which reads integer numbers from user’s input one by one until the sum of the given numbers is not 0. When the sum of the numbers is 0, program should print all the given numbers sorted and finish\n",
    "\n",
    "Example:\n",
    "\n",
    "- Input:   1  -3  5  -6  -10  13\n",
    "- Output: -10 -6 -3   1   5   13 "
   ]
  },
  {
   "cell_type": "code",
   "execution_count": 13,
   "id": "45eb707e",
   "metadata": {},
   "outputs": [
    {
     "name": "stdout",
     "output_type": "stream",
     "text": [
      "Enter number: 1\n",
      "Enter number: -3\n",
      "Enter number: 5\n",
      "Enter number: -6\n",
      "Enter number: -10\n",
      "Enter number: 13\n",
      "[-10, -6, -3, 1, 5, 13]\n"
     ]
    }
   ],
   "source": [
    "num_list= []\n",
    "total=0\n",
    "while True:\n",
    "    new_num=int(input('Enter number: '))\n",
    "    num_list.append(new_num)\n",
    "    total=total + new_num\n",
    "    if total == 0:\n",
    "        break\n",
    "    num_list.sort()\n",
    "print(num_list)"
   ]
  },
  {
   "cell_type": "markdown",
   "id": "0aaed89a",
   "metadata": {},
   "source": [
    "### Task 7"
   ]
  },
  {
   "cell_type": "markdown",
   "id": "bd0e515c",
   "metadata": {},
   "source": [
    "If we list all the natural numbers below 10 which are multiples of 3 or 5, we get 3, 5, 6 and 9. The sum of these multiples is 23. Write a program which finds the sum of all the multiples of 3 or 5 below 1000.\n"
   ]
  },
  {
   "cell_type": "code",
   "execution_count": 14,
   "id": "69398401",
   "metadata": {},
   "outputs": [
    {
     "name": "stdout",
     "output_type": "stream",
     "text": [
      "233168\n"
     ]
    }
   ],
   "source": [
    "#solution\n",
    "sumofmultiples=0\n",
    "for i in range(0,1000):\n",
    "    if(i%3==0 or i%5==0):\n",
    "        sumofmultiples=sumofmultiples+i\n",
    "print(sumofmultiples)      "
   ]
  },
  {
   "cell_type": "markdown",
   "id": "58f075a2",
   "metadata": {},
   "source": [
    "### Task 8"
   ]
  },
  {
   "cell_type": "markdown",
   "id": "83c9479a",
   "metadata": {},
   "source": [
    "Write a program which asks user for a comma-separated sequence of numbers (see hint section to understand, how to create a list out of it) and prints for each element of that sequence sum of the previous element and the next element. Previous element for the first element is the last element. Next element for the last element is the first element. If user entered only one number, the program should print that number.\n",
    "\n",
    "Example:\n",
    "\n",
    "- Input: 1,3,5,6,10\n",
    "- Output: 13 6 9 15 7\n",
    "\n",
    "Hint:\n",
    "\n",
    "How to read a list from user as input:\n"
   ]
  },
  {
   "cell_type": "code",
   "execution_count": 15,
   "id": "b72a1cc8",
   "metadata": {},
   "outputs": [
    {
     "name": "stdout",
     "output_type": "stream",
     "text": [
      "Enter a list of numbers\n",
      "2, 3\n",
      "[2, 3]\n"
     ]
    }
   ],
   "source": [
    "list_numbers = list(eval(input('Enter a list of numbers\\n')))\n",
    "print(list_numbers)"
   ]
  },
  {
   "cell_type": "code",
   "execution_count": 16,
   "id": "99359cf5",
   "metadata": {},
   "outputs": [
    {
     "name": "stdout",
     "output_type": "stream",
     "text": [
      "Enter a list of numbers\n",
      "1,3,5,6,10\n"
     ]
    },
    {
     "data": {
      "text/plain": [
       "[13, 6, 9, 15, 7]"
      ]
     },
     "execution_count": 16,
     "metadata": {},
     "output_type": "execute_result"
    }
   ],
   "source": [
    "#solution\n",
    "numbers = list(eval(input('Enter a list of numbers\\n')))\n",
    "output_list=[]\n",
    "j=0\n",
    "for i in range(len(numbers)):\n",
    "    if i == 0:\n",
    "        j= numbers[-1] + numbers[i+1]\n",
    "    elif i == len(numbers)-1:\n",
    "        j=numbers[i-1] + numbers[0]\n",
    "    else:\n",
    "        j=numbers[i - 1] + numbers[i + 1]\n",
    "    output_list.append(j)\n",
    "output_list      "
   ]
  },
  {
   "cell_type": "markdown",
   "id": "05db72f2",
   "metadata": {},
   "source": [
    "### Task 9"
   ]
  },
  {
   "cell_type": "markdown",
   "id": "a7fbe84c",
   "metadata": {},
   "source": [
    "Write a program which asks to the user a text and a word, and remove from the text all the letters that appear in the word, then prints it\n",
    "\n",
    "Example:\n",
    "  - tell me a sentence: The cat is on the table\n",
    "  - tell me a word: apple\n",
    "  - Result: Th ct is on th tb\n",
    "  \n",
    "Hint: To check whether a letter is into a string, you can use in:\n",
    "\n",
    "print('p' in 'apple') # True\n",
    "\n",
    "            \n"
   ]
  },
  {
   "cell_type": "code",
   "execution_count": 18,
   "id": "a919759a",
   "metadata": {},
   "outputs": [
    {
     "name": "stdout",
     "output_type": "stream",
     "text": [
      "Tell me a sentence: the cat is on the table\n",
      "Tell me a word: apple\n"
     ]
    },
    {
     "data": {
      "text/plain": [
       "'th ct is on th tb'"
      ]
     },
     "execution_count": 18,
     "metadata": {},
     "output_type": "execute_result"
    }
   ],
   "source": [
    "#solution\n",
    "#create a funtion\n",
    "def sentenceandword():\n",
    "    output=''\n",
    "    sentence = input(\"Tell me a sentence: \")\n",
    "    word = input(\"Tell me a word: \")\n",
    "    for letter in sentence:\n",
    "        if letter not in word:\n",
    "            output+=letter\n",
    "    return output\n",
    "#call the function\n",
    "sentenceandword()"
   ]
  },
  {
   "cell_type": "code",
   "execution_count": 19,
   "id": "e6e64fef",
   "metadata": {},
   "outputs": [
    {
     "name": "stdout",
     "output_type": "stream",
     "text": [
      "Tell me a sentence: hello world\n",
      "Tell me a word: top\n"
     ]
    },
    {
     "data": {
      "text/plain": [
       "'hell wrld'"
      ]
     },
     "execution_count": 19,
     "metadata": {},
     "output_type": "execute_result"
    }
   ],
   "source": [
    "sentenceandword()"
   ]
  },
  {
   "cell_type": "markdown",
   "id": "0e2887ec",
   "metadata": {},
   "source": [
    "### Task 10"
   ]
  },
  {
   "cell_type": "markdown",
   "id": "140e5ade",
   "metadata": {},
   "source": [
    "Write a program which asks to the user a list of words and prints the words appearing more than once\n",
    "\n",
    "Example:  \n",
    "- Input: three bottle bag park cup bag hammer\n",
    "- Output: bag\n",
    "\n",
    "Hint: To get a list of strings, you can use split and pass a space:\n",
    "\n",
    "words = input('tell me some words').split(' ')\n",
    "Remember: you can sort lists of strings, not only numbers!\n"
   ]
  },
  {
   "cell_type": "code",
   "execution_count": 21,
   "id": "fac080e2",
   "metadata": {},
   "outputs": [
    {
     "name": "stdout",
     "output_type": "stream",
     "text": [
      "Tell me some words:three bottle bag park cup bag hammer\n"
     ]
    },
    {
     "data": {
      "text/plain": [
       "{'bag'}"
      ]
     },
     "execution_count": 21,
     "metadata": {},
     "output_type": "execute_result"
    }
   ],
   "source": [
    "def keyword():\n",
    "    words = input('Tell me some words:').split(' ')\n",
    "    count={}\n",
    "    for i in words:\n",
    "        if not i in count:\n",
    "            count[i]=1\n",
    "        else:\n",
    "            count[i]+=1\n",
    "    return {key for (key,value) in count.items() if value > 1}\n",
    "keyword()"
   ]
  },
  {
   "cell_type": "markdown",
   "id": "9f75f5d7",
   "metadata": {},
   "source": [
    "### Task 11 - Function"
   ]
  },
  {
   "cell_type": "markdown",
   "id": "34db81c7",
   "metadata": {},
   "source": [
    "Write a function that takes as input a list of strings and returns the longest string\n",
    "\n",
    "Example:\n",
    "- Input: ['hello', 'check', 'amazing']\n",
    "- Output: 'amazing'\n",
    "- Input: ['lol', 'wow', 'great']\n",
    "- Output: 'great'"
   ]
  },
  {
   "cell_type": "code",
   "execution_count": 22,
   "id": "f074f542",
   "metadata": {},
   "outputs": [
    {
     "name": "stdout",
     "output_type": "stream",
     "text": [
      "Enter elements of a list separated by space: hello check amazing\n"
     ]
    },
    {
     "data": {
      "text/plain": [
       "'amazing'"
      ]
     },
     "execution_count": 22,
     "metadata": {},
     "output_type": "execute_result"
    }
   ],
   "source": [
    "#solution\n",
    "def longest():\n",
    "    input_string = input('Enter elements of a list separated by space: ')\n",
    "    user_list = input_string.split()\n",
    "    dic={}\n",
    "    for i in user_list:\n",
    "            dic[str(i)] = len(i)\n",
    "    return max(dic, key=dic.get)\n",
    "longest()"
   ]
  },
  {
   "cell_type": "code",
   "execution_count": 23,
   "id": "898b910c",
   "metadata": {},
   "outputs": [
    {
     "name": "stdout",
     "output_type": "stream",
     "text": [
      "Enter elements of a list separated by space: hello check amazing\n",
      "amazing\n"
     ]
    }
   ],
   "source": [
    "#solution alternative\n",
    "input_string = input('Enter elements of a list separated by space: ')\n",
    "user_list = input_string.split()\n",
    "dic= {str(i): len(i) for i in user_list}\n",
    "max_value=max(dic, key=dic.get)\n",
    "print(max_value)"
   ]
  },
  {
   "cell_type": "markdown",
   "id": "ed6a6b00",
   "metadata": {},
   "source": [
    "### Task 12 - Function"
   ]
  },
  {
   "cell_type": "markdown",
   "id": "2de72be7",
   "metadata": {},
   "source": [
    "Write a function that gets a number n as input and it prints all numbers from 1 till n on one line.\n",
    "Example:\n",
    "- Input: 5, \n",
    "- Output (displayed):  1 2 3 4 5\n",
    "- Input: 3\n",
    "- Output (displayed):  1 2 3\n"
   ]
  },
  {
   "cell_type": "code",
   "execution_count": 24,
   "id": "263723b1",
   "metadata": {},
   "outputs": [
    {
     "name": "stdout",
     "output_type": "stream",
     "text": [
      "Enter a number: 6\n",
      "1 2 3 4 5 6 "
     ]
    }
   ],
   "source": [
    "#solution\n",
    "def func1():\n",
    "    input_number = int(input('Enter a number: '))\n",
    "    for i in range(1,input_number+1):\n",
    "        print(i, end = \" \")\n",
    "        i += 1\n",
    "func1()"
   ]
  },
  {
   "cell_type": "markdown",
   "id": "03f6779f",
   "metadata": {},
   "source": [
    "### Task 13 - Function"
   ]
  },
  {
   "cell_type": "markdown",
   "id": "d03c8e45",
   "metadata": {},
   "source": [
    "Write a function that takes a number n as input and prints a pyramid of numbers as in the examples below\n",
    "\n",
    "- Input: 4\n",
    "- Output:\n",
    "    1\n",
    "    1 2\n",
    "    1 2 3\n",
    "    1 2 3 4"
   ]
  },
  {
   "cell_type": "code",
   "execution_count": 25,
   "id": "3b539a6a",
   "metadata": {},
   "outputs": [
    {
     "name": "stdout",
     "output_type": "stream",
     "text": [
      "Enter a number: 4\n",
      "1 \n",
      "1 2 \n",
      "1 2 3 \n",
      "1 2 3 4 \n"
     ]
    }
   ],
   "source": [
    "#solution\n",
    "def func2():\n",
    "    input_number = int(input('Enter a number: '))\n",
    "    for i in range(1, input_number + 1):\n",
    "        for j in range(1, i + 1):\n",
    "            print(j, end=\" \")\n",
    "        print('')\n",
    "func2()   "
   ]
  }
 ],
 "metadata": {
  "kernelspec": {
   "display_name": "Python 3 (ipykernel)",
   "language": "python",
   "name": "python3"
  },
  "language_info": {
   "codemirror_mode": {
    "name": "ipython",
    "version": 3
   },
   "file_extension": ".py",
   "mimetype": "text/x-python",
   "name": "python",
   "nbconvert_exporter": "python",
   "pygments_lexer": "ipython3",
   "version": "3.9.12"
  }
 },
 "nbformat": 4,
 "nbformat_minor": 5
}
