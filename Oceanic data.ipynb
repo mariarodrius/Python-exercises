{
 "cells": [
  {
   "cell_type": "code",
   "execution_count": 2,
   "id": "612e26af",
   "metadata": {},
   "outputs": [
    {
     "name": "stdout",
     "output_type": "stream",
     "text": [
      "Requirement already satisfied: netcdf4 in c:\\users\\redi\\anaconda3\\lib\\site-packages (1.5.8)\n",
      "Requirement already satisfied: cftime in c:\\users\\redi\\anaconda3\\lib\\site-packages (from netcdf4) (1.6.0)\n",
      "Requirement already satisfied: numpy>=1.9 in c:\\users\\redi\\anaconda3\\lib\\site-packages (from netcdf4) (1.21.5)\n"
     ]
    }
   ],
   "source": [
    "!pip install netcdf4\n",
    "\n",
    "#In another code block type: \n",
    "import xarray as xr\n",
    "import matplotlib.pyplot as plt\n",
    "\n",
    "# This code downloads a datafile to our server\n",
    "#!wget https://data.nodc.noaa.gov/argo/gadr/data/aoml/4903200/nodc_4903200_prof.nc\n",
    "\n",
    "#!pip install netcdf4\n",
    "#import xarray as xr\n",
    "#import matplotlib.pyplot as plt\n",
    "# Lets load the dataset using xarray\n"
   ]
  },
  {
   "cell_type": "code",
   "execution_count": 9,
   "id": "7c3e678b",
   "metadata": {
    "scrolled": false
   },
   "outputs": [
    {
     "name": "stdout",
     "output_type": "stream",
     "text": [
      "Collecting wget\n",
      "  Downloading wget-3.2.zip (10 kB)\n",
      "Building wheels for collected packages: wget\n",
      "  Building wheel for wget (setup.py): started\n",
      "  Building wheel for wget (setup.py): finished with status 'done'\n",
      "  Created wheel for wget: filename=wget-3.2-py3-none-any.whl size=9675 sha256=9c91af97ed13f872e5dbdc118e4f6d040bdf04ee36e5624837153edac39fce11\n",
      "  Stored in directory: c:\\users\\redi\\appdata\\local\\pip\\cache\\wheels\\04\\5f\\3e\\46cc37c5d698415694d83f607f833f83f0149e49b3af9d0f38\n",
      "Successfully built wget\n",
      "Installing collected packages: wget\n",
      "Successfully installed wget-3.2\n"
     ]
    }
   ],
   "source": [
    "!pip install wget\n",
    "#import wget\n",
    "#wget https://data.nodc.noaa.gov/argo/gadr/data/aoml/4903200/nodc_4903200_prof.nc"
   ]
  },
  {
   "cell_type": "code",
   "execution_count": 19,
   "id": "39d115fd",
   "metadata": {},
   "outputs": [],
   "source": [
    "import wget"
   ]
  },
  {
   "cell_type": "code",
   "execution_count": 21,
   "id": "1361f1fd",
   "metadata": {},
   "outputs": [
    {
     "ename": "SyntaxError",
     "evalue": "invalid syntax (2167171279.py, line 1)",
     "output_type": "error",
     "traceback": [
      "\u001b[1;36m  Input \u001b[1;32mIn [21]\u001b[1;36m\u001b[0m\n\u001b[1;33m    wget https://data.nodc.noaa.gov/argo/gadr/data/aoml/4903200/nodc_4903200_prof.nc\u001b[0m\n\u001b[1;37m         ^\u001b[0m\n\u001b[1;31mSyntaxError\u001b[0m\u001b[1;31m:\u001b[0m invalid syntax\n"
     ]
    }
   ],
   "source": [
    "wget https://data.nodc.noaa.gov/argo/gadr/data/aoml/4903200/nodc_4903200_prof.nc"
   ]
  }
 ],
 "metadata": {
  "kernelspec": {
   "display_name": "Python 3 (ipykernel)",
   "language": "python",
   "name": "python3"
  },
  "language_info": {
   "codemirror_mode": {
    "name": "ipython",
    "version": 3
   },
   "file_extension": ".py",
   "mimetype": "text/x-python",
   "name": "python",
   "nbconvert_exporter": "python",
   "pygments_lexer": "ipython3",
   "version": "3.9.12"
  }
 },
 "nbformat": 4,
 "nbformat_minor": 5
}
