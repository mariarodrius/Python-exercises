{
 "cells": [
  {
   "cell_type": "markdown",
   "id": "7f7b4f67",
   "metadata": {},
   "source": [
    "# Homework 2"
   ]
  },
  {
   "cell_type": "markdown",
   "id": "41f4a104",
   "metadata": {},
   "source": [
    "## Interactive programming"
   ]
  },
  {
   "cell_type": "markdown",
   "id": "f5173f0b",
   "metadata": {},
   "source": [
    "You will use here : Input, variables, operators, conditionals"
   ]
  },
  {
   "cell_type": "markdown",
   "id": "5185c3ab",
   "metadata": {},
   "source": [
    "### Task 1"
   ]
  },
  {
   "cell_type": "markdown",
   "id": "1c363335",
   "metadata": {},
   "source": [
    "You are in a country X and travelling to Germany next week. You have 100 dollars and you want to convert them to euros. You go to a currency exchange center and they tell you that they cannot convert it directly: they have first to convert the 100 dollars to currency X, and then convert it from currency X to euros. \n",
    "Write a program which asks an amount to the user, makes a conversion of 100 dollars to euro and prints the result, given that: \n",
    "\n",
    "-\texchange rate from dollars to currency X is 15 (1 dollar become 15X)\n",
    "-\texchange rate from currency X to euros is 0.05 (1 X become 0.05 Euros)\n",
    "\n",
    "Hints:\n",
    "-\tCreate a variable storing the amount of dollars you have\n",
    "-\tCreate two variables for conversion rates\n",
    "-\tMultiply the amount of dollars by conversion rate from dollars to currency X and then multiply the result by conversion rate from currency X to euros\n",
    "-\tOutput the result using function print\n"
   ]
  },
  {
   "cell_type": "code",
   "execution_count": 6,
   "id": "cc27a5c2",
   "metadata": {},
   "outputs": [
    {
     "name": "stdout",
     "output_type": "stream",
     "text": [
      "Amount to be converted?\n",
      "10\n",
      "10 dollars\n",
      "\n",
      "The amount to be converted is 10 dollars\n",
      "The amount to be converted is 10 dollars\n",
      "\n",
      "10.0 dollars convert to 150.0 currency X; i.e. 1 dollar=15*X\n",
      "\n",
      "10.0 dollars convert to 7.5 euros (1 X=0.05 Euros)\n"
     ]
    }
   ],
   "source": [
    "no_d=input ('Amount to be converted?\\n')\n",
    "print (no_d + ' dollars\\n')  # how to print his directly after the input number?\n",
    "print('The amount to be converted is {0}'.format(no_d) + ' dollars')\n",
    "print('The amount to be converted is %s dollars\\n' % no_d)\n",
    "\n",
    "no_d=float (no_d)  ### here we establish that the input is a number \n",
    "cr=15.0\n",
    "\n",
    "no_X=no_d*cr\n",
    "#print (no_X)\n",
    "#print ('%s currency X; i.e. 1 dollar=15*X\\n' % no_X) \n",
    "print ('%s dollars convert to ' % no_d +'%s currency X; i.e. 1 dollar=15*X\\n' % no_X)\n",
    "\n",
    "no_E=no_X*0.05\n",
    "print ('%s dollars convert to ' % no_d +'%s euros (1 X=0.05 Euros)' % no_E)"
   ]
  },
  {
   "cell_type": "markdown",
   "id": "00662b36",
   "metadata": {},
   "source": [
    "### Task 2"
   ]
  },
  {
   "cell_type": "markdown",
   "id": "096abd9e",
   "metadata": {},
   "source": [
    "Create a program which asks the user for a radius of a circle, and outputs the area and circumference of that circle.\n",
    "\n",
    "Hints\n",
    "-\tAsk the user for a radius using input function and save the user’s input into a variable. Don’t forget that input function returns strings that should be converted to numbers (floating-point in this case) for arithmetic operations.\n",
    "-\tCalculate the area using the formula: S = 3.14 * radius * radius and store the result in a variable.\n",
    "-\tCalculate the circumference using the formula: L = 2 * 3.14 * radius and store the result in a variable.\n",
    "-\tOutput both results using function print. You can try to print the answer in a form: “The area is X, the circumference is Y”, where is X is the calculated area and Y is the calculated circumference - function print can output as many values as you want. \n"
   ]
  },
  {
   "cell_type": "code",
   "execution_count": 11,
   "id": "85eb2e05",
   "metadata": {
    "scrolled": true
   },
   "outputs": [
    {
     "name": "stdout",
     "output_type": "stream",
     "text": [
      "Radius: 3\n",
      "\n",
      "Area: 28.26\n",
      "\n",
      "Circumference: 18.84\n",
      "\n",
      "For a Radius = 3.0 ==> Area: 28.26. Circumference: 18.84.\n"
     ]
    }
   ],
   "source": [
    "r=input ('Radius: ')\n",
    "r=float (r)\n",
    "Area=3.14*(r**2)\n",
    "print ('\\nArea: %s\\n' %Area)\n",
    "Circumference=2*3.14*r\n",
    "print ('Circumference: %s' %Circumference)\n",
    "print ('\\nFor a Radius = %s ==>' %r + ' Area: %s. ' % Area +'Circumference: %s.' % Circumference)"
   ]
  },
  {
   "cell_type": "markdown",
   "id": "63b28a49",
   "metadata": {},
   "source": [
    "### Task 3"
   ]
  },
  {
   "cell_type": "markdown",
   "id": "6a46d6f5",
   "metadata": {},
   "source": [
    "Create a program which asks the user for two integer numbers and prints the bigger one.\n",
    "\n",
    "Hints\n",
    "-\tAsk the user for a first number using input function and save the user’s input into a variable. Don’t forget that input function returns strings that should be converted to numbers (integer in this case).\n",
    "-\tAsk the user for a second number using input function and save the user’s input into a variable. Don’t forget that input function returns strings that should be converted to numbers (integer in this case).\n",
    "-\tUsing the conditionals (if-else construction) output either first or second variable depending on which one is bigger. To define a condition use comparison operators (operator > in this case)\n"
   ]
  },
  {
   "cell_type": "code",
   "execution_count": 15,
   "id": "86cf6474",
   "metadata": {},
   "outputs": [
    {
     "name": "stdout",
     "output_type": "stream",
     "text": [
      "Enter number 1: 5\n",
      "Enter number 2: 3\n",
      "5\n",
      "5 > 3\n"
     ]
    }
   ],
   "source": [
    "int1=input('Enter number 1: ')\n",
    "int2=input('Enter number 2: ')\n",
    "int1=int (int1)\n",
    "int2=int (int2)\n",
    "if int1>int2:\n",
    "    print (int1)\n",
    "    print ('%s > ' %int1 + '%s' %int2)\n",
    "else:\n",
    "    print (int2)\n",
    "    print ('%s < ' %int1 + '%s' %int2)"
   ]
  },
  {
   "cell_type": "markdown",
   "id": "c846a838",
   "metadata": {},
   "source": [
    "### Task 4"
   ]
  },
  {
   "cell_type": "markdown",
   "id": "d7c468e1",
   "metadata": {},
   "source": [
    "Create a program which asks the user for the current hour (a number from 0 to 23). Depending on the user’s input, the program should print: \n",
    "-\t“It’s breakfast time” if the hour is between 7 and 11\n",
    "-\t“It’s lunch time” if the hour is between 12 and 16\n",
    "-\t“It’s dinner time” if the hour is between 17 and 22\n",
    "-\t“It’s sleeping time” if the hour is between 23 and 6\n",
    "What if user enters a negative number like -1 or big number like 53? Try to handle this situation in your program\n",
    "\n",
    "Hints\n",
    "-\tAsk the user for a hour using input function and save the user’s input into a variable. Don’t forget that input function returns strings that should be converted to numbers (integer in this case).\n",
    "-\tUsing the conditionals (if-elif-else construction) output either of four lines depending on the result of comparison of the number given by the user to the given numbers (7, 11, 16, 22)\n",
    "-\tTo ensure that the user input is correct (the number is between 0 and 23) you can use another conditional right after user’s input: if the number is within the given interval - program continues, otherwise - prints the error message and finishes.\n"
   ]
  },
  {
   "cell_type": "code",
   "execution_count": 2,
   "id": "060515d3",
   "metadata": {},
   "outputs": [
    {
     "name": "stdout",
     "output_type": "stream",
     "text": [
      "Current hour: g\n"
     ]
    },
    {
     "ename": "ValueError",
     "evalue": "invalid literal for int() with base 10: 'g'",
     "output_type": "error",
     "traceback": [
      "\u001b[1;31m---------------------------------------------------------------------------\u001b[0m",
      "\u001b[1;31mValueError\u001b[0m                                Traceback (most recent call last)",
      "Input \u001b[1;32mIn [2]\u001b[0m, in \u001b[0;36m<cell line: 7>\u001b[1;34m()\u001b[0m\n\u001b[0;32m      2\u001b[0m hour\u001b[38;5;241m=\u001b[39m\u001b[38;5;28minput\u001b[39m(\u001b[38;5;124m'\u001b[39m\u001b[38;5;124mCurrent hour: \u001b[39m\u001b[38;5;124m'\u001b[39m)\n\u001b[0;32m      3\u001b[0m \u001b[38;5;66;03m#print(isinstance(hour, int)) #print boolean to chack is hour is an integer\u001b[39;00m\n\u001b[0;32m      4\u001b[0m \n\u001b[0;32m      5\u001b[0m \u001b[38;5;66;03m#if isinstance(hour, float)==True or if isinstance(hour, int)==True:\u001b[39;00m\n\u001b[1;32m----> 7\u001b[0m hour\u001b[38;5;241m=\u001b[39m\u001b[38;5;28;43mint\u001b[39;49m\u001b[43m(\u001b[49m\u001b[43mhour\u001b[49m\u001b[43m)\u001b[49m\n\u001b[0;32m      8\u001b[0m \u001b[38;5;66;03m#for hour in [0, 1, 2, 3, 4, 5, 6, 7, 8, 9, 10, 11, 12, 13, 14, 15, 16, 17, 18, 19, 20, 21, 22, 23]:\u001b[39;00m\n\u001b[0;32m      9\u001b[0m \u001b[38;5;28;01mif\u001b[39;00m hour\u001b[38;5;241m>\u001b[39m\u001b[38;5;241m=\u001b[39m\u001b[38;5;241m0\u001b[39m \u001b[38;5;129;01mand\u001b[39;00m hour\u001b[38;5;241m<\u001b[39m\u001b[38;5;241m24\u001b[39m:    \n",
      "\u001b[1;31mValueError\u001b[0m: invalid literal for int() with base 10: 'g'"
     ]
    }
   ],
   "source": [
    "#code works but does not compile here\n",
    "hour=input('Current hour: ')\n",
    "#print(isinstance(hour, int)) #print boolean to check is hour is an integer\n",
    "\n",
    "#if isinstance(hour, float)==True or if isinstance(hour, int)==True:\n",
    "\n",
    "hour=int(hour)\n",
    "\n",
    "#for hour in [0, 1, 2, 3, 4, 5, 6, 7, 8, 9, 10, 11, 12, 13, 14, 15, 16, 17, 18, 19, 20, 21, 22, 23]:\n",
    "if hour>=0 and hour<24:    \n",
    "    if hour>=7 and hour<=11:\n",
    "        print ('It is breakfast time')\n",
    "    elif hour>=12 and hour<=16:\n",
    "        print ('It is lunch time')\n",
    "    elif hour>=17 and hour<=22:\n",
    "        print ('It is dinner time')\n",
    "    else:\n",
    "        print ('It is sleeping time')\n",
    "\n",
    "else:\n",
    "    print ('Error')\n",
    "    \n",
    "#else:\n",
    " #   print ('Error')\n",
    "    #for clock in range(24):\n",
    "        #print (clock)\n",
    "#    if hour!= range(24):\n",
    "#        print ('Error. Next time enter an hour in integer form')\n",
    "#    return"
   ]
  },
  {
   "cell_type": "code",
   "execution_count": 3,
   "id": "e1c391e9",
   "metadata": {},
   "outputs": [
    {
     "ename": "ValueError",
     "evalue": "invalid literal for int() with base 10: 'g'",
     "output_type": "error",
     "traceback": [
      "\u001b[1;31m---------------------------------------------------------------------------\u001b[0m",
      "\u001b[1;31mValueError\u001b[0m                                Traceback (most recent call last)",
      "Input \u001b[1;32mIn [3]\u001b[0m, in \u001b[0;36m<cell line: 1>\u001b[1;34m()\u001b[0m\n\u001b[1;32m----> 1\u001b[0m \u001b[38;5;28;43mint\u001b[39;49m\u001b[43m(\u001b[49m\u001b[38;5;124;43m'\u001b[39;49m\u001b[38;5;124;43mg\u001b[39;49m\u001b[38;5;124;43m'\u001b[39;49m\u001b[43m)\u001b[49m\n",
      "\u001b[1;31mValueError\u001b[0m: invalid literal for int() with base 10: 'g'"
     ]
    }
   ],
   "source": [
    "int('g')"
   ]
  },
  {
   "cell_type": "markdown",
   "id": "06778e5f",
   "metadata": {},
   "source": [
    "### Bonus 1"
   ]
  },
  {
   "cell_type": "markdown",
   "id": "92710f4b",
   "metadata": {},
   "source": [
    "Fix the last program from Lesson2 nested_conditions so that it works correctly if the hour input is 1. For example, if the hour is bigger than 22 or smaller than 7, the program should consider it to be late and so  young users should sleep and older users still can watch a movie."
   ]
  },
  {
   "cell_type": "code",
   "execution_count": 35,
   "id": "f1a206b7",
   "metadata": {},
   "outputs": [
    {
     "name": "stdout",
     "output_type": "stream",
     "text": [
      "Current hour: 23\n",
      "How old are you? 22\n",
      "Movie and/or bed time\n"
     ]
    }
   ],
   "source": [
    "hour=input('Current hour: ')\n",
    "hour=int(hour)\n",
    "age=input('How old are you? ')\n",
    "age=int(age)\n",
    "\n",
    "if age>18:\n",
    "    if hour>=7 and hour<=11:\n",
    "        print ('It is breakfast time')\n",
    "    elif hour>=12 and hour<=16:\n",
    "        print ('It is lunch time')\n",
    "    elif hour>=17 and hour<=22:\n",
    "        print ('It is dinner time')\n",
    "    else:\n",
    "        print ('Movie and/or bed time')\n",
    "else:\n",
    "    if hour>=7 and hour<=11:\n",
    "        print ('It is breakfast time')\n",
    "    elif hour>=12 and hour<=16:\n",
    "        print ('It is lunch time')\n",
    "    elif hour>=17 and hour<=22:\n",
    "        print ('It is dinner time')\n",
    "    else:\n",
    "        print ('It is sleeping time')\n",
    "            "
   ]
  },
  {
   "cell_type": "markdown",
   "id": "018adf6e",
   "metadata": {},
   "source": [
    "### Bonus 2"
   ]
  },
  {
   "cell_type": "markdown",
   "id": "9e0060ae",
   "metadata": {},
   "source": [
    "Reimplement the last program from Lesson2 nested_conditions so that it doesn’t contain nested conditions, e.g. there is no if conditional inside another if conditional. It’s possible to do using if-elif-else construction and logical operators: or, and, not "
   ]
  },
  {
   "cell_type": "code",
   "execution_count": null,
   "id": "5427e888",
   "metadata": {},
   "outputs": [],
   "source": [
    "#write your solution here"
   ]
  },
  {
   "cell_type": "markdown",
   "id": "74dc6837",
   "metadata": {},
   "source": [
    "### Task 5"
   ]
  },
  {
   "cell_type": "markdown",
   "id": "bd5f0467",
   "metadata": {},
   "source": [
    "Write a program which reads integer numbers from user’s input one by one and does the following:\n",
    "If the number is less than 10 - skip that number and read a new one \n",
    "If the number is bigger, than 100 - finish the program\n",
    "Otherwise - print the number in a new line and read a new number.\n",
    "\n",
    "Example:\n",
    "\n",
    "- Input: 12 4 2 58 112\n",
    "- Output: 12 58"
   ]
  },
  {
   "cell_type": "code",
   "execution_count": null,
   "id": "19dc6b27",
   "metadata": {},
   "outputs": [],
   "source": [
    "number1, number2, number3, number4, number5=input('Enter 5 numbers separated by space ').split()\n",
    "number1=int(number1)\n",
    "number2=int(number2)\n",
    "number3=int(number3)\n",
    "number4=int(number4)\n",
    "number5=int(number5)\n",
    "number=[number1, number2, number3, number4, number5]\n",
    "\n",
    "i=0\n",
    "while i < 6:\n",
    "    #print(number[i])\n",
    "    if number[i]<10:\n",
    "        pass\n",
    "    i += 1\n",
    "    elif number[i]>100:\n",
    "        break #or pass?\n",
    "    else:\n",
    "    print(number[i])\n",
    "    i += 1"
   ]
  },
  {
   "cell_type": "markdown",
   "id": "ecf29784",
   "metadata": {},
   "source": [
    "### Task 6"
   ]
  },
  {
   "cell_type": "markdown",
   "id": "bd376622",
   "metadata": {},
   "source": [
    "Write a program which reads integer numbers from user’s input one by one until the sum of the given numbers is not 0. When the sum of the numbers is 0, program should print all the given numbers sorted and finish\n",
    "\n",
    "Example:\n",
    "\n",
    "- Input:   1  -3  5  -6  -10  13\n",
    "- Output: -10 -6 -3   1   5   13 "
   ]
  },
  {
   "cell_type": "code",
   "execution_count": null,
   "id": "03dea270",
   "metadata": {},
   "outputs": [],
   "source": [
    "#write your solution here"
   ]
  },
  {
   "cell_type": "markdown",
   "id": "5189738f",
   "metadata": {},
   "source": [
    "### Task 7"
   ]
  },
  {
   "cell_type": "markdown",
   "id": "f87671b2",
   "metadata": {},
   "source": [
    "If we list all the natural numbers below 10 which are multiples of 3 or 5, we get 3, 5, 6 and 9. The sum of these multiples is 23. Write a program which finds the sum of all the multiples of 3 or 5 below 1000.\n"
   ]
  },
  {
   "cell_type": "code",
   "execution_count": 2,
   "id": "1af8aa6d",
   "metadata": {},
   "outputs": [],
   "source": [
    "#write your solution here"
   ]
  },
  {
   "cell_type": "markdown",
   "id": "fabd7d23",
   "metadata": {},
   "source": [
    "### Task 8"
   ]
  },
  {
   "cell_type": "markdown",
   "id": "1dcfec89",
   "metadata": {},
   "source": [
    "Write a program which asks user for a comma-separated sequence of numbers (see hint section to understand, how to create a list out of it) and prints for each element of that sequence sum of the previous element and the next element. Previous element for the first element is the last element. Next element for the last element is the first element. If user entered only one number, the program should print that number.\n",
    "\n",
    "Example:\n",
    "\n",
    "- Input: 1,3,5,6,10\n",
    "- Output: 13 6 9 15 7\n",
    "\n",
    "Hint:\n",
    "\n",
    "How to read a list from user as input:\n"
   ]
  },
  {
   "cell_type": "code",
   "execution_count": 6,
   "id": "fad4c930",
   "metadata": {},
   "outputs": [
    {
     "name": "stdout",
     "output_type": "stream",
     "text": [
      "Enter a list of numbers\n",
      "2,3\n",
      "[2, 3]\n"
     ]
    }
   ],
   "source": [
    "list_numbers = list(eval(input('Enter a list of numbers\\n')))\n",
    "print(list_numbers)"
   ]
  },
  {
   "cell_type": "code",
   "execution_count": 7,
   "id": "7bd736ec",
   "metadata": {},
   "outputs": [],
   "source": [
    "#write your solution here"
   ]
  },
  {
   "cell_type": "markdown",
   "id": "c40140a4",
   "metadata": {},
   "source": [
    "### Task 9"
   ]
  },
  {
   "cell_type": "markdown",
   "id": "4ca0cfce",
   "metadata": {},
   "source": [
    "Write a program which asks to the user a text and a word, and remove from the text all the letters that appear in the word, then prints it\n",
    "\n",
    "Example:\n",
    "  - tell me a sentence: The cat is on the table\n",
    "  - tell me a word: apple\n",
    "  - Result: Th ct is on th tb\n",
    "  \n",
    "Hint: To check whether a letter is into a string, you can use in:\n",
    "\n",
    "print('p' in 'apple') # True\n",
    "\n",
    "            \n"
   ]
  },
  {
   "cell_type": "code",
   "execution_count": null,
   "id": "2f27eb8c",
   "metadata": {},
   "outputs": [],
   "source": [
    "#write your solution here"
   ]
  },
  {
   "cell_type": "markdown",
   "id": "6f3fb762",
   "metadata": {},
   "source": [
    "### Task 10"
   ]
  },
  {
   "cell_type": "markdown",
   "id": "f5eaaebd",
   "metadata": {},
   "source": [
    "Write a program which asks to the user a list of words and prints the words appearing more than once\n",
    "\n",
    "Example:  \n",
    "- Input: three bottle bag park cup bag hammer\n",
    "- Output: bag\n",
    "\n",
    "Hint: To get a list of strings, you can use split and pass a space:\n",
    "\n",
    "words = input('tell me some words').split(' ')\n",
    "Remember: you can sort lists of strings, not only numbers!\n"
   ]
  },
  {
   "cell_type": "code",
   "execution_count": null,
   "id": "545091e1",
   "metadata": {},
   "outputs": [],
   "source": [
    "words = input('tell me some words\\n').split(' ')\n",
    "print(words)\n",
    "wordslist=[words]\n",
    "\n",
    "i=0\n",
    "while i<len([wordslist])\n",
    "if wordslist[i]==wordslist[i+1]:\n",
    "    print(wordslist[i])"
   ]
  },
  {
   "cell_type": "code",
   "execution_count": null,
   "id": "614ed025",
   "metadata": {},
   "outputs": [],
   "source": [
    "#write your solution here"
   ]
  },
  {
   "cell_type": "markdown",
   "id": "46afbf73",
   "metadata": {},
   "source": [
    "### Task 11 - Function"
   ]
  },
  {
   "cell_type": "markdown",
   "id": "9f68c685",
   "metadata": {},
   "source": [
    "Write a function that takes as input a list of strings and returns the longest string\n",
    "\n",
    "Example:\n",
    "- Input: ['hello', 'check', 'amazing']\n",
    "- Output: 'amazing'\n",
    "- Input: ['lol', 'wow', 'great']\n",
    "- Output: 'great'"
   ]
  },
  {
   "cell_type": "code",
   "execution_count": null,
   "id": "2eef9d00",
   "metadata": {},
   "outputs": [],
   "source": [
    "[list_of_strings]=input('Enter some words separated by space ').split()\n",
    "print(len[list_of_strings])\n",
    "for x in list_of_strings\n",
    "    print(len(list_of_strings[i])\n",
    "          while i=i+1:\n",
    "              len[list_of_strings(i)]\n",
    "                  if len[list_of_strings(i+1)]>len[list_of_strings(i)]:\n",
    "                  print(list_of_strings(i+1))"
   ]
  },
  {
   "cell_type": "markdown",
   "id": "43f3f1ca",
   "metadata": {},
   "source": [
    "### Task 12 - Function"
   ]
  },
  {
   "cell_type": "markdown",
   "id": "e76ee42f",
   "metadata": {},
   "source": [
    "Write a function that gets a number n as input and it prints all numbers from 1 till n on one line.\n",
    "Example:\n",
    "- Input: 5, \n",
    "- Output (displayed):  1 2 3 4 5\n",
    "- Input: 3\n",
    "- Output (displayed):  1 2 3\n"
   ]
  },
  {
   "cell_type": "code",
   "execution_count": 5,
   "id": "b9bee17e",
   "metadata": {},
   "outputs": [
    {
     "name": "stdout",
     "output_type": "stream",
     "text": [
      "Desired Number:\n",
      "5\n",
      " \n",
      "\n",
      "1\n",
      "2\n",
      "3\n",
      "4\n",
      "5\n"
     ]
    }
   ],
   "source": [
    "def n():\n",
    "    i=input ('Desired Number:\\n')\n",
    "    #print (i)\n",
    "    #print ('Number {0}'.format(i)'+i)\n",
    "    i=int (i)\n",
    "    print (' \\n')\n",
    "    for number in range(1, i+1):\n",
    "        print (number)\n",
    "n()"
   ]
  },
  {
   "cell_type": "markdown",
   "id": "137be2d4",
   "metadata": {},
   "source": [
    "### Task 13 - Function"
   ]
  },
  {
   "cell_type": "markdown",
   "id": "0e07be37",
   "metadata": {},
   "source": [
    "Write a function that takes a number n as input and prints a pyramid of numbers as in the examples below\n",
    "\n",
    "- Input: 4\n",
    "- Output:\n",
    "    1\n",
    "    1 2\n",
    "    1 2 3\n",
    "    1 2 3 4"
   ]
  },
  {
   "cell_type": "code",
   "execution_count": null,
   "id": "37069cf3",
   "metadata": {},
   "outputs": [],
   "source": []
  }
 ],
 "metadata": {
  "kernelspec": {
   "display_name": "Python 3 (ipykernel)",
   "language": "python",
   "name": "python3"
  },
  "language_info": {
   "codemirror_mode": {
    "name": "ipython",
    "version": 3
   },
   "file_extension": ".py",
   "mimetype": "text/x-python",
   "name": "python",
   "nbconvert_exporter": "python",
   "pygments_lexer": "ipython3",
   "version": "3.9.12"
  }
 },
 "nbformat": 4,
 "nbformat_minor": 5
}
