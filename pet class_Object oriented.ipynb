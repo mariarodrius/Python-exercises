{
 "cells": [
  {
   "cell_type": "code",
   "execution_count": 12,
   "id": "a6a108e5",
   "metadata": {},
   "outputs": [
    {
     "name": "stdout",
     "output_type": "stream",
     "text": [
      "Hello my name is maya and I am 12 years old\n",
      "Meeeeeooooww! I am a cat!\n",
      "Hello my name is bosco and I am 2 years old\n",
      "Wooof! Woof! I am a dog!\n",
      "Hello my name is speedy and I am 5 years old\n",
      "Hide! I'm shy! I am a turtle!\n",
      "Hello my name is diver and I am 1 years old\n",
      "Swoooosh! I'm flying away! I am a bird!\n"
     ]
    }
   ],
   "source": [
    "class Pet:\n",
    "    def __init__(self, name, age):\n",
    "        self.name = name\n",
    "        self.age = age\n",
    "\n",
    "    def hello(self):\n",
    "        print(\"Hello my name is \" + self.name + \" and I am \" + self.age + \" years old\")\n",
    "        \n",
    "class Cat(Pet):\n",
    "    def meow(self):\n",
    "        print(\"Meeeeeooooww! I am a cat!\")\n",
    "\n",
    "class Dog(Pet):\n",
    "    def bark(self):\n",
    "        print(\"Wooof! Woof! I am a dog!\")\n",
    "\n",
    "class Turtle(Pet):\n",
    "    def hide(self):\n",
    "        print(\"Hide! I'm shy! I am a turtle!\")\n",
    "\n",
    "class Bird(Pet):\n",
    "    def fly(self):\n",
    "        print(\"Swoooosh! I'm flying away! I am a bird!\")\n",
    "\n",
    "cat_one = Cat(\"maya\", \"12\")\n",
    "#cat_one = Cat (\"gato\", \"10\") if adding this, it overwrites the previous line\n",
    "dog_one = Dog(\"bosco\", \"2\")\n",
    "turtle_one = Turtle(\"speedy\", \"5\")\n",
    "bird_one = Bird(\"diver\", \"1\")\n",
    "\n",
    "cat_two = Cat(\"gato\", \"13\")\n",
    "dog_two = Dog(\"perro\", \"3\")\n",
    "turtle_two = Turtle(\"tortuga\", \"6\")\n",
    "bird_two = Bird(\"pajaro\", \"2\")\n",
    "\n",
    "cat_three = Cat(\"gatito\", \"14\")\n",
    "dog_three = Dog(\"perrito\", \"4\")\n",
    "turtle_three = Turtle(\"tortuguita\", \"7\")\n",
    "bird_three = Bird(\"pajarito\", \"4\")\n",
    "\n",
    "cat_four = Cat(\"gat\", \"15\")\n",
    "dog_four = Dog(\"gosu\", \"16\")\n",
    "turtle_four = Turtle(\"caparazon\", \"10\")\n",
    "bird_four = Bird(\"pardalet\", \"6\")\n",
    "\n",
    "cat_five = Cat(\"gatet\", \"16\")\n",
    "dog_five = Dog(\"goset\", \"17\")\n",
    "turtle_five = Turtle(\"caparazonet\", \"11\")\n",
    "bird_five = Bird(\"pardal\", \"8\")\n",
    "\n",
    "cat_one.hello()\n",
    "cat_one.meow()\n",
    "\n",
    "dog_one.hello()\n",
    "dog_one.bark()\n",
    "\n",
    "turtle_one.hello()\n",
    "turtle_one.hide()\n",
    "\n",
    "bird_one.hello()\n",
    "bird_one.fly()"
   ]
  },
  {
   "cell_type": "code",
   "execution_count": 16,
   "id": "850b95fd",
   "metadata": {},
   "outputs": [
    {
     "name": "stdout",
     "output_type": "stream",
     "text": [
      "ALTURA: 1\n"
     ]
    }
   ],
   "source": [
    "class Tabletype:\n",
    "    def __init__(self, height, width):\n",
    "        self.height = height  #the name after self. must be identical to the name after the =\n",
    "        self.width = width\n",
    "\n",
    "    def prueba(self):\n",
    "        print(\"ALTURA: \" + self.height)\n",
    "        \n",
    "Table_one = Tabletype(\"1\", \"2\")\n",
    "Table_one.prueba()"
   ]
  },
  {
   "cell_type": "code",
   "execution_count": null,
   "id": "44edaec3",
   "metadata": {},
   "outputs": [],
   "source": []
  }
 ],
 "metadata": {
  "kernelspec": {
   "display_name": "Python 3 (ipykernel)",
   "language": "python",
   "name": "python3"
  },
  "language_info": {
   "codemirror_mode": {
    "name": "ipython",
    "version": 3
   },
   "file_extension": ".py",
   "mimetype": "text/x-python",
   "name": "python",
   "nbconvert_exporter": "python",
   "pygments_lexer": "ipython3",
   "version": "3.9.12"
  }
 },
 "nbformat": 4,
 "nbformat_minor": 5
}
