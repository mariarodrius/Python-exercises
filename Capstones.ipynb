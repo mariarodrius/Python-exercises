{
  "nbformat": 4,
  "nbformat_minor": 0,
  "metadata": {
    "colab": {
      "provenance": [],
      "authorship_tag": "ABX9TyOyUTvj/QrsGjD2qI1IrGyk",
      "include_colab_link": true
    },
    "kernelspec": {
      "name": "python3",
      "display_name": "Python 3"
    },
    "language_info": {
      "name": "python"
    }
  },
  "cells": [
    {
      "cell_type": "markdown",
      "metadata": {
        "id": "view-in-github",
        "colab_type": "text"
      },
      "source": [
        "<a href=\"https://colab.research.google.com/github/mariarodrius/Python-exercises/blob/main/Capstones.ipynb\" target=\"_parent\"><img src=\"https://colab.research.google.com/assets/colab-badge.svg\" alt=\"Open In Colab\"/></a>"
      ]
    },
    {
      "cell_type": "code",
      "execution_count": 4,
      "metadata": {
        "colab": {
          "base_uri": "https://localhost:8080/",
          "height": 131
        },
        "id": "rgpEEBHvgVkk",
        "outputId": "1a22259a-0616-4d7d-a74a-5553bb6dcf1b"
      },
      "outputs": [
        {
          "output_type": "error",
          "ename": "SyntaxError",
          "evalue": "ignored",
          "traceback": [
            "\u001b[0;36m  File \u001b[0;32m\"<ipython-input-4-61852f17317e>\"\u001b[0;36m, line \u001b[0;32m9\u001b[0m\n\u001b[0;31m    sum+=\u001b[0m\n\u001b[0m         ^\u001b[0m\n\u001b[0;31mSyntaxError\u001b[0m\u001b[0;31m:\u001b[0m invalid syntax\n"
          ]
        }
      ],
      "source": [
        "import numpy as np \n",
        "import seaborn as sns \n",
        "import random \n",
        "incomplete_square =np.array([[2, 7, 0], [0, 0, 0], [0, 3, 8]]) \n",
        "sns.heatmap(incomplete_square, annot=True) \n",
        "# %% helper \n",
        "def is_solution_valid(square):     \n",
        "  for i in square [0,:]:\n",
        "   # sum+=\n",
        "  pass \n",
        "\n",
        "# %% main functionality \n",
        "def find_solution(square):     \n",
        "  pass \n",
        "\n",
        "# %% test the function find_solution(incomplete_square) \n",
        "\n",
        "#%% numpy quick intro \n",
        "np.sum(incomplete_square[0, :]) \n",
        "# incomplete_square # %% \n",
        "np.sum(np.diag(incomplete_square)) \n",
        "\n",
        "#%%\n",
        "random.choice([1, 2, 3, 4, 5]) \n",
        "# %%\n",
        "\n",
        "# %% CONSTRUCTION\n",
        "# Iterate over rows\n",
        "For i in range(len(square)):\n",
        "  row_sum=np.sum(square[i::])\n",
        "  if row_sum !=15:\n",
        "return False  "
      ]
    },
    {
      "cell_type": "code",
      "source": [
        "\n"
      ],
      "metadata": {
        "colab": {
          "base_uri": "https://localhost:8080/",
          "height": 131
        },
        "id": "c9trhODhjyVE",
        "outputId": "0675e50c-fdfd-4700-b55b-fac67a3b736e"
      },
      "execution_count": 3,
      "outputs": [
        {
          "output_type": "error",
          "ename": "SyntaxError",
          "evalue": "ignored",
          "traceback": [
            "\u001b[0;36m  File \u001b[0;32m\"<ipython-input-3-5e973b230740>\"\u001b[0;36m, line \u001b[0;32m3\u001b[0m\n\u001b[0;31m    For i in range(len(square)):\u001b[0m\n\u001b[0m        ^\u001b[0m\n\u001b[0;31mSyntaxError\u001b[0m\u001b[0;31m:\u001b[0m invalid syntax\n"
          ]
        }
      ]
    }
  ]
}