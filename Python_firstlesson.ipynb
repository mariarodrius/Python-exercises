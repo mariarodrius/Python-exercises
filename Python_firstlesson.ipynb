{
 "cells": [
  {
   "cell_type": "markdown",
   "id": "ad571645",
   "metadata": {},
   "source": [
    "# Python Exercises"
   ]
  },
  {
   "cell_type": "code",
   "execution_count": null,
   "id": "e3bb3d2b",
   "metadata": {},
   "outputs": [],
   "source": [
    "print(\"Hello dear students\")"
   ]
  },
  {
   "cell_type": "code",
   "execution_count": null,
   "id": "acde6eab",
   "metadata": {},
   "outputs": [],
   "source": [
    "#hello redi\n",
    "print(\"Hello ReDI\")\n",
    "print(\"Hello ReDI\\nMy name is Neslihan\")"
   ]
  },
  {
   "cell_type": "code",
   "execution_count": 1,
   "id": "4e5e971b",
   "metadata": {},
   "outputs": [
    {
     "name": "stdout",
     "output_type": "stream",
     "text": [
      "What is your name?\n",
      "Maria\n",
      "Hi, Maria.\n"
     ]
    }
   ],
   "source": [
    "# Input your name and print it \n",
    "name = input('What is your name?\\n')\n",
    "print('Hi, %s.' % name)"
   ]
  },
  {
   "cell_type": "code",
   "execution_count": 2,
   "id": "55809ce6",
   "metadata": {},
   "outputs": [
    {
     "name": "stdout",
     "output_type": "stream",
     "text": [
      "How old are you?\n",
      "32\n",
      "Your age is 32\n"
     ]
    }
   ],
   "source": [
    "# Input your age and print it \n",
    "age = input(\"How old are you?\\n\")\n",
    "print('Your age is {0}'.format(age))"
   ]
  },
  {
   "cell_type": "markdown",
   "id": "6aced2d6",
   "metadata": {},
   "source": [
    "### Variable"
   ]
  },
  {
   "cell_type": "code",
   "execution_count": null,
   "id": "c5f560f1",
   "metadata": {},
   "outputs": [],
   "source": [
    "#variable\n",
    "x = 4       #  is of type int\n",
    "print(type(x))\n",
    "print(x)\n",
    "x = \"Sally\" # x is now of type str\n",
    "print(type(x))\n",
    "print(x)"
   ]
  },
  {
   "cell_type": "code",
   "execution_count": null,
   "id": "2346990a",
   "metadata": {},
   "outputs": [],
   "source": [
    "print(x)\n",
    "#multivariable\n",
    "x, y, z = \"Orange\", \"Banana\", \"Cherry\"\n",
    "print(x)\n",
    "print(y)\n",
    "print(z)"
   ]
  },
  {
   "cell_type": "code",
   "execution_count": null,
   "id": "d9631a08",
   "metadata": {},
   "outputs": [],
   "source": [
    "#data types\n",
    "x = 5\n",
    "print(type(x))"
   ]
  },
  {
   "cell_type": "code",
   "execution_count": null,
   "id": "90ad75cf",
   "metadata": {},
   "outputs": [],
   "source": [
    "#numeric variables\n",
    "x = 1   #int\n",
    "print(type(x))\n",
    "y = 2.8  #float\n",
    "print(type(y))\n",
    "z = 1j   # complex\n",
    "print(type(z))"
   ]
  },
  {
   "cell_type": "code",
   "execution_count": null,
   "id": "0d7cb578",
   "metadata": {},
   "outputs": [],
   "source": [
    "x=5\n",
    "print(x)"
   ]
  },
  {
   "cell_type": "code",
   "execution_count": null,
   "id": "f322c107",
   "metadata": {},
   "outputs": [],
   "source": [
    "x=7.2"
   ]
  },
  {
   "cell_type": "code",
   "execution_count": null,
   "id": "7bf94722",
   "metadata": {},
   "outputs": [],
   "source": [
    "a='hello'\n",
    "print(a)\n",
    "print(x)"
   ]
  },
  {
   "cell_type": "code",
   "execution_count": null,
   "id": "f5123f3e",
   "metadata": {},
   "outputs": [],
   "source": [
    "#sum as strings\n",
    "a = input('Enter first number: ')\n",
    "b = input('Enter second number: ')\n",
    "sum = a + b\n",
    "print(sum)\n",
    "type(sum)"
   ]
  },
  {
   "cell_type": "code",
   "execution_count": null,
   "id": "fac36632",
   "metadata": {},
   "outputs": [],
   "source": [
    "#sum as integer\n",
    "a = input('Enter first number: ')\n",
    "b = input('Enter second number: ')\n",
    "sum = int(a) + int(b)\n",
    "#print(type(sum))\n",
    "#print(sum)\n",
    "print('Sum is {0}'.format(sum))\n",
    "print(type(a))\n",
    "print(type(b))\n",
    "print(type(sum))"
   ]
  },
  {
   "cell_type": "code",
   "execution_count": null,
   "id": "dcd17415",
   "metadata": {},
   "outputs": [],
   "source": [
    "#sum as float\n",
    "a = input('Enter first number: ')\n",
    "b = input('Enter second number: ')\n",
    "sum = float(a) + float(b)\n",
    "#print(type(sum))\n",
    "#print(sum)\n",
    "print('Sum is {0}'.format(sum))\n",
    "print(type(a))\n",
    "print(type(b))\n",
    "print(type(sum))"
   ]
  },
  {
   "cell_type": "markdown",
   "id": "b626f981",
   "metadata": {},
   "source": [
    "### List"
   ]
  },
  {
   "cell_type": "code",
   "execution_count": null,
   "id": "75327cb4",
   "metadata": {},
   "outputs": [],
   "source": [
    "#list\n",
    "x = [\"apple\", \"banana\", \"cherry\"]\n",
    "print(x)\n",
    "#thislist = list((\"apple\", \"banana\", \"cherry\")) # note the double round-brackets\n",
    "#print(thislist)"
   ]
  },
  {
   "cell_type": "code",
   "execution_count": null,
   "id": "491d6d4e",
   "metadata": {},
   "outputs": [],
   "source": [
    "print(type(x))"
   ]
  },
  {
   "cell_type": "code",
   "execution_count": null,
   "id": "597bbe16",
   "metadata": {},
   "outputs": [],
   "source": [
    "x[0] #first item of the list"
   ]
  },
  {
   "cell_type": "code",
   "execution_count": null,
   "id": "475aa60f",
   "metadata": {},
   "outputs": [],
   "source": [
    "mylist=list(('apple','banana',\"cherry\"))\n",
    "mylist"
   ]
  },
  {
   "cell_type": "code",
   "execution_count": null,
   "id": "be4cd7e4",
   "metadata": {},
   "outputs": [],
   "source": [
    "type(mylist)"
   ]
  },
  {
   "cell_type": "markdown",
   "id": "1e8a86e6",
   "metadata": {},
   "source": [
    "### Dictionary"
   ]
  },
  {
   "cell_type": "code",
   "execution_count": null,
   "id": "aab38930",
   "metadata": {},
   "outputs": [],
   "source": [
    "#dictionaries\n",
    "x = {\"name\" : \"John\", \"age\" : 36}\n",
    "print(x)"
   ]
  },
  {
   "cell_type": "code",
   "execution_count": null,
   "id": "6c1a5751",
   "metadata": {},
   "outputs": [],
   "source": [
    "x[\"name\"]"
   ]
  },
  {
   "cell_type": "code",
   "execution_count": null,
   "id": "1ed3ea0d",
   "metadata": {},
   "outputs": [],
   "source": [
    "x[\"age\"]"
   ]
  },
  {
   "cell_type": "code",
   "execution_count": null,
   "id": "c8d8ea00",
   "metadata": {},
   "outputs": [],
   "source": [
    "print(x.get('age'))"
   ]
  },
  {
   "cell_type": "code",
   "execution_count": null,
   "id": "024b323d",
   "metadata": {},
   "outputs": [],
   "source": [
    "# update value\n",
    "x['age'] = 27\n",
    "print(x)"
   ]
  },
  {
   "cell_type": "code",
   "execution_count": null,
   "id": "f315f5e9",
   "metadata": {},
   "outputs": [],
   "source": [
    "# add item\n",
    "x['gender'] = 'Male'\n",
    "print(x)"
   ]
  },
  {
   "cell_type": "code",
   "execution_count": null,
   "id": "f43028a4",
   "metadata": {},
   "outputs": [],
   "source": [
    "#Boolean\n",
    "x = True\n",
    "type(x)"
   ]
  },
  {
   "cell_type": "markdown",
   "id": "e9b04cda",
   "metadata": {},
   "source": [
    "### IF"
   ]
  },
  {
   "cell_type": "code",
   "execution_count": null,
   "id": "b48b792f",
   "metadata": {},
   "outputs": [],
   "source": [
    "#if\n",
    "a = 100\n",
    "b = 33\n",
    "print('a is {0}'.format(a))\n",
    "print('b is {0}'.format(b))"
   ]
  },
  {
   "cell_type": "code",
   "execution_count": null,
   "id": "8030d0d2",
   "metadata": {},
   "outputs": [],
   "source": [
    "if b > a:\n",
    "    print(\"b is greater than a\")\n",
    "\n",
    "else:\n",
    "    print(\"b is not greater than a\")"
   ]
  },
  {
   "cell_type": "code",
   "execution_count": null,
   "id": "5da91787",
   "metadata": {},
   "outputs": [],
   "source": [
    "#if\n",
    "a = 33\n",
    "b = 33\n",
    "print('a is {0}'.format(a))\n",
    "print('b is {0}'.format(b))"
   ]
  },
  {
   "cell_type": "code",
   "execution_count": null,
   "id": "1fd2d8ac",
   "metadata": {},
   "outputs": [],
   "source": [
    "if b > a:\n",
    "    print(\"b is greater than a\")\n",
    "elif b < a:\n",
    "    print(\"b is not greater than a\")\n",
    "else:\n",
    "    print(\"b is equal to a\")"
   ]
  },
  {
   "cell_type": "markdown",
   "id": "53cfc852",
   "metadata": {},
   "source": [
    "### Function"
   ]
  },
  {
   "cell_type": "code",
   "execution_count": null,
   "id": "4beed904",
   "metadata": {},
   "outputs": [],
   "source": [
    "print(\"hello word\")"
   ]
  },
  {
   "cell_type": "code",
   "execution_count": null,
   "id": "a6b22aa8",
   "metadata": {},
   "outputs": [],
   "source": [
    "a=\"hello word\"\n",
    "print(a)"
   ]
  },
  {
   "cell_type": "code",
   "execution_count": null,
   "id": "4d2f6441",
   "metadata": {},
   "outputs": [],
   "source": [
    "def redi():\n",
    "    print(\"hello word\")\n",
    "redi()"
   ]
  },
  {
   "cell_type": "code",
   "execution_count": null,
   "id": "f3fd72c1",
   "metadata": {},
   "outputs": [],
   "source": [
    "def my_function():\n",
    "    print(\"Hello world from a function\")\n",
    "my_function()"
   ]
  },
  {
   "cell_type": "code",
   "execution_count": 4,
   "id": "5a444f44",
   "metadata": {},
   "outputs": [
    {
     "ename": "NameError",
     "evalue": "name 'a' is not defined",
     "output_type": "error",
     "traceback": [
      "\u001b[1;31m---------------------------------------------------------------------------\u001b[0m",
      "\u001b[1;31mNameError\u001b[0m                                 Traceback (most recent call last)",
      "Input \u001b[1;32mIn [4]\u001b[0m, in \u001b[0;36m<cell line: 3>\u001b[1;34m()\u001b[0m\n\u001b[0;32m      1\u001b[0m \u001b[38;5;28;01mdef\u001b[39;00m \u001b[38;5;21mmy_function2\u001b[39m(a):\n\u001b[0;32m      2\u001b[0m     \u001b[38;5;28mprint\u001b[39m(\u001b[38;5;124m\"\u001b[39m\u001b[38;5;124mFunction calls\u001b[39m\u001b[38;5;124m\"\u001b[39m,a)\n\u001b[1;32m----> 3\u001b[0m my_function2(\u001b[43ma\u001b[49m)\n",
      "\u001b[1;31mNameError\u001b[0m: name 'a' is not defined"
     ]
    }
   ],
   "source": [
    "def my_function2(a):\n",
    "    print(\"Function calls\",a)\n",
    "my_function2(a)"
   ]
  },
  {
   "cell_type": "code",
   "execution_count": 6,
   "id": "d9ca344a",
   "metadata": {},
   "outputs": [
    {
     "ename": "SyntaxError",
     "evalue": "'return' outside function (1422859624.py, line 7)",
     "output_type": "error",
     "traceback": [
      "\u001b[1;36m  Input \u001b[1;32mIn [6]\u001b[1;36m\u001b[0m\n\u001b[1;33m    return was_it_sunny\u001b[0m\n\u001b[1;37m    ^\u001b[0m\n\u001b[1;31mSyntaxError\u001b[0m\u001b[1;31m:\u001b[0m 'return' outside function\n"
     ]
    }
   ],
   "source": [
    "def was_it_sunny(it_was):\n",
    "    if it_was==True:\n",
    "        print(\"yes\")\n",
    "    else:\n",
    "        print(\"no\")\n",
    "        \n",
    "return was_it_sunny\n",
    "was_it_sunny(True);\n",
    "was_it_sunny(False);"
   ]
  },
  {
   "cell_type": "code",
   "execution_count": null,
   "id": "aa9f8c47",
   "metadata": {},
   "outputs": [],
   "source": []
  }
 ],
 "metadata": {
  "kernelspec": {
   "display_name": "Python 3 (ipykernel)",
   "language": "python",
   "name": "python3"
  },
  "language_info": {
   "codemirror_mode": {
    "name": "ipython",
    "version": 3
   },
   "file_extension": ".py",
   "mimetype": "text/x-python",
   "name": "python",
   "nbconvert_exporter": "python",
   "pygments_lexer": "ipython3",
   "version": "3.9.12"
  }
 },
 "nbformat": 4,
 "nbformat_minor": 5
}
