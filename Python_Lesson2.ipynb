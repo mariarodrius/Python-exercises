{
 "cells": [
  {
   "cell_type": "markdown",
   "id": "aa61af1d",
   "metadata": {},
   "source": [
    "# Recap"
   ]
  },
  {
   "cell_type": "code",
   "execution_count": 1,
   "id": "b220338b",
   "metadata": {},
   "outputs": [
    {
     "name": "stdout",
     "output_type": "stream",
     "text": [
      "Enter your name\n",
      "Maria\n",
      "Hello, \n",
      "Maria\n"
     ]
    }
   ],
   "source": [
    "# Lesson2: interactive program\n",
    "\n",
    "print('Enter your name')\n",
    "name = input()\n",
    "print('Hello, ')\n",
    "print(name)"
   ]
  },
  {
   "cell_type": "code",
   "execution_count": 4,
   "id": "b611b578",
   "metadata": {},
   "outputs": [
    {
     "name": "stdout",
     "output_type": "stream",
     "text": [
      "Enter your name\n",
      "Olu\n",
      "Enter your age\n",
      "22\n",
      "Hello, Olu\n",
      "In 5 years you'll be 27\n"
     ]
    }
   ],
   "source": [
    "# Lesson2: Age input\n",
    "\n",
    "name = input('Enter your name\\n')\n",
    "age = int(input('Enter your age\\n'))\n",
    "\n",
    "print('Hello,', name,)\n",
    "print('In 5 years you\\'ll be', age + 5)"
   ]
  },
  {
   "cell_type": "code",
   "execution_count": 5,
   "id": "e25d6143",
   "metadata": {},
   "outputs": [
    {
     "name": "stdout",
     "output_type": "stream",
     "text": [
      "Line 1 - Value of c is  31\n",
      "Line 2 - Value of c is  11\n",
      "Line 3 - Value of c is  210\n",
      "Line 4 - Value of c is  2.1\n",
      "Line 5 - Value of c is  1\n",
      "Line 6 - Value of c is  8\n",
      "Line 7 - Value of c is  2\n"
     ]
    }
   ],
   "source": [
    "# Lesson2: Operators with numbers\n",
    "\n",
    "a = 21\n",
    "b = 10\n",
    "c = 0\n",
    "c = a + b\n",
    "print (\"Line 1 - Value of c is \", c)\n",
    "c = a - b\n",
    "print (\"Line 2 - Value of c is \", c )\n",
    "c = a * b\n",
    "print (\"Line 3 - Value of c is \", c)\n",
    "c = a / b\n",
    "print (\"Line 4 - Value of c is \", c )\n",
    "c = a % b\n",
    "print (\"Line 5 - Value of c is \", c)\n",
    "a = 2\n",
    "b = 3\n",
    "c = a**b\n",
    "print (\"Line 6 - Value of c is \", c)\n",
    "a = 10\n",
    "b = 5\n",
    "c = a//b\n",
    "print (\"Line 7 - Value of c is \", c)"
   ]
  },
  {
   "cell_type": "code",
   "execution_count": 13,
   "id": "0079b38e",
   "metadata": {},
   "outputs": [
    {
     "name": "stdout",
     "output_type": "stream",
     "text": [
      "helloclass\n",
      "hello hello hello hello hello \n",
      "classclassclassclassclassclassclassclassclassclass\n"
     ]
    }
   ],
   "source": [
    "# Lesson2: Operators with strings\n",
    "\n",
    "a = 'hello'\n",
    "b = 'class'\n",
    "c = ''\n",
    "c = a + b\n",
    "print(c)\n",
    "c = (a+' ')*5\n",
    "print(c)\n",
    "c = 10 * b\n",
    "print(c)"
   ]
  },
  {
   "cell_type": "code",
   "execution_count": 21,
   "id": "6aaf5bc9",
   "metadata": {
    "scrolled": true
   },
   "outputs": [
    {
     "name": "stdout",
     "output_type": "stream",
     "text": [
      "John\n",
      "john\n",
      "JOHN\n",
      "Bruce wayne\n",
      "Bruce Wayne\n",
      "9\n"
     ]
    }
   ],
   "source": [
    "name = 'John'\n",
    "print(name)\n",
    "print(name.lower())\n",
    "print(name.upper())\n",
    "print ('bRuce wayne'.capitalize())  #only for the first letter\n",
    "print ('bRuce wayne'.title())  #for the first letter of every word\n",
    "print(len(\"Voldemort\"))\n"
   ]
  },
  {
   "cell_type": "code",
   "execution_count": 16,
   "id": "1962345c",
   "metadata": {},
   "outputs": [
    {
     "name": "stdout",
     "output_type": "stream",
     "text": [
      "3 <class 'int'>\n",
      "-5 <class 'int'>\n",
      "3.14 <class 'float'>\n",
      "3e-10 <class 'float'>\n",
      "True <class 'bool'>\n",
      "False <class 'bool'>\n",
      "abcdefghijk <class 'str'>\n",
      "abcdefghijk <class 'str'>\n"
     ]
    }
   ],
   "source": [
    "# Lesson2: Variables\n",
    "\n",
    "num = 3\n",
    "print(num, type(num))\n",
    "Num = -5\n",
    "print(Num, type(Num))\n",
    "\n",
    "pi = 3.14\n",
    "print(pi, type(pi))\n",
    "smallNumber = 3E-10\n",
    "print(smallNumber, type(smallNumber))\n",
    "\n",
    "b1 = True\n",
    "print(b1, type(b1))\n",
    "b1 = False\n",
    "print(b1, type(b1))\n",
    "\n",
    "letters = \"abcdefghijk\"\n",
    "newString = letters\n",
    "print(letters, type(letters))\n",
    "print(newString, type(newString))"
   ]
  },
  {
   "cell_type": "markdown",
   "id": "e0bdacab",
   "metadata": {},
   "source": [
    "# Conditions"
   ]
  },
  {
   "cell_type": "code",
   "execution_count": 17,
   "id": "7c084064",
   "metadata": {},
   "outputs": [
    {
     "name": "stdout",
     "output_type": "stream",
     "text": [
      "Enter degrees (c):\n",
      "300\n",
      "It's a good weather for a T-shirt\n"
     ]
    }
   ],
   "source": [
    "# Lesson2: Conditional operations\n",
    "\n",
    "c = int(input('Enter degrees (c):\\n'))\n",
    "\n",
    "if c < 0:\n",
    "    print(\"It's cold, stay at home\")\n",
    "elif c < 20:\n",
    "    print(\"Put a jacket on\")\n",
    "else:\n",
    "    print(\"It's a good weather for a T-shirt\")"
   ]
  },
  {
   "cell_type": "code",
   "execution_count": 22,
   "id": "e397d9be",
   "metadata": {},
   "outputs": [
    {
     "name": "stdout",
     "output_type": "stream",
     "text": [
      "did you go biking today?\n",
      "Yes\n",
      "did you enjoy?\n"
     ]
    }
   ],
   "source": [
    "bikersays=input('did you go biking today?\\n')\n",
    "if bikersays.lower()=='yes':\n",
    "    print ('did you enjoy?')\n",
    "    \n",
    "    \n"
   ]
  },
  {
   "cell_type": "markdown",
   "id": "30e6dcc5",
   "metadata": {},
   "source": [
    "Create a program which asks for the user whether they went biking today (yes or no, but do not care about the case (i.e. accepts YES, Yes, or yes).\n",
    "\n",
    "Example (green and underlined what the user could write):\n",
    "\n",
    "Did you go biking today? YES\n",
    "\n",
    "Hope you did enjoy!\n"
   ]
  },
  {
   "cell_type": "code",
   "execution_count": null,
   "id": "d8b7962c",
   "metadata": {},
   "outputs": [],
   "source": [
    "# Lesson2: Nested conditions\n",
    "\n",
    "age = int(input('Enter your age:\\n'))\n",
    "hour = int(input('What is the hour? (0-24)\\n'))\n",
    "\n",
    "is_late = hour >= 22\n",
    "is_too_young = age <= 12\n",
    "\n",
    "if is_late:\n",
    "    if is_too_young:\n",
    "        print('You should be sleeping ...')\n",
    "    else:\n",
    "        print('Want to watch a movie?')\n",
    "else:\n",
    "    print('Go for a walk!')"
   ]
  },
  {
   "cell_type": "markdown",
   "id": "7aa6ec00",
   "metadata": {},
   "source": [
    "# List"
   ]
  },
  {
   "cell_type": "code",
   "execution_count": 4,
   "id": "db3dca70",
   "metadata": {},
   "outputs": [
    {
     "name": "stdout",
     "output_type": "stream",
     "text": [
      "[1, 5, 0, 4]\n",
      "[0, 1, 4, 5]\n",
      "[0, 1, 4, 5, 'a']\n",
      "[0, 1, 5, 'a']\n",
      "4\n",
      "The first element is 1\n",
      "0\n",
      "[0, 1, 2, 3, 4, 5, 6, 7, 8, 9]\n",
      "[5, 6, 7, 8, 9]\n"
     ]
    }
   ],
   "source": [
    "# Lesson2: Lists\n",
    "\n",
    "\n",
    "l1 = [1, 5, 0, 4]  # create a list\n",
    "print(l1)\n",
    "l1.sort()          # sort the list\n",
    "print(l1)\n",
    "l1.append('a')     # add an element\n",
    "print(l1)\n",
    "del l1[2]          # remove an element\n",
    "print(l1)\n",
    "print(len(l1))     # length of the list\n",
    "print('The first element is', l1[1])\n",
    "empty_list = []    # create an empty list\n",
    "print(len(empty_list))\n",
    "# create a list from range: [0-10)\n",
    "l2 = list(range(10))\n",
    "print(l2)\n",
    "# create a list from range: [5-10)\n",
    "l3 = list(range(5, 10))\n",
    "print(l3)"
   ]
  },
  {
   "cell_type": "code",
   "execution_count": null,
   "id": "fe0311d2",
   "metadata": {},
   "outputs": [],
   "source": [
    "# Lesson2: List is mutable\n",
    "\n",
    "original_list = list(range(1, 6))\n",
    "print(original_list)\n",
    "new_list = original_list\n",
    "new_list[2] = 128\n",
    "print(original_list)\n",
    "print(new_list)"
   ]
  },
  {
   "cell_type": "code",
   "execution_count": null,
   "id": "4ebabe29",
   "metadata": {},
   "outputs": [],
   "source": [
    "# Lesson2: Copy a list\n",
    "\n",
    "original_list = list((1,2,3,4,5,6)) #alternatively original_list = list(range(1, 6))\n",
    "print(original_list)\n",
    "new_list = original_list.copy()\n",
    "new_list[2] = 128\n",
    "print(original_list)\n",
    "print(new_list)"
   ]
  },
  {
   "cell_type": "code",
   "execution_count": null,
   "id": "846fb1e3",
   "metadata": {},
   "outputs": [],
   "source": [
    "#Exercise"
   ]
  },
  {
   "cell_type": "markdown",
   "id": "c6039a25",
   "metadata": {},
   "source": [
    "Create a program which creates a list of numbers: -12, 33, 54, 38, 127, 82, 12, 0, and prints the following: \n",
    "All the list sorted \n",
    "All the list sorted in reverse order\n",
    "The biggest number in the list\n",
    "The smallest number in the list\n",
    "The length of the list\n",
    "Hints\n",
    "To sort in reverse order you can use a parameter to function sort: some_list.sort(reverse=True)\n",
    "After you sorted the list, it’s easy to get the biggest and the smallest number out of it - on which positions are they?  \n"
   ]
  },
  {
   "cell_type": "markdown",
   "id": "8fcd0824",
   "metadata": {},
   "source": [
    "Create a program which asks the user for three integer numbers and prints the biggest one.\n",
    "But this time, instead of if-elif-else construction, let’s use a list.\n",
    "Hints\n",
    "You can construct a list from existing variables: some_list = [num1, num2, num3]\n",
    "You can sort the list to find the biggest number. Or maybe there is an easier way? Try to ask Google!\n"
   ]
  },
  {
   "cell_type": "markdown",
   "id": "cee2b09c",
   "metadata": {},
   "source": [
    "# Packages"
   ]
  },
  {
   "cell_type": "code",
   "execution_count": null,
   "id": "051e2234",
   "metadata": {},
   "outputs": [],
   "source": [
    "import math\n",
    "\n",
    "c = math.ceil(1.56) #Rounds a number up to the nearest integer\n",
    "print(c)"
   ]
  },
  {
   "cell_type": "code",
   "execution_count": null,
   "id": "2e164bea",
   "metadata": {},
   "outputs": [],
   "source": [
    "import webbrowser\n",
    "\n",
    "webbrowser.open(\"https://www.youtube.com\")"
   ]
  },
  {
   "cell_type": "markdown",
   "id": "e492fe65",
   "metadata": {},
   "source": [
    "# Function"
   ]
  },
  {
   "cell_type": "code",
   "execution_count": null,
   "id": "287fa879",
   "metadata": {},
   "outputs": [],
   "source": [
    "#lesson 2: function\n",
    "##Calculate area of a circle\n",
    "def calculate_area(radius):\n",
    "    area = 3.14 * (radius ** 2)\n",
    "    return area\n",
    "\n",
    "\n",
    "area1 = calculate_area(10)\n",
    "area2 = calculate_area(20)\n",
    "\n",
    "print(area1, area2)"
   ]
  },
  {
   "cell_type": "code",
   "execution_count": null,
   "id": "9666b130",
   "metadata": {},
   "outputs": [],
   "source": [
    "def calculate_area(radius): # parameters are local variables\n",
    "    area = pi * (radius ** 2)  # local variable, is not visible\n",
    "                               # outside of the function\n",
    "                               # and shadows global variable with the same name\n",
    "    return area\n",
    "\n",
    "\n",
    "pi = 3.14  # global variable - is visible in function if defined\n",
    "           # before the first call of the function (try to move it\n",
    "           # after the first call of calculate_area function )\n",
    "\n",
    "area = 100  # global variable with the same name as local one in function\n",
    "\n",
    "area1 = calculate_area(10)\n",
    "area2 = calculate_area(20)\n",
    "\n",
    "print(area1, area2)\n",
    "print(area) # prints the one of the closest scope\n",
    "print(radius) # Error here, there is no radius variable in the global scope"
   ]
  },
  {
   "cell_type": "code",
   "execution_count": null,
   "id": "7bfc1e8e",
   "metadata": {},
   "outputs": [],
   "source": [
    "#Lesson 2: function\n",
    "#Calculate area of a triangle"
   ]
  },
  {
   "cell_type": "markdown",
   "id": "691d5b7f",
   "metadata": {},
   "source": [
    "Write a function triangle_area which calculates the area of a triangle.\n",
    "\n",
    "Hints:\n",
    "\n",
    "What is the formula for the area of a triangle?\n",
    "- input: base and height of a triangle (two arguments)\n",
    "- output: area of the triangle"
   ]
  },
  {
   "cell_type": "code",
   "execution_count": null,
   "id": "93bfb47c",
   "metadata": {},
   "outputs": [],
   "source": [
    "def triangle_area(a,b):\n",
    "    \n",
    "    return(a*b/2)\n",
    "\n",
    "triangle_area(2,3)\n",
    "    "
   ]
  },
  {
   "cell_type": "code",
   "execution_count": null,
   "id": "dc1f98a7",
   "metadata": {},
   "outputs": [],
   "source": [
    "#Lesson 2: function\n",
    "#Write a function to sum list of numbers"
   ]
  },
  {
   "cell_type": "markdown",
   "id": "f5e912e4",
   "metadata": {},
   "source": [
    "Write a function sum_list() which gets a list of numbers as a parameter and returns sum of all those numbers.\n",
    "\n",
    "- input example: 2,3,5,6,10\n",
    "- expected output: 26\n",
    "\n",
    "Write a program, which asks the user to enter a list of numbers. Calculate sum of the numbers in the list using your function and print it.\n"
   ]
  },
  {
   "cell_type": "code",
   "execution_count": null,
   "id": "0da97e3e",
   "metadata": {},
   "outputs": [],
   "source": [
    "def sum_list():\n",
    "    sum_list=sum(list(eval(input('Enter a list of numbers\\n'))))\n",
    "    print(sum_list)"
   ]
  },
  {
   "cell_type": "code",
   "execution_count": null,
   "id": "c79b02b9",
   "metadata": {},
   "outputs": [],
   "source": [
    "sum_list()"
   ]
  },
  {
   "cell_type": "code",
   "execution_count": null,
   "id": "9d875b70",
   "metadata": {},
   "outputs": [],
   "source": [
    "#Lesson 2: function\n",
    "#Function to delete letters ‘a’ from a string"
   ]
  },
  {
   "cell_type": "markdown",
   "id": "8955bc9c",
   "metadata": {},
   "source": [
    "Write a function delete_a_from_string() which gets a string as a parameter and returns the same string removing all letters ‘a’ from it.\n",
    "- input example: “Hello World, I am a test string”\n",
    "- output example : “Hello World, I m  test string”\n",
    "Write a program, which asks the user to enter a sting. If he enters an empty string the program stops, otherwise it prints the string, then the same string without letters ‘a’ (use your function to get it) and then asks user to enter next string.\n"
   ]
  },
  {
   "cell_type": "code",
   "execution_count": null,
   "id": "96f46d4b",
   "metadata": {},
   "outputs": [],
   "source": [
    "#Lesson 2: function"
   ]
  },
  {
   "cell_type": "markdown",
   "id": "fd0491de",
   "metadata": {},
   "source": [
    "Twitter users can write tweets up to 140 characters long. While a user is writing a tweet, twitter informs them of no. of characters left, when they exceed the 140, it starts counting in negative.\n",
    "Write a function remaining_chars(tweet) that prints such a number to user"
   ]
  },
  {
   "cell_type": "code",
   "execution_count": null,
   "id": "3a37efe1",
   "metadata": {},
   "outputs": [],
   "source": [
    "#Exercise 1"
   ]
  },
  {
   "cell_type": "markdown",
   "id": "5e6908aa",
   "metadata": {},
   "source": [
    "Write a function that takes as input temperature in celsius °C and converts it to fahrenheit °F.\n",
    "Hint: The formula used to convert from Celsius to Fahrenheit T(°F) = T(°C) × 9/5 + 32\n",
    "Examples:\n",
    "input = 40, output = 104\n",
    "input = 28, output = 82.5"
   ]
  },
  {
   "cell_type": "code",
   "execution_count": null,
   "id": "8dffdd8e",
   "metadata": {},
   "outputs": [],
   "source": [
    "#Exercise 2"
   ]
  },
  {
   "cell_type": "markdown",
   "id": "0db39aab",
   "metadata": {},
   "source": [
    "Using input get a list of temperatures, in Celsius, from the user and convert them to Fahrenheit using the function you wrote in part 1"
   ]
  },
  {
   "cell_type": "code",
   "execution_count": null,
   "id": "e6a445ee",
   "metadata": {},
   "outputs": [],
   "source": [
    "#Exercise 3"
   ]
  },
  {
   "cell_type": "markdown",
   "id": "e5a94686",
   "metadata": {},
   "source": [
    "Create a program which asks the user for the current hour (a number from 0 to 23). Depending on the user’s input, the program should print: \n",
    "“It’s breakfast time” if the hour is between 7 and 11\n",
    "“It’s lunch time” if the hour is between 12 and 16\n",
    "“It’s dinner time” if the hour is between 17 and 22\n",
    "“It’s sleeping time” if the hour is between 23 and 6\n",
    "What if user enters a negative number like -1 or big number like 53? Try to handle this situation in your program\n"
   ]
  },
  {
   "cell_type": "code",
   "execution_count": 27,
   "id": "d9944a14",
   "metadata": {},
   "outputs": [],
   "source": [
    "#Exercise 4"
   ]
  },
  {
   "cell_type": "markdown",
   "id": "03cdcc1f",
   "metadata": {},
   "source": [
    "Create a program which asks the user for the number of minutes (integer) and outputs the given time span in format \n",
    "\n",
    "Hours:Minutes\n",
    "\n",
    "Example: \n",
    "- Input: 512\n",
    "- Output:  8:32\n",
    "\n",
    "Hints: \n",
    "You’ll need arithmetic operations: %, //, input() function for requesting the number of minutes from user and print function for outputting the result.\u000b",
    "The number of hours is the number of minutes divided by 60, minutes are the remainder of the division.\n"
   ]
  },
  {
   "cell_type": "code",
   "execution_count": null,
   "id": "de542b34",
   "metadata": {},
   "outputs": [],
   "source": [
    "#exercise 5"
   ]
  },
  {
   "cell_type": "markdown",
   "id": "7a901b2d",
   "metadata": {},
   "source": [
    "Modify the previous program so that it requests from the user the number of seconds and outputs it in the format Hours:Minutes:Seconds\n",
    "\n",
    "Example: \n",
    "\n",
    "    Input: 6624\n",
    "    Output:  1:50:24\n",
    "Hints: \n",
    "You’ll need arithmetic operations: %, //, input() function for requesting the number of seconds from user and print function for outputting the result.\n",
    "From the example: 6624 = 1 * 3600 + 50 * 60 + 24. You have to do the reverse operation to convert seconds to hours:minutes:seconds\n"
   ]
  },
  {
   "cell_type": "markdown",
   "id": "50d85d92",
   "metadata": {},
   "source": [
    "# Loop"
   ]
  },
  {
   "cell_type": "code",
   "execution_count": 1,
   "id": "7bb0e55f",
   "metadata": {},
   "outputs": [
    {
     "name": "stdout",
     "output_type": "stream",
     "text": [
      "b\n",
      "a\n",
      "n\n",
      "a\n",
      "n\n",
      "a\n"
     ]
    }
   ],
   "source": [
    "#for loop in string\n",
    "for x in \"banana\":\n",
    "    print(x)"
   ]
  },
  {
   "cell_type": "code",
   "execution_count": 2,
   "id": "c7ac4b8c",
   "metadata": {},
   "outputs": [
    {
     "name": "stdout",
     "output_type": "stream",
     "text": [
      "apple\n",
      "banana\n",
      "cherry\n"
     ]
    }
   ],
   "source": [
    "#for loop in list\n",
    "fruits = [\"apple\", \"banana\", \"cherry\"]\n",
    "for x in fruits:\n",
    "    print(x)"
   ]
  },
  {
   "cell_type": "code",
   "execution_count": 3,
   "id": "c4bad95e",
   "metadata": {},
   "outputs": [
    {
     "name": "stdout",
     "output_type": "stream",
     "text": [
      "apple\n",
      "banana\n"
     ]
    }
   ],
   "source": [
    "#for loop with a condition\n",
    "fruits = [\"apple\", \"banana\", \"cherry\"]\n",
    "for i in fruits:\n",
    "    print(i)\n",
    "    if i == \"banana\":\n",
    "        break"
   ]
  },
  {
   "cell_type": "code",
   "execution_count": 5,
   "id": "c6a56dc1",
   "metadata": {},
   "outputs": [
    {
     "name": "stdout",
     "output_type": "stream",
     "text": [
      "['a', 'b', 'c', 'New a', 'New b', 'New c']\n"
     ]
    }
   ],
   "source": [
    "list1 = [\"a\", \"b\", \"c\"]\n",
    "\n",
    "list_length = len(list1) #3\n",
    "\n",
    "\n",
    "for i in range(list_length):  \n",
    "    list1.append(\"New \" + list1[i])\n",
    "\n",
    "print(list1)"
   ]
  },
  {
   "cell_type": "code",
   "execution_count": 7,
   "id": "0875dd12",
   "metadata": {},
   "outputs": [
    {
     "data": {
      "text/plain": [
       "'a'"
      ]
     },
     "execution_count": 7,
     "metadata": {},
     "output_type": "execute_result"
    }
   ],
   "source": [
    "list1[0]"
   ]
  },
  {
   "cell_type": "code",
   "execution_count": null,
   "id": "10220e16",
   "metadata": {},
   "outputs": [],
   "source": [
    "for i in range(0,3):\n",
    "    list1.append(\"New\" + list1[i])\n",
    "    "
   ]
  },
  {
   "cell_type": "code",
   "execution_count": 6,
   "id": "0be3e7c9",
   "metadata": {},
   "outputs": [
    {
     "data": {
      "text/plain": [
       "range(0, 3)"
      ]
     },
     "execution_count": 6,
     "metadata": {},
     "output_type": "execute_result"
    }
   ],
   "source": [
    "range(list_length)"
   ]
  },
  {
   "cell_type": "code",
   "execution_count": null,
   "id": "62fc139c",
   "metadata": {},
   "outputs": [],
   "source": [
    "# Lesson2: for loop over a string\n",
    "\n",
    "s = 'this is a random string with several letters \\'a\\''\n",
    "counter = 0\n",
    "for character in s:\n",
    "    if character == 'a':\n",
    "        counter += 1\n",
    "print('Found', counter, 'letters \\'a\\' in the given string')"
   ]
  },
  {
   "cell_type": "code",
   "execution_count": null,
   "id": "5b7b1c24",
   "metadata": {},
   "outputs": [],
   "source": [
    "s"
   ]
  },
  {
   "cell_type": "code",
   "execution_count": 12,
   "id": "57666b1a",
   "metadata": {},
   "outputs": [
    {
     "name": "stdout",
     "output_type": "stream",
     "text": [
      "7\n"
     ]
    }
   ],
   "source": [
    "x=5\n",
    "x=7\n",
    "print(x)"
   ]
  },
  {
   "cell_type": "code",
   "execution_count": 8,
   "id": "3a14ba96",
   "metadata": {},
   "outputs": [],
   "source": [
    "import math"
   ]
  },
  {
   "cell_type": "code",
   "execution_count": 15,
   "id": "6cc5be86",
   "metadata": {},
   "outputs": [
    {
     "name": "stdout",
     "output_type": "stream",
     "text": [
      "0  :  0.0\n",
      "1  :  1.0\n",
      "2  :  1.4142135623730951\n",
      "3  :  1.7320508075688772\n",
      "4  :  2.0\n",
      "5  :  2.23606797749979\n",
      "6  :  2.449489742783178\n",
      "7  :  2.6457513110645907\n",
      "8  :  2.8284271247461903\n",
      "9  :  3.0\n",
      "10  :  3.1622776601683795\n",
      "11  :  3.3166247903554\n",
      "12  :  3.4641016151377544\n",
      "13  :  3.605551275463989\n",
      "14  :  3.7416573867739413\n",
      "15  :  3.872983346207417\n",
      "16  :  4.0\n",
      "17  :  4.123105625617661\n",
      "18  :  4.242640687119285\n",
      "19  :  4.358898943540674\n",
      "20  :  4.47213595499958\n",
      "21  :  4.58257569495584\n",
      "22  :  4.69041575982343\n",
      "23  :  4.795831523312719\n",
      "24  :  4.898979485566356\n",
      "25  :  5.0\n",
      "26  :  5.0990195135927845\n",
      "27  :  5.196152422706632\n",
      "28  :  5.291502622129181\n",
      "29  :  5.385164807134504\n",
      "30  :  5.477225575051661\n",
      "31  :  5.5677643628300215\n",
      "32  :  5.656854249492381\n",
      "33  :  5.744562646538029\n",
      "34  :  5.830951894845301\n",
      "35  :  5.916079783099616\n",
      "36  :  6.0\n",
      "37  :  6.082762530298219\n",
      "38  :  6.164414002968976\n",
      "39  :  6.244997998398398\n",
      "40  :  6.324555320336759\n",
      "41  :  6.4031242374328485\n",
      "42  :  6.48074069840786\n",
      "43  :  6.557438524302\n",
      "44  :  6.6332495807108\n",
      "45  :  6.708203932499369\n",
      "46  :  6.782329983125268\n",
      "47  :  6.855654600401044\n",
      "48  :  6.928203230275509\n",
      "49  :  7.0\n",
      "50  :  7.0710678118654755\n",
      "51  :  7.14142842854285\n",
      "52  :  7.211102550927978\n",
      "53  :  7.280109889280518\n",
      "54  :  7.3484692283495345\n",
      "55  :  7.416198487095663\n",
      "56  :  7.483314773547883\n",
      "57  :  7.54983443527075\n",
      "58  :  7.615773105863909\n",
      "59  :  7.681145747868608\n",
      "60  :  7.745966692414834\n",
      "61  :  7.810249675906654\n",
      "62  :  7.874007874011811\n",
      "63  :  7.937253933193772\n",
      "64  :  8.0\n",
      "65  :  8.06225774829855\n",
      "66  :  8.12403840463596\n",
      "67  :  8.18535277187245\n",
      "68  :  8.246211251235321\n",
      "69  :  8.306623862918075\n",
      "70  :  8.366600265340756\n",
      "71  :  8.426149773176359\n",
      "72  :  8.48528137423857\n",
      "73  :  8.54400374531753\n",
      "74  :  8.602325267042627\n",
      "75  :  8.660254037844387\n",
      "76  :  8.717797887081348\n",
      "77  :  8.774964387392123\n",
      "78  :  8.831760866327848\n",
      "79  :  8.888194417315589\n",
      "80  :  8.94427190999916\n",
      "81  :  9.0\n",
      "82  :  9.055385138137417\n",
      "83  :  9.1104335791443\n",
      "84  :  9.16515138991168\n",
      "85  :  9.219544457292887\n",
      "86  :  9.273618495495704\n",
      "87  :  9.327379053088816\n",
      "88  :  9.38083151964686\n",
      "89  :  9.433981132056603\n",
      "90  :  9.486832980505138\n",
      "91  :  9.539392014169456\n",
      "92  :  9.591663046625438\n",
      "93  :  9.643650760992955\n",
      "94  :  9.695359714832659\n",
      "95  :  9.746794344808963\n",
      "96  :  9.797958971132712\n",
      "97  :  9.848857801796104\n",
      "98  :  9.899494936611665\n",
      "99  :  9.9498743710662\n"
     ]
    }
   ],
   "source": [
    "# Lesson2: for loop\n",
    "\n",
    "import math\n",
    "\n",
    "i=5\n",
    "for i in range(100):\n",
    "    squareroot = math.sqrt(i)\n",
    "    print(i, \" : \", squareroot)"
   ]
  },
  {
   "cell_type": "code",
   "execution_count": 18,
   "id": "69460b7e",
   "metadata": {},
   "outputs": [
    {
     "name": "stdout",
     "output_type": "stream",
     "text": [
      "0  :  0.0\n",
      "1  :  1.0\n",
      "2  :  1.4142135623730951\n",
      "3  :  1.7320508075688772\n",
      "4  :  2.0\n",
      "5  :  2.23606797749979\n",
      "6  :  2.449489742783178\n",
      "7  :  2.6457513110645907\n",
      "8  :  2.8284271247461903\n",
      "9  :  3.0\n",
      "10  :  3.1622776601683795\n",
      "11  :  3.3166247903554\n",
      "12  :  3.4641016151377544\n",
      "13  :  3.605551275463989\n",
      "14  :  3.7416573867739413\n",
      "15  :  3.872983346207417\n",
      "16  :  4.0\n",
      "17  :  4.123105625617661\n",
      "18  :  4.242640687119285\n",
      "19  :  4.358898943540674\n",
      "20  :  4.47213595499958\n",
      "21  :  4.58257569495584\n",
      "22  :  4.69041575982343\n",
      "23  :  4.795831523312719\n",
      "24  :  4.898979485566356\n",
      "25  :  5.0\n",
      "26  :  5.0990195135927845\n",
      "27  :  5.196152422706632\n",
      "28  :  5.291502622129181\n",
      "29  :  5.385164807134504\n",
      "30  :  5.477225575051661\n",
      "31  :  5.5677643628300215\n",
      "32  :  5.656854249492381\n",
      "33  :  5.744562646538029\n",
      "34  :  5.830951894845301\n",
      "35  :  5.916079783099616\n",
      "36  :  6.0\n",
      "37  :  6.082762530298219\n",
      "38  :  6.164414002968976\n",
      "39  :  6.244997998398398\n",
      "40  :  6.324555320336759\n",
      "41  :  6.4031242374328485\n",
      "42  :  6.48074069840786\n",
      "43  :  6.557438524302\n",
      "44  :  6.6332495807108\n",
      "45  :  6.708203932499369\n",
      "46  :  6.782329983125268\n",
      "47  :  6.855654600401044\n",
      "48  :  6.928203230275509\n",
      "49  :  7.0\n",
      "50  :  7.0710678118654755\n",
      "51  :  7.14142842854285\n",
      "52  :  7.211102550927978\n",
      "53  :  7.280109889280518\n",
      "54  :  7.3484692283495345\n",
      "55  :  7.416198487095663\n",
      "56  :  7.483314773547883\n",
      "57  :  7.54983443527075\n",
      "58  :  7.615773105863909\n",
      "59  :  7.681145747868608\n",
      "60  :  7.745966692414834\n",
      "61  :  7.810249675906654\n",
      "62  :  7.874007874011811\n",
      "63  :  7.937253933193772\n",
      "64  :  8.0\n",
      "65  :  8.06225774829855\n",
      "66  :  8.12403840463596\n",
      "67  :  8.18535277187245\n",
      "68  :  8.246211251235321\n",
      "69  :  8.306623862918075\n",
      "70  :  8.366600265340756\n",
      "71  :  8.426149773176359\n",
      "72  :  8.48528137423857\n",
      "73  :  8.54400374531753\n",
      "74  :  8.602325267042627\n",
      "75  :  8.660254037844387\n",
      "76  :  8.717797887081348\n",
      "77  :  8.774964387392123\n",
      "78  :  8.831760866327848\n",
      "79  :  8.888194417315589\n",
      "80  :  8.94427190999916\n",
      "81  :  9.0\n",
      "82  :  9.055385138137417\n",
      "83  :  9.1104335791443\n",
      "84  :  9.16515138991168\n",
      "85  :  9.219544457292887\n",
      "86  :  9.273618495495704\n",
      "87  :  9.327379053088816\n",
      "88  :  9.38083151964686\n",
      "89  :  9.433981132056603\n",
      "90  :  9.486832980505138\n",
      "91  :  9.539392014169456\n",
      "92  :  9.591663046625438\n",
      "93  :  9.643650760992955\n",
      "94  :  9.695359714832659\n",
      "95  :  9.746794344808963\n",
      "96  :  9.797958971132712\n",
      "97  :  9.848857801796104\n",
      "98  :  9.899494936611665\n",
      "99  :  9.9498743710662\n"
     ]
    }
   ],
   "source": [
    "i=5\n",
    "for i in range(100):\n",
    "    squareroot = math.sqrt(i)\n",
    "    print(i, \" : \", squareroot)"
   ]
  },
  {
   "cell_type": "code",
   "execution_count": 17,
   "id": "fe8bcc1e",
   "metadata": {},
   "outputs": [
    {
     "data": {
      "text/plain": [
       "[52, 83, 104.6, -6, 55]"
      ]
     },
     "execution_count": 17,
     "metadata": {},
     "output_type": "execute_result"
    }
   ],
   "source": [
    "# Lesson2: for loop over a list\n",
    "l=[2, 33, 54.6, -56, 5]\n",
    "\n",
    "my_list = [i + 50 for i in l]\n",
    "\n",
    "my_list"
   ]
  },
  {
   "cell_type": "code",
   "execution_count": null,
   "id": "7653ac87",
   "metadata": {},
   "outputs": [],
   "source": [
    "a = []\n",
    "for i in range(5):\n",
    "    a.append(i)\n",
    "print(a)"
   ]
  },
  {
   "cell_type": "code",
   "execution_count": 19,
   "id": "a71bdf27",
   "metadata": {},
   "outputs": [
    {
     "name": "stdout",
     "output_type": "stream",
     "text": [
      "Tell me something:\n",
      "hello\n",
      "you told me: hello\n",
      "Tell me something:\n",
      "hello\n",
      "you told me: hello\n",
      "Tell me something:\n",
      "stop\n",
      "you told me: stop\n",
      "... and I'm stopping\n"
     ]
    }
   ],
   "source": [
    "# Lesson2: while loop\n",
    "\n",
    "text = ''\n",
    "while text != 'stop':\n",
    "    text = input('Tell me something:\\n')\n",
    "    print('you told me:', text)\n",
    "print('... and I\\'m stopping')"
   ]
  },
  {
   "cell_type": "code",
   "execution_count": 26,
   "id": "c7f51cf1",
   "metadata": {},
   "outputs": [
    {
     "name": "stdout",
     "output_type": "stream",
     "text": [
      "Give me a number:\n",
      "17\n",
      "Your number contains 4 twos\n"
     ]
    }
   ],
   "source": [
    "# Lesson2: another while loop example\n",
    "\n",
    "num = int(input('Give me a number:\\n'))\n",
    "counter = 0\n",
    "while num > 0:\n",
    "    num = num // 2\n",
    "    counter = counter + 1\n",
    "print('Your number contains', counter-1, 'twos')"
   ]
  },
  {
   "cell_type": "code",
   "execution_count": 25,
   "id": "d6a50009",
   "metadata": {},
   "outputs": [
    {
     "data": {
      "text/plain": [
       "3"
      ]
     },
     "execution_count": 25,
     "metadata": {},
     "output_type": "execute_result"
    }
   ],
   "source": [
    "a=7\n",
    "a= a//2\n",
    "a //= 2\n",
    "a"
   ]
  }
 ],
 "metadata": {
  "kernelspec": {
   "display_name": "Python 3 (ipykernel)",
   "language": "python",
   "name": "python3"
  },
  "language_info": {
   "codemirror_mode": {
    "name": "ipython",
    "version": 3
   },
   "file_extension": ".py",
   "mimetype": "text/x-python",
   "name": "python",
   "nbconvert_exporter": "python",
   "pygments_lexer": "ipython3",
   "version": "3.9.12"
  }
 },
 "nbformat": 4,
 "nbformat_minor": 5
}
