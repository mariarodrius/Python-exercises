{
 "cells": [
  {
   "cell_type": "code",
   "execution_count": 37,
   "id": "308ce83a",
   "metadata": {},
   "outputs": [
    {
     "name": "stdout",
     "output_type": "stream",
     "text": [
      "Amount to be converted?\n",
      "10\n",
      "10 dollars\n",
      "\n",
      "The amount to be converted is 10 dollars\n",
      "The amount to be converted is 10 dollars\n",
      "\n",
      "10.0 dollars convert to 150.0 currency X; i.e. 1 dollar=15*X\n",
      "\n",
      "10.0 dollars convert to 7.5 euros (1 X=0.05 Euros)\n"
     ]
    }
   ],
   "source": [
    "no_d=input ('Amount to be converted?\\n')\n",
    "print (no_d + ' dollars\\n')  # how to print his directly after the input number?\n",
    "print('The amount to be converted is {0}'.format(no_d) + ' dollars')\n",
    "print('The amount to be converted is %s dollars\\n' % no_d)\n",
    "\n",
    "no_d=float (no_d)  ### here we establish that the input is a number \n",
    "cr=15.0\n",
    "\n",
    "no_X=no_d*cr\n",
    "#print (no_X)\n",
    "#print ('%s currency X; i.e. 1 dollar=15*X\\n' % no_X) \n",
    "print ('%s dollars convert to ' % no_d +'%s currency X; i.e. 1 dollar=15*X\\n' % no_X)\n",
    "\n",
    "no_E=no_X*0.05\n",
    "print ('%s dollars convert to ' % no_d +'%s euros (1 X=0.05 Euros)' % no_E)"
   ]
  },
  {
   "cell_type": "code",
   "execution_count": null,
   "id": "6b48f385",
   "metadata": {},
   "outputs": [],
   "source": []
  }
 ],
 "metadata": {
  "kernelspec": {
   "display_name": "Python 3 (ipykernel)",
   "language": "python",
   "name": "python3"
  },
  "language_info": {
   "codemirror_mode": {
    "name": "ipython",
    "version": 3
   },
   "file_extension": ".py",
   "mimetype": "text/x-python",
   "name": "python",
   "nbconvert_exporter": "python",
   "pygments_lexer": "ipython3",
   "version": "3.9.12"
  }
 },
 "nbformat": 4,
 "nbformat_minor": 5
}
