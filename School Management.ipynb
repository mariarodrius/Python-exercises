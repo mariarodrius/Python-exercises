{
 "cells": [
  {
   "cell_type": "code",
   "execution_count": 3,
   "id": "9dba5fe5",
   "metadata": {},
   "outputs": [
    {
     "name": "stdout",
     "output_type": "stream",
     "text": [
      "Hamburg\n",
      "Berlin\n"
     ]
    }
   ],
   "source": [
    "class School:\n",
    "    def __init__(self, location):\n",
    "        self.location = location\n",
    "        \n",
    "REDI_HH = School(\"Hamburg\")\n",
    "REDI_BE = School(\"Berlin\")\n",
    "REDI_MU = School(\"Munich\")\n",
    "REDI_KO = School(\"Köln\")\n",
    "print (REDI_HH.location)\n",
    "print (REDI_BE.location)"
   ]
  },
  {
   "cell_type": "code",
   "execution_count": 4,
   "id": "8d1c65b9",
   "metadata": {},
   "outputs": [
    {
     "name": "stdout",
     "output_type": "stream",
     "text": [
      "Intro to CS\n"
     ]
    }
   ],
   "source": [
    "class Course:\n",
    "    def __init__(self, course):\n",
    "        self.course = course\n",
    "        \n",
    "Course1 = Course(\"Intro to CS\")\n",
    "Course2 = Course(\"Design UX\")\n",
    "Course3 = Course(\"IoT\")\n",
    "\n",
    "print (Course1.course)"
   ]
  },
  {
   "cell_type": "code",
   "execution_count": 21,
   "id": "c6996618",
   "metadata": {},
   "outputs": [
    {
     "name": "stdout",
     "output_type": "stream",
     "text": [
      "Jeyson\n",
      "<__main__.Student object at 0x000002A3C62C70A0>\n",
      "Jeyson Intro to CS\n",
      "<__main__.Student object at 0x000002A3C62C71F0>\n",
      "Olu IoT\n",
      "<__main__.Student object at 0x000002A3C62C7CA0>\n",
      "Harrison Intro to CS\n",
      "<__main__.Student object at 0x000002A3C62C72E0>\n",
      "Ernest Design UX\n"
     ]
    }
   ],
   "source": [
    "class Student:\n",
    "    def __init__(self, studentname, rcourse):\n",
    "        self.studentname = studentname\n",
    "        self.rcourse = rcourse\n",
    "        \n",
    "Student1 = Student(\"Jeyson\", \"Intro to CS\")\n",
    "Student2 = Student(\"Olu\", \"IoT\")\n",
    "Student3 = Student(\"Harrison\", \"Intro to CS\")\n",
    "Student4 = Student(\"Ernest\", \"Design UX\")\n",
    "\n",
    "Studentlist = []\n",
    "Studentlist.append(Student1)\n",
    "Studentlist.append(Student2)\n",
    "Studentlist.append(Student3)\n",
    "Studentlist.append(Student4)\n",
    "        \n",
    "print (Student1.studentname)\n",
    "\n",
    "for x in Studentlist:\n",
    "    print(x)\n",
    "    print(x.studentname, x.rcourse)\n",
    "    \n"
   ]
  },
  {
   "cell_type": "code",
   "execution_count": 22,
   "id": "85469a9c",
   "metadata": {},
   "outputs": [
    {
     "ename": "SyntaxError",
     "evalue": "invalid syntax (3497929999.py, line 4)",
     "output_type": "error",
     "traceback": [
      "\u001b[1;36m  Input \u001b[1;32mIn [22]\u001b[1;36m\u001b[0m\n\u001b[1;33m    if x.rcourse == \"IoT\"\u001b[0m\n\u001b[1;37m                         ^\u001b[0m\n\u001b[1;31mSyntaxError\u001b[0m\u001b[1;31m:\u001b[0m invalid syntax\n"
     ]
    }
   ],
   "source": [
    "#Each course object must have a course name and a list of students\n",
    "#Each school object must have a location name and a list of courses\n",
    "\n",
    "# https://www.codevscolor.com/python-list-of-objects \n",
    "\n",
    "# https://www.w3schools.com/python/ref_func_super.asp\n",
    "\n",
    "for x in Studentlist:\n",
    "    if x.rcourse == \"IoT\"\n",
    "        print(x)\n",
    "        print(x.studentname, x.rcourse)"
   ]
  },
  {
   "cell_type": "code",
   "execution_count": null,
   "id": "4baebd18",
   "metadata": {},
   "outputs": [],
   "source": []
  }
 ],
 "metadata": {
  "kernelspec": {
   "display_name": "Python 3 (ipykernel)",
   "language": "python",
   "name": "python3"
  },
  "language_info": {
   "codemirror_mode": {
    "name": "ipython",
    "version": 3
   },
   "file_extension": ".py",
   "mimetype": "text/x-python",
   "name": "python",
   "nbconvert_exporter": "python",
   "pygments_lexer": "ipython3",
   "version": "3.9.12"
  }
 },
 "nbformat": 4,
 "nbformat_minor": 5
}
