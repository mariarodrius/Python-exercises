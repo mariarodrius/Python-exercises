{
 "cells": [
  {
   "cell_type": "code",
   "execution_count": 22,
   "id": "65e26866",
   "metadata": {},
   "outputs": [
    {
     "name": "stdout",
     "output_type": "stream",
     "text": [
      "Desired Number:\n",
      "5\n",
      " \n",
      "\n",
      "1\n",
      "2\n",
      "3\n",
      "4\n",
      "5\n"
     ]
    }
   ],
   "source": [
    "def n():\n",
    "    i=input ('Desired Number:\\n')\n",
    "    #print (i)\n",
    "    #print ('Number {0}'.format(i)'+i)\n",
    "    i=int (i)\n",
    "    print (' \\n')\n",
    "    for number in range(1, i+1):\n",
    "        print (number)\n",
    "n()"
   ]
  },
  {
   "cell_type": "code",
   "execution_count": 30,
   "id": "5fa12c80",
   "metadata": {},
   "outputs": [
    {
     "name": "stdout",
     "output_type": "stream",
     "text": [
      "Radius: 3\n",
      "\n",
      "Area: 28.26\n",
      "\n",
      "Circumference: 18.84\n"
     ]
    }
   ],
   "source": [
    "r=input ('Radius: ')\n",
    "r=float (r)\n",
    "Area=3.14*(r**2)\n",
    "print ('\\nArea: %s\\n' %Area)\n",
    "Circumference=2*3.14*r\n",
    "print ('Circumference: %s' %Circumference)\n"
   ]
  },
  {
   "cell_type": "code",
   "execution_count": 45,
   "id": "b7bcecd0",
   "metadata": {
    "scrolled": true
   },
   "outputs": [
    {
     "name": "stdout",
     "output_type": "stream",
     "text": [
      "Current hour: 3\n",
      "Error. Next time enter an hour in integer form\n",
      "Error. Next time enter an hour in integer form\n",
      "Error. Next time enter an hour in integer form\n",
      "Error. Next time enter an hour in integer form\n",
      "Error. Next time enter an hour in integer form\n",
      "Error. Next time enter an hour in integer form\n",
      "Error. Next time enter an hour in integer form\n",
      "Error. Next time enter an hour in integer form\n",
      "Error. Next time enter an hour in integer form\n",
      "Error. Next time enter an hour in integer form\n",
      "Error. Next time enter an hour in integer form\n",
      "Error. Next time enter an hour in integer form\n",
      "Error. Next time enter an hour in integer form\n",
      "Error. Next time enter an hour in integer form\n",
      "Error. Next time enter an hour in integer form\n",
      "Error. Next time enter an hour in integer form\n",
      "Error. Next time enter an hour in integer form\n",
      "Error. Next time enter an hour in integer form\n",
      "Error. Next time enter an hour in integer form\n",
      "Error. Next time enter an hour in integer form\n",
      "Error. Next time enter an hour in integer form\n",
      "Error. Next time enter an hour in integer form\n",
      "Error. Next time enter an hour in integer form\n",
      "Error. Next time enter an hour in integer form\n"
     ]
    }
   ],
   "source": [
    "hour=input('Current hour: ')\n",
    "for clock in range(24):\n",
    "        #print (clock)\n",
    "    if hour!= range(24):\n",
    "        print ('Error. Next time enter an hour in integer form')\n",
    "    "
   ]
  },
  {
   "cell_type": "code",
   "execution_count": 46,
   "id": "88e24b3f",
   "metadata": {},
   "outputs": [
    {
     "name": "stdout",
     "output_type": "stream",
     "text": [
      "tell me some words\n",
      "bag three light door bag two\n",
      "['bag', 'three', 'light', 'door', 'bag', 'two']\n"
     ]
    }
   ],
   "source": [
    "words = input('tell me some words\\n').split(' ')\n",
    "print(words)"
   ]
  },
  {
   "cell_type": "code",
   "execution_count": 47,
   "id": "27f8113d",
   "metadata": {},
   "outputs": [
    {
     "name": "stdout",
     "output_type": "stream",
     "text": [
      "tell me some numbers\n",
      "5 2 1 6 4 6\n",
      "['5', '2', '1', '6', '4', '6']\n"
     ]
    }
   ],
   "source": [
    "numbers = input('tell me some numbers\\n').split(' ')\n",
    "print(numbers)"
   ]
  },
  {
   "cell_type": "code",
   "execution_count": 48,
   "id": "8a160e43",
   "metadata": {},
   "outputs": [
    {
     "name": "stdout",
     "output_type": "stream",
     "text": [
      "tell me some numbers\n",
      "1234353736\n",
      "['1234353736']\n"
     ]
    }
   ],
   "source": [
    "numbers = input('tell me some numbers\\n').split(' ')\n",
    "print(numbers)"
   ]
  },
  {
   "cell_type": "code",
   "execution_count": 49,
   "id": "f61c6847",
   "metadata": {},
   "outputs": [
    {
     "ename": "ModuleNotFoundError",
     "evalue": "No module named 'Numpy'",
     "output_type": "error",
     "traceback": [
      "\u001b[1;31m---------------------------------------------------------------------------\u001b[0m",
      "\u001b[1;31mModuleNotFoundError\u001b[0m                       Traceback (most recent call last)",
      "Input \u001b[1;32mIn [49]\u001b[0m, in \u001b[0;36m<cell line: 1>\u001b[1;34m()\u001b[0m\n\u001b[1;32m----> 1\u001b[0m \u001b[38;5;28;01mimport\u001b[39;00m \u001b[38;5;21;01mNumpy\u001b[39;00m\n",
      "\u001b[1;31mModuleNotFoundError\u001b[0m: No module named 'Numpy'"
     ]
    }
   ],
   "source": [
    "import Numpy"
   ]
  },
  {
   "cell_type": "code",
   "execution_count": 53,
   "id": "d7e0e72f",
   "metadata": {
    "scrolled": false
   },
   "outputs": [
    {
     "ename": "SyntaxError",
     "evalue": "invalid syntax (2081369078.py, line 2)",
     "output_type": "error",
     "traceback": [
      "\u001b[1;36m  Input \u001b[1;32mIn [53]\u001b[1;36m\u001b[0m\n\u001b[1;33m    [number[0:4]=input('Enter 5 numbers separated by space ').split()\u001b[0m\n\u001b[1;37m                ^\u001b[0m\n\u001b[1;31mSyntaxError\u001b[0m\u001b[1;31m:\u001b[0m invalid syntax\n"
     ]
    }
   ],
   "source": [
    "#number1, number2, number3, number4, number5=input('Enter 5 numbers separated by space ').split()\n",
    "[number[0:4]=input('Enter 5 numbers separated by space ').split()"
   ]
  },
  {
   "cell_type": "code",
   "execution_count": 54,
   "id": "965e439d",
   "metadata": {},
   "outputs": [
    {
     "name": "stdout",
     "output_type": "stream",
     "text": [
      "Enter some words separated by space dos uno frwexfq adios hola\n"
     ]
    },
    {
     "ename": "ValueError",
     "evalue": "too many values to unpack (expected 1)",
     "output_type": "error",
     "traceback": [
      "\u001b[1;31m---------------------------------------------------------------------------\u001b[0m",
      "\u001b[1;31mValueError\u001b[0m                                Traceback (most recent call last)",
      "Input \u001b[1;32mIn [54]\u001b[0m, in \u001b[0;36m<cell line: 1>\u001b[1;34m()\u001b[0m\n\u001b[1;32m----> 1\u001b[0m [list_of_strings]\u001b[38;5;241m=\u001b[39m\u001b[38;5;28minput\u001b[39m(\u001b[38;5;124m'\u001b[39m\u001b[38;5;124mEnter some words separated by space \u001b[39m\u001b[38;5;124m'\u001b[39m)\u001b[38;5;241m.\u001b[39msplit()\n\u001b[0;32m      2\u001b[0m \u001b[38;5;28mprint\u001b[39m(\u001b[38;5;28mlen\u001b[39m[list_of_strings])\n",
      "\u001b[1;31mValueError\u001b[0m: too many values to unpack (expected 1)"
     ]
    }
   ],
   "source": [
    "[list_of_strings]=input('Enter some words separated by space ').split()\n",
    "print(len[list_of_strings])"
   ]
  },
  {
   "cell_type": "code",
   "execution_count": 58,
   "id": "85b55dd6",
   "metadata": {},
   "outputs": [
    {
     "name": "stdout",
     "output_type": "stream",
     "text": [
      "Current hour: 2\n",
      "It is sleeping time\n"
     ]
    }
   ],
   "source": [
    "hour=input('Current hour: ')\n",
    "hour=int(hour)\n",
    "#for hour in [0, 1, 2, 3, 4, 5, 6, 7, 8, 9, 10, 11, 12, 13, 14, 15, 16, 17, 18, 19, 20, 21, 22, 23]:\n",
    "if hour>=0 and hour<24:    \n",
    "    if hour>=7 and hour<=11:\n",
    "        print ('It is breakfast time')\n",
    "    elif hour>=12 and hour<=16:\n",
    "        print ('It is lunch time')\n",
    "    elif hour>=17 and hour<=22:\n",
    "        print ('It is dinner time')\n",
    "    else:\n",
    "        print ('It is sleeping time')\n",
    "\n",
    "else:\n",
    "    print ('Error')\n",
    "        \n",
    "#hour=input('Current hour: ')       if error is input how to?\n",
    "#for clock in range(24):\n",
    "        #print (clock)\n",
    "#    if hour!= range(24):\n",
    "#        print ('Error. Next time enter an hour in integer form')\n",
    "#    return\n",
    "#    else:\n",
    "#        hour=int(hour)\n",
    "#            if hour>=7 and hour<=11:\n",
    " #               print ('It is breakfast time')\n",
    "  #          elif hour>=12 and hour<=16:\n",
    "   #             print ('It is lunch time')\n",
    "    #        elif hour>=17 and hour<=22:\n",
    "     #           print ('It is dinner time')\n",
    "           # else:\n",
    "#                print ('It is sleeping time')\n"
   ]
  },
  {
   "cell_type": "code",
   "execution_count": 62,
   "id": "03dddbe7",
   "metadata": {},
   "outputs": [
    {
     "ename": "NameError",
     "evalue": "name 'h' is not defined",
     "output_type": "error",
     "traceback": [
      "\u001b[1;31m---------------------------------------------------------------------------\u001b[0m",
      "\u001b[1;31mNameError\u001b[0m                                 Traceback (most recent call last)",
      "Input \u001b[1;32mIn [62]\u001b[0m, in \u001b[0;36m<cell line: 1>\u001b[1;34m()\u001b[0m\n\u001b[1;32m----> 1\u001b[0m x\u001b[38;5;241m=\u001b[39m\u001b[38;5;28mint\u001b[39m(\u001b[43mh\u001b[49m)\n\u001b[0;32m      2\u001b[0m \u001b[38;5;28mprint\u001b[39m (x)\n",
      "\u001b[1;31mNameError\u001b[0m: name 'h' is not defined"
     ]
    }
   ],
   "source": [
    "x=int(h)\n",
    "print (x)\n"
   ]
  },
  {
   "cell_type": "code",
   "execution_count": 100,
   "id": "c75b4f65",
   "metadata": {},
   "outputs": [
    {
     "name": "stdout",
     "output_type": "stream",
     "text": [
      "Current hour: 24\n"
     ]
    }
   ],
   "source": [
    "#Task4\n",
    "\n",
    "hour=input('Current hour: ')\n",
    "#checkinput = isinstance(hour, (float, int)) #boolean to check input type\n",
    "#print(isinstance(hour, (float, int)))\n",
    "#if checkinput==True:\n",
    " #   print('yes')\n",
    "\n",
    "#if (isinstance(hour, int))==True:\n",
    "    hour=int(hour)\n",
    "    if hour>=0 and hour<24:    \n",
    "#if hour in range(24):\n",
    "    if hour>=7 and hour<=11:\n",
    "        print ('It is breakfast time')\n",
    "    elif hour>=12 and hour<=16:\n",
    "        print ('It is lunch time')\n",
    "    elif hour>=17 and hour<=22:\n",
    "        print ('It is dinner time')\n",
    "    else:\n",
    "        print ('It is sleeping time')\n",
    "#    else:\n",
    "#        print ('Error')\n",
    "#else:\n",
    "#    print ('Error')"
   ]
  },
  {
   "cell_type": "code",
   "execution_count": 92,
   "id": "906b4370",
   "metadata": {},
   "outputs": [
    {
     "name": "stdout",
     "output_type": "stream",
     "text": [
      "1\n",
      "2\n",
      "3\n"
     ]
    }
   ],
   "source": [
    "#\n",
    "i = 1\n",
    "while i < 6:\n",
    "  print(i)\n",
    "  if i == 3:\n",
    "    break\n",
    "  i += 1"
   ]
  },
  {
   "cell_type": "code",
   "execution_count": 97,
   "id": "5083c934",
   "metadata": {},
   "outputs": [
    {
     "name": "stdout",
     "output_type": "stream",
     "text": [
      "[0, 1, 2, 3, 4, 5, 6, 7, 8, 9, 10, 11, 12, 13, 14, 15, 16, 17, 18, 19, 20, 21, 22, 23]\n"
     ]
    }
   ],
   "source": [
    "hour=23\n",
    "if hour in range(24):\n",
    "   # print (hour\n",
    "           print(list(range(24)))"
   ]
  },
  {
   "cell_type": "code",
   "execution_count": 103,
   "id": "6de378a0",
   "metadata": {},
   "outputs": [
    {
     "name": "stdout",
     "output_type": "stream",
     "text": [
      "Current hour: h\n"
     ]
    },
    {
     "ename": "ValueError",
     "evalue": "invalid literal for int() with base 10: 'h'",
     "output_type": "error",
     "traceback": [
      "\u001b[1;31m---------------------------------------------------------------------------\u001b[0m",
      "\u001b[1;31mValueError\u001b[0m                                Traceback (most recent call last)",
      "Input \u001b[1;32mIn [103]\u001b[0m, in \u001b[0;36m<cell line: 2>\u001b[1;34m()\u001b[0m\n\u001b[0;32m      1\u001b[0m hour\u001b[38;5;241m=\u001b[39m\u001b[38;5;28minput\u001b[39m(\u001b[38;5;124m'\u001b[39m\u001b[38;5;124mCurrent hour: \u001b[39m\u001b[38;5;124m'\u001b[39m)\n\u001b[1;32m----> 2\u001b[0m hour\u001b[38;5;241m=\u001b[39m\u001b[38;5;28;43mint\u001b[39;49m\u001b[43m(\u001b[49m\u001b[43mhour\u001b[49m\u001b[43m)\u001b[49m\n\u001b[0;32m      3\u001b[0m checkinput \u001b[38;5;241m=\u001b[39m \u001b[38;5;28misinstance\u001b[39m(hour, (\u001b[38;5;28mint\u001b[39m)) \u001b[38;5;66;03m#boolean to check input type\u001b[39;00m\n\u001b[0;32m      4\u001b[0m \u001b[38;5;28mprint\u001b[39m(\u001b[38;5;28misinstance\u001b[39m(hour, (\u001b[38;5;28mint\u001b[39m)))\n",
      "\u001b[1;31mValueError\u001b[0m: invalid literal for int() with base 10: 'h'"
     ]
    }
   ],
   "source": [
    "hour=input('Current hour: ')\n",
    "hour=int(hour)\n",
    "checkinput = isinstance(hour, (int)) #boolean to check input type\n",
    "print(isinstance(hour, (int)))"
   ]
  },
  {
   "cell_type": "code",
   "execution_count": 107,
   "id": "7f2f69b9",
   "metadata": {},
   "outputs": [
    {
     "name": "stdout",
     "output_type": "stream",
     "text": [
      "Enter 5 numbers separated by space 1 2 3 4 5\n",
      "1\n",
      "<class 'str'>\n"
     ]
    }
   ],
   "source": [
    "#name, age, marks = input(\"Enter your Name, Age, Percentage separated by space \").split()\n",
    "number1, number2, number3, number4, number5=input('Enter 5 numbers separated by space ').split()\n",
    "print (number1)\n",
    "print(type(number1))"
   ]
  },
  {
   "cell_type": "code",
   "execution_count": 122,
   "id": "58263dd1",
   "metadata": {},
   "outputs": [
    {
     "name": "stdout",
     "output_type": "stream",
     "text": [
      "Enter 5 numbers separated by space 2 4 6 8 1\n",
      "2\n",
      "4\n",
      "6\n",
      "8\n",
      "1\n"
     ]
    },
    {
     "ename": "IndexError",
     "evalue": "list index out of range",
     "output_type": "error",
     "traceback": [
      "\u001b[1;31m---------------------------------------------------------------------------\u001b[0m",
      "\u001b[1;31mIndexError\u001b[0m                                Traceback (most recent call last)",
      "Input \u001b[1;32mIn [122]\u001b[0m, in \u001b[0;36m<cell line: 11>\u001b[1;34m()\u001b[0m\n\u001b[0;32m     10\u001b[0m i\u001b[38;5;241m=\u001b[39m\u001b[38;5;241m0\u001b[39m\n\u001b[0;32m     11\u001b[0m \u001b[38;5;28;01mwhile\u001b[39;00m i \u001b[38;5;241m<\u001b[39m \u001b[38;5;241m6\u001b[39m:\n\u001b[1;32m---> 12\u001b[0m     \u001b[38;5;28mprint\u001b[39m(\u001b[43mnumber\u001b[49m\u001b[43m[\u001b[49m\u001b[43mi\u001b[49m\u001b[43m]\u001b[49m)\n\u001b[0;32m     13\u001b[0m     i \u001b[38;5;241m+\u001b[39m\u001b[38;5;241m=\u001b[39m \u001b[38;5;241m1\u001b[39m\n",
      "\u001b[1;31mIndexError\u001b[0m: list index out of range"
     ]
    }
   ],
   "source": [
    "#Task 5\n",
    "number1, number2, number3, number4, number5=input('Enter 5 numbers separated by space ').split()\n",
    "number1=int(number1)\n",
    "number2=int(number2)\n",
    "number3=int(number3)\n",
    "number4=int(number4)\n",
    "number5=int(number5)\n",
    "number=[number1, number2, number3, number4, number5]\n",
    "\n",
    "i=0\n",
    "while i < 6:\n",
    "    print(number[i])\n",
    "    i += 1"
   ]
  },
  {
   "cell_type": "code",
   "execution_count": 121,
   "id": "fd57e5a1",
   "metadata": {},
   "outputs": [
    {
     "name": "stdout",
     "output_type": "stream",
     "text": [
      "Enter 5 numbers separated by space 2 4 6 8 9\n",
      "[2, 4, 6, 8, 9]\n",
      "6\n",
      "4\n"
     ]
    }
   ],
   "source": [
    "#Task 5\n",
    "number1, number2, number3, number4, number5=input('Enter 5 numbers separated by space ').split()\n",
    "number1=int(number1)\n",
    "number2=int(number2)\n",
    "number3=int(number3)\n",
    "number4=int(number4)\n",
    "number5=int(number5)\n",
    "number=[number1, number2, number3, number4, number5]\n",
    "print(number)\n",
    "print(number[2])\n",
    "print(number[1])"
   ]
  },
  {
   "cell_type": "code",
   "execution_count": 130,
   "id": "b642541e",
   "metadata": {},
   "outputs": [
    {
     "name": "stdout",
     "output_type": "stream",
     "text": [
      "Enter 5 numbers separated by space 2 4 6 8 9\n",
      "2\n",
      "4\n",
      "6\n",
      "8\n",
      "9\n"
     ]
    },
    {
     "ename": "IndexError",
     "evalue": "list index out of range",
     "output_type": "error",
     "traceback": [
      "\u001b[1;31m---------------------------------------------------------------------------\u001b[0m",
      "\u001b[1;31mIndexError\u001b[0m                                Traceback (most recent call last)",
      "Input \u001b[1;32mIn [130]\u001b[0m, in \u001b[0;36m<cell line: 11>\u001b[1;34m()\u001b[0m\n\u001b[0;32m     10\u001b[0m i\u001b[38;5;241m=\u001b[39m\u001b[38;5;241m0\u001b[39m\n\u001b[0;32m     11\u001b[0m \u001b[38;5;28;01mwhile\u001b[39;00m i \u001b[38;5;241m<\u001b[39m \u001b[38;5;241m6\u001b[39m:\n\u001b[0;32m     12\u001b[0m     \u001b[38;5;66;03m#print(number[i])\u001b[39;00m\n\u001b[0;32m     13\u001b[0m     \u001b[38;5;66;03m#if number[i]<10:\u001b[39;00m\n\u001b[0;32m     14\u001b[0m      \u001b[38;5;66;03m#   break\u001b[39;00m\n\u001b[0;32m     15\u001b[0m     \u001b[38;5;66;03m#i += 1\u001b[39;00m\n\u001b[1;32m---> 16\u001b[0m     \u001b[38;5;28;01mif\u001b[39;00m \u001b[43mnumber\u001b[49m\u001b[43m[\u001b[49m\u001b[43mi\u001b[49m\u001b[43m]\u001b[49m \u001b[38;5;241m>\u001b[39m \u001b[38;5;241m100\u001b[39m:\n\u001b[0;32m     17\u001b[0m         \u001b[38;5;28;01mpass\u001b[39;00m \u001b[38;5;66;03m#or break?\u001b[39;00m\n\u001b[0;32m     18\u001b[0m     \u001b[38;5;28;01melse\u001b[39;00m:\n",
      "\u001b[1;31mIndexError\u001b[0m: list index out of range"
     ]
    }
   ],
   "source": [
    "#Task 5\n",
    "number1, number2, number3, number4, number5=input('Enter 5 numbers separated by space ').split()\n",
    "number1=int(number1)\n",
    "number2=int(number2)\n",
    "number3=int(number3)\n",
    "number4=int(number4)\n",
    "number5=int(number5)\n",
    "number=[number1, number2, number3, number4, number5]\n",
    "\n",
    "i=0\n",
    "while i < 6:\n",
    "    #print(number[i])\n",
    "    #if number[i]<10:\n",
    "     #   break\n",
    "    #i += 1\n",
    "    if number[i] > 100:\n",
    "        pass #or break?\n",
    "    else:\n",
    "        print(number[i])\n",
    "    i += 1"
   ]
  },
  {
   "cell_type": "code",
   "execution_count": 140,
   "id": "0949b3a8",
   "metadata": {
    "scrolled": true
   },
   "outputs": [
    {
     "name": "stdout",
     "output_type": "stream",
     "text": [
      "Enter 5 numbers separated by space 25 43 14 101 2\n",
      "25\n",
      "43\n",
      "14\n",
      "101\n"
     ]
    }
   ],
   "source": [
    "number1, number2, number3, number4, number5=input('Enter 5 numbers separated by space ').split()\n",
    "number1=int(number1)\n",
    "number2=int(number2)\n",
    "number3=int(number3)\n",
    "number4=int(number4)\n",
    "number5=int(number5)\n",
    "number=[number1, number2, number3, number4, number5]\n",
    "\n",
    "i=0\n",
    "while i < 6:\n",
    "    #print(number[i])\n",
    "    if number[i]<10:\n",
    "        break\n",
    "    else:\n",
    "        print(number[i])\n",
    "    i += 1#"
   ]
  },
  {
   "cell_type": "code",
   "execution_count": 2,
   "id": "2a2715ac",
   "metadata": {
    "scrolled": true
   },
   "outputs": [
    {
     "name": "stdout",
     "output_type": "stream",
     "text": [
      "Enter 5 numbers separated by space 34 45 2 89 101\n",
      "34\n",
      "45\n"
     ]
    }
   ],
   "source": [
    "number1, number2, number3, number4, number5=input('Enter 5 numbers separated by space ').split()\n",
    "number1=int(number1)\n",
    "number2=int(number2)\n",
    "number3=int(number3)\n",
    "number4=int(number4)\n",
    "number5=int(number5)\n",
    "number=[number1, number2, number3, number4, number5]\n",
    "\n",
    "i=0\n",
    "while i < 6:\n",
    "    if number[i]<10:\n",
    "        pass    # creates empty space for future and nothing happens now\n",
    "        i += 1    # if activating this, the next line appears invalid. Why?\n",
    "    elif number[i]>100:\n",
    "        break \n",
    "    else:\n",
    "        print(number[i])\n",
    "    i += 1"
   ]
  },
  {
   "cell_type": "code",
   "execution_count": 163,
   "id": "cd7f43d1",
   "metadata": {},
   "outputs": [
    {
     "ename": "KeyboardInterrupt",
     "evalue": "Interrupted by user",
     "output_type": "error",
     "traceback": [
      "\u001b[1;31m---------------------------------------------------------------------------\u001b[0m",
      "\u001b[1;31mKeyboardInterrupt\u001b[0m                         Traceback (most recent call last)",
      "Input \u001b[1;32mIn [163]\u001b[0m, in \u001b[0;36m<cell line: 1>\u001b[1;34m()\u001b[0m\n\u001b[1;32m----> 1\u001b[0m words \u001b[38;5;241m=\u001b[39m \u001b[38;5;28;43minput\u001b[39;49m\u001b[43m(\u001b[49m\u001b[38;5;124;43m'\u001b[39;49m\u001b[38;5;124;43mtell me some words\u001b[39;49m\u001b[38;5;130;43;01m\\n\u001b[39;49;00m\u001b[38;5;124;43m'\u001b[39;49m\u001b[43m)\u001b[49m\u001b[38;5;241m.\u001b[39msplit(\u001b[38;5;124m'\u001b[39m\u001b[38;5;124m \u001b[39m\u001b[38;5;124m'\u001b[39m)\n\u001b[0;32m      2\u001b[0m \u001b[38;5;28mprint\u001b[39m(words)\n\u001b[0;32m      3\u001b[0m wordslist\u001b[38;5;241m=\u001b[39m[words]\n",
      "File \u001b[1;32m~\\anaconda3\\lib\\site-packages\\ipykernel\\kernelbase.py:1075\u001b[0m, in \u001b[0;36mKernel.raw_input\u001b[1;34m(self, prompt)\u001b[0m\n\u001b[0;32m   1071\u001b[0m \u001b[38;5;28;01mif\u001b[39;00m \u001b[38;5;129;01mnot\u001b[39;00m \u001b[38;5;28mself\u001b[39m\u001b[38;5;241m.\u001b[39m_allow_stdin:\n\u001b[0;32m   1072\u001b[0m     \u001b[38;5;28;01mraise\u001b[39;00m StdinNotImplementedError(\n\u001b[0;32m   1073\u001b[0m         \u001b[38;5;124m\"\u001b[39m\u001b[38;5;124mraw_input was called, but this frontend does not support input requests.\u001b[39m\u001b[38;5;124m\"\u001b[39m\n\u001b[0;32m   1074\u001b[0m     )\n\u001b[1;32m-> 1075\u001b[0m \u001b[38;5;28;01mreturn\u001b[39;00m \u001b[38;5;28;43mself\u001b[39;49m\u001b[38;5;241;43m.\u001b[39;49m\u001b[43m_input_request\u001b[49m\u001b[43m(\u001b[49m\n\u001b[0;32m   1076\u001b[0m \u001b[43m    \u001b[49m\u001b[38;5;28;43mstr\u001b[39;49m\u001b[43m(\u001b[49m\u001b[43mprompt\u001b[49m\u001b[43m)\u001b[49m\u001b[43m,\u001b[49m\n\u001b[0;32m   1077\u001b[0m \u001b[43m    \u001b[49m\u001b[38;5;28;43mself\u001b[39;49m\u001b[38;5;241;43m.\u001b[39;49m\u001b[43m_parent_ident\u001b[49m\u001b[43m[\u001b[49m\u001b[38;5;124;43m\"\u001b[39;49m\u001b[38;5;124;43mshell\u001b[39;49m\u001b[38;5;124;43m\"\u001b[39;49m\u001b[43m]\u001b[49m\u001b[43m,\u001b[49m\n\u001b[0;32m   1078\u001b[0m \u001b[43m    \u001b[49m\u001b[38;5;28;43mself\u001b[39;49m\u001b[38;5;241;43m.\u001b[39;49m\u001b[43mget_parent\u001b[49m\u001b[43m(\u001b[49m\u001b[38;5;124;43m\"\u001b[39;49m\u001b[38;5;124;43mshell\u001b[39;49m\u001b[38;5;124;43m\"\u001b[39;49m\u001b[43m)\u001b[49m\u001b[43m,\u001b[49m\n\u001b[0;32m   1079\u001b[0m \u001b[43m    \u001b[49m\u001b[43mpassword\u001b[49m\u001b[38;5;241;43m=\u001b[39;49m\u001b[38;5;28;43;01mFalse\u001b[39;49;00m\u001b[43m,\u001b[49m\n\u001b[0;32m   1080\u001b[0m \u001b[43m\u001b[49m\u001b[43m)\u001b[49m\n",
      "File \u001b[1;32m~\\anaconda3\\lib\\site-packages\\ipykernel\\kernelbase.py:1120\u001b[0m, in \u001b[0;36mKernel._input_request\u001b[1;34m(self, prompt, ident, parent, password)\u001b[0m\n\u001b[0;32m   1117\u001b[0m             \u001b[38;5;28;01mbreak\u001b[39;00m\n\u001b[0;32m   1118\u001b[0m \u001b[38;5;28;01mexcept\u001b[39;00m \u001b[38;5;167;01mKeyboardInterrupt\u001b[39;00m:\n\u001b[0;32m   1119\u001b[0m     \u001b[38;5;66;03m# re-raise KeyboardInterrupt, to truncate traceback\u001b[39;00m\n\u001b[1;32m-> 1120\u001b[0m     \u001b[38;5;28;01mraise\u001b[39;00m \u001b[38;5;167;01mKeyboardInterrupt\u001b[39;00m(\u001b[38;5;124m\"\u001b[39m\u001b[38;5;124mInterrupted by user\u001b[39m\u001b[38;5;124m\"\u001b[39m) \u001b[38;5;28;01mfrom\u001b[39;00m \u001b[38;5;28mNone\u001b[39m\n\u001b[0;32m   1121\u001b[0m \u001b[38;5;28;01mexcept\u001b[39;00m \u001b[38;5;167;01mException\u001b[39;00m:\n\u001b[0;32m   1122\u001b[0m     \u001b[38;5;28mself\u001b[39m\u001b[38;5;241m.\u001b[39mlog\u001b[38;5;241m.\u001b[39mwarning(\u001b[38;5;124m\"\u001b[39m\u001b[38;5;124mInvalid Message:\u001b[39m\u001b[38;5;124m\"\u001b[39m, exc_info\u001b[38;5;241m=\u001b[39m\u001b[38;5;28;01mTrue\u001b[39;00m)\n",
      "\u001b[1;31mKeyboardInterrupt\u001b[0m: Interrupted by user"
     ]
    }
   ],
   "source": [
    "words = input('tell me some words\\n').split(' ')\n",
    "print(words)\n",
    "wordslist=[words]\n",
    "amount=len((wordslist))\n",
    "print (amount)\n",
    "\n",
    "i=0\n",
    "while i<amount:\n",
    "   # if wordslist[i]==wordslist[i+=1]:\n",
    "        print(wordslist[i])"
   ]
  },
  {
   "cell_type": "code",
   "execution_count": 159,
   "id": "ed5facef",
   "metadata": {},
   "outputs": [
    {
     "name": "stdout",
     "output_type": "stream",
     "text": [
      "3\n"
     ]
    }
   ],
   "source": [
    "thislist = [\"apple\", \"banana\", \"cherry\"]\n",
    "print(len(thislist))"
   ]
  },
  {
   "cell_type": "code",
   "execution_count": null,
   "id": "62a1272c",
   "metadata": {},
   "outputs": [],
   "source": []
  }
 ],
 "metadata": {
  "kernelspec": {
   "display_name": "Python 3 (ipykernel)",
   "language": "python",
   "name": "python3"
  },
  "language_info": {
   "codemirror_mode": {
    "name": "ipython",
    "version": 3
   },
   "file_extension": ".py",
   "mimetype": "text/x-python",
   "name": "python",
   "nbconvert_exporter": "python",
   "pygments_lexer": "ipython3",
   "version": "3.9.12"
  }
 },
 "nbformat": 4,
 "nbformat_minor": 5
}
